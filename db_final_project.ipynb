{
 "cells": [
  {
   "cell_type": "markdown",
   "metadata": {
    "toc": true
   },
   "source": [
    "<h1>Оглавление.<span class=\"tocSkip\"></span></h1>\n",
    "<div class=\"toc\"><ul class=\"toc-item\"><li><span><a href=\"#Анализ-базы-данных-сервиса-для-чтения-книг.\" data-toc-modified-id=\"Анализ-базы-данных-сервиса-для-чтения-книг.-1\">Анализ базы данных сервиса для чтения книг.</a></span><ul class=\"toc-item\"><li><span><a href=\"#1.-Описание-данных.\" data-toc-modified-id=\"1.-Описание-данных.-1.1\">1. Описание данных.</a></span></li><li><span><a href=\"#2.-Ознакомление-с-данными.\" data-toc-modified-id=\"2.-Ознакомление-с-данными.-1.2\">2. Ознакомление с данными.</a></span></li></ul></li><li><span><a href=\"#3.-Выполнения-заданий.\" data-toc-modified-id=\"3.-Выполнения-заданий.-2\">3. Выполнения заданий.</a></span><ul class=\"toc-item\"><li><ul class=\"toc-item\"><li><span><a href=\"#3.1.-Посчитайте,-сколько-книг-вышло-после-1-января-2000-года.\" data-toc-modified-id=\"3.1.-Посчитайте,-сколько-книг-вышло-после-1-января-2000-года.-2.0.1\">3.1. Посчитайте, сколько книг вышло после 1 января 2000 года.</a></span></li><li><span><a href=\"#3.2.-Для-каждой-книги-посчитайте-количество-обзоров-и-среднюю-оценку.\" data-toc-modified-id=\"3.2.-Для-каждой-книги-посчитайте-количество-обзоров-и-среднюю-оценку.-2.0.2\">3.2. Для каждой книги посчитайте количество обзоров и среднюю оценку.</a></span></li><li><span><a href=\"#3.3.-Определите-издательство,-которое-выпустило-наибольшее-число-книг-толще-50-страниц-—-так-вы-исключите-из-анализа-брошюры.\" data-toc-modified-id=\"3.3.-Определите-издательство,-которое-выпустило-наибольшее-число-книг-толще-50-страниц-—-так-вы-исключите-из-анализа-брошюры.-2.0.3\">3.3. Определите издательство, которое выпустило наибольшее число книг толще 50 страниц — так вы исключите из анализа брошюры.</a></span></li><li><span><a href=\"#3.4.-Определите-автора-с-самой-высокой-средней-оценкой-книг-—-учитывайте-только-книги-с-50-и-более-оценками.\" data-toc-modified-id=\"3.4.-Определите-автора-с-самой-высокой-средней-оценкой-книг-—-учитывайте-только-книги-с-50-и-более-оценками.-2.0.4\">3.4. Определите автора с самой высокой средней оценкой книг — учитывайте только книги с 50 и более оценками.</a></span></li><li><span><a href=\"#3.5.-Посчитайте-среднее-количество-обзоров-от-пользователей,-которые-поставили-больше-50-оценок.\" data-toc-modified-id=\"3.5.-Посчитайте-среднее-количество-обзоров-от-пользователей,-которые-поставили-больше-50-оценок.-2.0.5\">3.5. Посчитайте среднее количество обзоров от пользователей, которые поставили больше 50 оценок.</a></span></li></ul></li><li><span><a href=\"#Вывод.\" data-toc-modified-id=\"Вывод.-2.1\">Вывод.</a></span><ul class=\"toc-item\"><li><span><a href=\"#Чек-лист-доработок-\" data-toc-modified-id=\"Чек-лист-доработок--2.1.1\">Чек-лист доработок </a></span></li></ul></li></ul></li></ul></div>"
   ]
  },
  {
   "cell_type": "markdown",
   "metadata": {},
   "source": [
    "# Анализ базы данных сервиса для чтения книг."
   ]
  },
  {
   "cell_type": "markdown",
   "metadata": {},
   "source": [
    "Коронавирус застал мир врасплох, изменив привычный порядок вещей. В свободное время жители городов больше не выходят на улицу, не посещают кафе и торговые центры. Зато стало больше времени для книг. Это заметили стартаперы — и бросились создавать приложения для тех, кто любит читать.\n",
    "\n",
    "Ваша компания решила быть на волне и купила крупный сервис для чтения книг по подписке. Ваша первая задача как аналитика — проанализировать базу данных.\n",
    "В ней — информация о книгах, издательствах, авторах, а также пользовательские обзоры книг. Эти данные помогут сформулировать ценностное предложение для нового продукта.\n",
    "\n",
    "**Задания**\n",
    "- Посчитайте, сколько книг вышло после 1 января 2000 года;\n",
    "- Для каждой книги посчитайте количество обзоров и среднюю оценку;\n",
    "- Определите издательство, которое выпустило наибольшее число книг толще 50 страниц — так вы исключите из анализа брошюры;\n",
    "- Определите автора с самой высокой средней оценкой книг — учитывайте только книги с 50 и более оценками;\n",
    "- Посчитайте среднее количество обзоров от пользователей, которые поставили больше 50 оценок."
   ]
  },
  {
   "cell_type": "markdown",
   "metadata": {},
   "source": [
    "## 1. Описание данных."
   ]
  },
  {
   "cell_type": "markdown",
   "metadata": {},
   "source": [
    "**Таблица `books`**\n",
    "\n",
    "Содержит данные о книгах:\n",
    "\n",
    "- `book_id` — идентификатор книги;\n",
    "- `author_id` — идентификатор автора;\n",
    "- `title` — название книги;\n",
    "- `num_pages` — количество страниц;\n",
    "- `publication_date` — дата публикации книги;\n",
    "- `publisher_id` — идентификатор издателя.\n",
    "\n",
    "**Таблица `authors`**\n",
    "\n",
    "Содержит данные об авторах:\n",
    "\n",
    "- `author_id` — идентификатор автора;\n",
    "- `author` — имя автора.\n",
    "\n",
    "**Таблица `publishers`**\n",
    "\n",
    "Содержит данные об издательствах:\n",
    "\n",
    "- `publisher_id` — идентификатор издательства;\n",
    "- `publisher` — название издательства;\n",
    "\n",
    "**Таблица `ratings`**\n",
    "\n",
    "Содержит данные о пользовательских оценках книг:\n",
    "\n",
    "- `rating_id` — идентификатор оценки;\n",
    "- `book_id` — идентификатор книги;\n",
    "- `username` — имя пользователя, оставившего оценку;\n",
    "- `rating` — оценка книги.\n",
    "\n",
    "**Таблица `reviews`**\n",
    "\n",
    "Содержит данные о пользовательских обзорах на книги:\n",
    "\n",
    "- `review_id` — идентификатор обзора;\n",
    "- `book_id` — идентификатор книги;\n",
    "- `username` — имя пользователя, написавшего обзор;\n",
    "- `text` — текст обзора."
   ]
  },
  {
   "cell_type": "markdown",
   "metadata": {},
   "source": [
    "**Как выполнить задание?**\n",
    "\n",
    "- Опишите цели исследования;\n",
    "- Исследуйте таблицы — выведите первые строки;\n",
    "- Сделайте по одному SQL-запросу для решения каждого задания;\n",
    "- Выведите результат каждого запроса в тетрадке;\n",
    "- Опишите выводы по каждой из решённых задач."
   ]
  },
  {
   "cell_type": "markdown",
   "metadata": {},
   "source": [
    "## 2. Ознакомление с данными."
   ]
  },
  {
   "cell_type": "code",
   "execution_count": 1,
   "metadata": {},
   "outputs": [],
   "source": [
    "# импортируем библиотеки\n",
    "import pandas as pd\n",
    "import numpy as np\n",
    "from sqlalchemy import create_engine"
   ]
  },
  {
   "cell_type": "code",
   "execution_count": 2,
   "metadata": {},
   "outputs": [],
   "source": [
    "# устанавливаем параметры\n",
    "db_config = {'user': 'praktikum_student', # имя пользователя\n",
    "             'pwd': 'Sdf4$2;d-d30pp', # пароль\n",
    "             'host': 'rc1b-wcoijxj3yxfsf3fs.mdb.yandexcloud.net',\n",
    "             'port': 6432, # порт подключения\n",
    "             'db': 'data-analyst-final-project-db'} # название базы данных"
   ]
  },
  {
   "cell_type": "code",
   "execution_count": 3,
   "metadata": {},
   "outputs": [],
   "source": [
    "con = create_engine('postgresql+psycopg2://{}:{}@{}:{}/{}'.format(db_config['user'],\n",
    "                                                         db_config['pwd'],\n",
    "                                                         db_config['host'],\n",
    "                                                         db_config['port'],\n",
    "                                                         db_config['db']))"
   ]
  },
  {
   "cell_type": "code",
   "execution_count": 4,
   "metadata": {},
   "outputs": [],
   "source": [
    "# обернём в функцию для удобства чтения\n",
    "def select(sql):\n",
    "    return pd.read_sql(sql,con)"
   ]
  },
  {
   "cell_type": "markdown",
   "metadata": {},
   "source": [
    "# 3. Выполнения заданий."
   ]
  },
  {
   "cell_type": "markdown",
   "metadata": {},
   "source": [
    "### 3.1. Посчитайте, сколько книг вышло после 1 января 2000 года."
   ]
  },
  {
   "cell_type": "code",
   "execution_count": 5,
   "metadata": {},
   "outputs": [],
   "source": [
    "books = '''\n",
    "SELECT \n",
    "count(books.book_id) AS books_cnt\n",
    "\n",
    "FROM \n",
    "books\n",
    "\n",
    "WHERE \n",
    "books.publication_date > '2000-01-01'::date\n",
    "'''"
   ]
  },
  {
   "cell_type": "code",
   "execution_count": 6,
   "metadata": {},
   "outputs": [
    {
     "data": {
      "text/html": [
       "<div>\n",
       "<style scoped>\n",
       "    .dataframe tbody tr th:only-of-type {\n",
       "        vertical-align: middle;\n",
       "    }\n",
       "\n",
       "    .dataframe tbody tr th {\n",
       "        vertical-align: top;\n",
       "    }\n",
       "\n",
       "    .dataframe thead th {\n",
       "        text-align: right;\n",
       "    }\n",
       "</style>\n",
       "<table border=\"1\" class=\"dataframe\">\n",
       "  <thead>\n",
       "    <tr style=\"text-align: right;\">\n",
       "      <th></th>\n",
       "      <th>books_cnt</th>\n",
       "    </tr>\n",
       "  </thead>\n",
       "  <tbody>\n",
       "    <tr>\n",
       "      <td>0</td>\n",
       "      <td>819</td>\n",
       "    </tr>\n",
       "  </tbody>\n",
       "</table>\n",
       "</div>"
      ],
      "text/plain": [
       "   books_cnt\n",
       "0        819"
      ]
     },
     "execution_count": 6,
     "metadata": {},
     "output_type": "execute_result"
    }
   ],
   "source": [
    "select(books)"
   ]
  },
  {
   "cell_type": "markdown",
   "metadata": {},
   "source": [
    "После 1 января 2000 года было выпущено 819 книг."
   ]
  },
  {
   "cell_type": "markdown",
   "metadata": {},
   "source": [
    "### 3.2. Для каждой книги посчитайте количество обзоров и среднюю оценку."
   ]
  },
  {
   "cell_type": "code",
   "execution_count": 7,
   "metadata": {},
   "outputs": [],
   "source": [
    "reviews = '''\n",
    "SELECT \n",
    "    books.title AS title,\n",
    "    COUNT(DISTINCT reviews.text) AS cnt_reviews,\n",
    "    AVG(ratings.rating) AS avg_rating\n",
    "    \n",
    "FROM\n",
    "    books\n",
    "LEFT JOIN ratings ON ratings.book_id = books.book_id\n",
    "LEFT JOIN reviews ON reviews.book_id = books.book_id\n",
    "\n",
    "GROUP BY\n",
    "     books.title\n",
    "     \n",
    "--HAVING\n",
    "--avg(ratings.rating) = 5\n",
    "--COUNT(DISTINCT reviews.text) = 0\n",
    "\n",
    "order by\n",
    "     cnt_reviews DESC,\n",
    "     avg_rating DESC\n",
    "     \n",
    "limit 10\n",
    "'''"
   ]
  },
  {
   "cell_type": "code",
   "execution_count": 8,
   "metadata": {},
   "outputs": [
    {
     "data": {
      "text/html": [
       "<div>\n",
       "<style scoped>\n",
       "    .dataframe tbody tr th:only-of-type {\n",
       "        vertical-align: middle;\n",
       "    }\n",
       "\n",
       "    .dataframe tbody tr th {\n",
       "        vertical-align: top;\n",
       "    }\n",
       "\n",
       "    .dataframe thead th {\n",
       "        text-align: right;\n",
       "    }\n",
       "</style>\n",
       "<table border=\"1\" class=\"dataframe\">\n",
       "  <thead>\n",
       "    <tr style=\"text-align: right;\">\n",
       "      <th></th>\n",
       "      <th>title</th>\n",
       "      <th>cnt_reviews</th>\n",
       "      <th>avg_rating</th>\n",
       "    </tr>\n",
       "  </thead>\n",
       "  <tbody>\n",
       "    <tr>\n",
       "      <td>0</td>\n",
       "      <td>Memoirs of a Geisha</td>\n",
       "      <td>8</td>\n",
       "      <td>4.138462</td>\n",
       "    </tr>\n",
       "    <tr>\n",
       "      <td>1</td>\n",
       "      <td>Twilight (Twilight  #1)</td>\n",
       "      <td>7</td>\n",
       "      <td>3.662500</td>\n",
       "    </tr>\n",
       "    <tr>\n",
       "      <td>2</td>\n",
       "      <td>Harry Potter and the Prisoner of Azkaban (Harr...</td>\n",
       "      <td>6</td>\n",
       "      <td>4.414634</td>\n",
       "    </tr>\n",
       "    <tr>\n",
       "      <td>3</td>\n",
       "      <td>Harry Potter and the Chamber of Secrets (Harry...</td>\n",
       "      <td>6</td>\n",
       "      <td>4.287500</td>\n",
       "    </tr>\n",
       "    <tr>\n",
       "      <td>4</td>\n",
       "      <td>The Book Thief</td>\n",
       "      <td>6</td>\n",
       "      <td>4.264151</td>\n",
       "    </tr>\n",
       "    <tr>\n",
       "      <td>5</td>\n",
       "      <td>The Glass Castle</td>\n",
       "      <td>6</td>\n",
       "      <td>4.206897</td>\n",
       "    </tr>\n",
       "    <tr>\n",
       "      <td>6</td>\n",
       "      <td>The Hobbit  or There and Back Again</td>\n",
       "      <td>6</td>\n",
       "      <td>4.125000</td>\n",
       "    </tr>\n",
       "    <tr>\n",
       "      <td>7</td>\n",
       "      <td>Outlander (Outlander  #1)</td>\n",
       "      <td>6</td>\n",
       "      <td>4.125000</td>\n",
       "    </tr>\n",
       "    <tr>\n",
       "      <td>8</td>\n",
       "      <td>The Curious Incident of the Dog in the Night-Time</td>\n",
       "      <td>6</td>\n",
       "      <td>4.081081</td>\n",
       "    </tr>\n",
       "    <tr>\n",
       "      <td>9</td>\n",
       "      <td>The Lightning Thief (Percy Jackson and the Oly...</td>\n",
       "      <td>6</td>\n",
       "      <td>4.080645</td>\n",
       "    </tr>\n",
       "  </tbody>\n",
       "</table>\n",
       "</div>"
      ],
      "text/plain": [
       "                                               title  cnt_reviews  avg_rating\n",
       "0                                Memoirs of a Geisha            8    4.138462\n",
       "1                            Twilight (Twilight  #1)            7    3.662500\n",
       "2  Harry Potter and the Prisoner of Azkaban (Harr...            6    4.414634\n",
       "3  Harry Potter and the Chamber of Secrets (Harry...            6    4.287500\n",
       "4                                     The Book Thief            6    4.264151\n",
       "5                                   The Glass Castle            6    4.206897\n",
       "6                The Hobbit  or There and Back Again            6    4.125000\n",
       "7                          Outlander (Outlander  #1)            6    4.125000\n",
       "8  The Curious Incident of the Dog in the Night-Time            6    4.081081\n",
       "9  The Lightning Thief (Percy Jackson and the Oly...            6    4.080645"
      ]
     },
     "execution_count": 8,
     "metadata": {},
     "output_type": "execute_result"
    }
   ],
   "source": [
    "select(reviews)"
   ]
  },
  {
   "cell_type": "markdown",
   "metadata": {},
   "source": [
    "- Для 6 книг отсутсвуют обзоры.\n",
    "- Больше всего обзоров у книги **Memoirs of a Geisha**.\n",
    "- У 44 книг рейтинг - 5.0, при этом количество обзоров от 0 до 4. С 4 обзорами и рейтингом 5.0 книга **A Dirty Job (Grim Reaper #1)**."
   ]
  },
  {
   "cell_type": "markdown",
   "metadata": {},
   "source": [
    "### 3.3. Определите издательство, которое выпустило наибольшее число книг толще 50 страниц — так вы исключите из анализа брошюры."
   ]
  },
  {
   "cell_type": "code",
   "execution_count": 9,
   "metadata": {},
   "outputs": [],
   "source": [
    "publishers = '''\n",
    "SELECT \n",
    "count(books.book_id),\n",
    "publishers.publisher\n",
    "\n",
    "FROM \n",
    "books\n",
    "\n",
    "LEFT JOIN publishers ON publishers.publisher_id = books.publisher_id\n",
    "\n",
    "WHERE \n",
    "books.num_pages > 50\n",
    "\n",
    "GROUP BY \n",
    "publishers.publisher\n",
    "\n",
    "ORDER BY count DESC\n",
    "\n",
    "LIMIT 10\n",
    "'''"
   ]
  },
  {
   "cell_type": "code",
   "execution_count": 10,
   "metadata": {},
   "outputs": [
    {
     "data": {
      "text/html": [
       "<div>\n",
       "<style scoped>\n",
       "    .dataframe tbody tr th:only-of-type {\n",
       "        vertical-align: middle;\n",
       "    }\n",
       "\n",
       "    .dataframe tbody tr th {\n",
       "        vertical-align: top;\n",
       "    }\n",
       "\n",
       "    .dataframe thead th {\n",
       "        text-align: right;\n",
       "    }\n",
       "</style>\n",
       "<table border=\"1\" class=\"dataframe\">\n",
       "  <thead>\n",
       "    <tr style=\"text-align: right;\">\n",
       "      <th></th>\n",
       "      <th>count</th>\n",
       "      <th>publisher</th>\n",
       "    </tr>\n",
       "  </thead>\n",
       "  <tbody>\n",
       "    <tr>\n",
       "      <td>0</td>\n",
       "      <td>42</td>\n",
       "      <td>Penguin Books</td>\n",
       "    </tr>\n",
       "    <tr>\n",
       "      <td>1</td>\n",
       "      <td>31</td>\n",
       "      <td>Vintage</td>\n",
       "    </tr>\n",
       "    <tr>\n",
       "      <td>2</td>\n",
       "      <td>25</td>\n",
       "      <td>Grand Central Publishing</td>\n",
       "    </tr>\n",
       "    <tr>\n",
       "      <td>3</td>\n",
       "      <td>24</td>\n",
       "      <td>Penguin Classics</td>\n",
       "    </tr>\n",
       "    <tr>\n",
       "      <td>4</td>\n",
       "      <td>19</td>\n",
       "      <td>Ballantine Books</td>\n",
       "    </tr>\n",
       "    <tr>\n",
       "      <td>5</td>\n",
       "      <td>19</td>\n",
       "      <td>Bantam</td>\n",
       "    </tr>\n",
       "    <tr>\n",
       "      <td>6</td>\n",
       "      <td>17</td>\n",
       "      <td>Berkley</td>\n",
       "    </tr>\n",
       "    <tr>\n",
       "      <td>7</td>\n",
       "      <td>14</td>\n",
       "      <td>St. Martin's Press</td>\n",
       "    </tr>\n",
       "    <tr>\n",
       "      <td>8</td>\n",
       "      <td>14</td>\n",
       "      <td>Berkley Books</td>\n",
       "    </tr>\n",
       "    <tr>\n",
       "      <td>9</td>\n",
       "      <td>13</td>\n",
       "      <td>William Morrow Paperbacks</td>\n",
       "    </tr>\n",
       "  </tbody>\n",
       "</table>\n",
       "</div>"
      ],
      "text/plain": [
       "   count                  publisher\n",
       "0     42              Penguin Books\n",
       "1     31                    Vintage\n",
       "2     25   Grand Central Publishing\n",
       "3     24           Penguin Classics\n",
       "4     19           Ballantine Books\n",
       "5     19                     Bantam\n",
       "6     17                    Berkley\n",
       "7     14         St. Martin's Press\n",
       "8     14              Berkley Books\n",
       "9     13  William Morrow Paperbacks"
      ]
     },
     "execution_count": 10,
     "metadata": {},
     "output_type": "execute_result"
    }
   ],
   "source": [
    "select(publishers)"
   ]
  },
  {
   "cell_type": "markdown",
   "metadata": {},
   "source": [
    "Издательство *Penguin Books* - выпустило наибольшее число книг толще 50 страниц (42 шт)."
   ]
  },
  {
   "cell_type": "markdown",
   "metadata": {},
   "source": [
    " ### 3.4. Определите автора с самой высокой средней оценкой книг — учитывайте только книги с 50 и более оценками."
   ]
  },
  {
   "cell_type": "code",
   "execution_count": 11,
   "metadata": {},
   "outputs": [],
   "source": [
    "test = '''SELECT\n",
    "      tab.author AS author,\n",
    "      AVG(tab.avg_rating) AS avg_rating\n",
    "FROM\n",
    "(SELECT\n",
    "     authors.author AS author,\n",
    "     books.book_id AS id,\n",
    "     AVG(ratings.rating) AS avg_rating,\n",
    "     COUNT(ratings.rating) AS cnt_rating\n",
    "FROM\n",
    "    authors\n",
    "LEFT JOIN books ON books.author_id = authors.author_id\n",
    "LEFT JOIN ratings ON ratings.book_id = books.book_id\n",
    "GROUP BY\n",
    "    author,\n",
    "    id\n",
    "    HAVING\n",
    "    COUNT(ratings.rating) >= 50) AS tab\n",
    "GROUP BY\n",
    "    author\n",
    "ORDER BY\n",
    "    avg_rating DESC\n",
    "'''"
   ]
  },
  {
   "cell_type": "code",
   "execution_count": 12,
   "metadata": {},
   "outputs": [
    {
     "data": {
      "text/html": [
       "<div>\n",
       "<style scoped>\n",
       "    .dataframe tbody tr th:only-of-type {\n",
       "        vertical-align: middle;\n",
       "    }\n",
       "\n",
       "    .dataframe tbody tr th {\n",
       "        vertical-align: top;\n",
       "    }\n",
       "\n",
       "    .dataframe thead th {\n",
       "        text-align: right;\n",
       "    }\n",
       "</style>\n",
       "<table border=\"1\" class=\"dataframe\">\n",
       "  <thead>\n",
       "    <tr style=\"text-align: right;\">\n",
       "      <th></th>\n",
       "      <th>author</th>\n",
       "      <th>avg_rating</th>\n",
       "    </tr>\n",
       "  </thead>\n",
       "  <tbody>\n",
       "    <tr>\n",
       "      <td>0</td>\n",
       "      <td>J.K. Rowling/Mary GrandPré</td>\n",
       "      <td>4.283844</td>\n",
       "    </tr>\n",
       "    <tr>\n",
       "      <td>1</td>\n",
       "      <td>Markus Zusak/Cao Xuân Việt Khương</td>\n",
       "      <td>4.264151</td>\n",
       "    </tr>\n",
       "    <tr>\n",
       "      <td>2</td>\n",
       "      <td>J.R.R. Tolkien</td>\n",
       "      <td>4.258446</td>\n",
       "    </tr>\n",
       "    <tr>\n",
       "      <td>3</td>\n",
       "      <td>Louisa May Alcott</td>\n",
       "      <td>4.192308</td>\n",
       "    </tr>\n",
       "    <tr>\n",
       "      <td>4</td>\n",
       "      <td>Rick Riordan</td>\n",
       "      <td>4.080645</td>\n",
       "    </tr>\n",
       "    <tr>\n",
       "      <td>5</td>\n",
       "      <td>William Golding</td>\n",
       "      <td>3.901408</td>\n",
       "    </tr>\n",
       "    <tr>\n",
       "      <td>6</td>\n",
       "      <td>J.D. Salinger</td>\n",
       "      <td>3.825581</td>\n",
       "    </tr>\n",
       "    <tr>\n",
       "      <td>7</td>\n",
       "      <td>Paulo Coelho/Alan R. Clarke/Özdemir İnce</td>\n",
       "      <td>3.789474</td>\n",
       "    </tr>\n",
       "    <tr>\n",
       "      <td>8</td>\n",
       "      <td>William Shakespeare/Paul Werstine/Barbara A. M...</td>\n",
       "      <td>3.787879</td>\n",
       "    </tr>\n",
       "    <tr>\n",
       "      <td>9</td>\n",
       "      <td>Dan Brown</td>\n",
       "      <td>3.754540</td>\n",
       "    </tr>\n",
       "    <tr>\n",
       "      <td>10</td>\n",
       "      <td>Lois Lowry</td>\n",
       "      <td>3.750000</td>\n",
       "    </tr>\n",
       "    <tr>\n",
       "      <td>11</td>\n",
       "      <td>George Orwell/Boris Grabnar/Peter Škerl</td>\n",
       "      <td>3.729730</td>\n",
       "    </tr>\n",
       "    <tr>\n",
       "      <td>12</td>\n",
       "      <td>Stephenie Meyer</td>\n",
       "      <td>3.662500</td>\n",
       "    </tr>\n",
       "    <tr>\n",
       "      <td>13</td>\n",
       "      <td>John Steinbeck</td>\n",
       "      <td>3.622951</td>\n",
       "    </tr>\n",
       "  </tbody>\n",
       "</table>\n",
       "</div>"
      ],
      "text/plain": [
       "                                               author  avg_rating\n",
       "0                          J.K. Rowling/Mary GrandPré    4.283844\n",
       "1                   Markus Zusak/Cao Xuân Việt Khương    4.264151\n",
       "2                                      J.R.R. Tolkien    4.258446\n",
       "3                                   Louisa May Alcott    4.192308\n",
       "4                                        Rick Riordan    4.080645\n",
       "5                                     William Golding    3.901408\n",
       "6                                       J.D. Salinger    3.825581\n",
       "7            Paulo Coelho/Alan R. Clarke/Özdemir İnce    3.789474\n",
       "8   William Shakespeare/Paul Werstine/Barbara A. M...    3.787879\n",
       "9                                           Dan Brown    3.754540\n",
       "10                                         Lois Lowry    3.750000\n",
       "11            George Orwell/Boris Grabnar/Peter Škerl    3.729730\n",
       "12                                    Stephenie Meyer    3.662500\n",
       "13                                     John Steinbeck    3.622951"
      ]
     },
     "execution_count": 12,
     "metadata": {},
     "output_type": "execute_result"
    }
   ],
   "source": [
    "select(test)"
   ]
  },
  {
   "cell_type": "markdown",
   "metadata": {},
   "source": [
    "Самая высокая средняя оценка у автора *J.K. Rowling/Mary GrandPré* - 4.28."
   ]
  },
  {
   "cell_type": "markdown",
   "metadata": {},
   "source": [
    "### 3.5. Посчитайте среднее количество обзоров от пользователей, которые поставили больше 50 оценок."
   ]
  },
  {
   "cell_type": "code",
   "execution_count": 13,
   "metadata": {},
   "outputs": [],
   "source": [
    "review_avg = '''\n",
    "SELECT \n",
    "avg(reviews.review_cnt) AS review_avg\n",
    "\n",
    "FROM (SELECT reviews.username,\n",
    "      count(reviews.text) AS review_cnt\n",
    "      FROM reviews\n",
    "      GROUP BY reviews.username) AS reviews\n",
    "\n",
    "WHERE \n",
    "reviews.username in (SELECT ratings.username\n",
    "                    FROM ratings\n",
    "                    GROUP BY ratings.username\n",
    "                    HAVING count(ratings.rating) > 50);\n",
    "'''"
   ]
  },
  {
   "cell_type": "code",
   "execution_count": 14,
   "metadata": {},
   "outputs": [
    {
     "data": {
      "text/html": [
       "<div>\n",
       "<style scoped>\n",
       "    .dataframe tbody tr th:only-of-type {\n",
       "        vertical-align: middle;\n",
       "    }\n",
       "\n",
       "    .dataframe tbody tr th {\n",
       "        vertical-align: top;\n",
       "    }\n",
       "\n",
       "    .dataframe thead th {\n",
       "        text-align: right;\n",
       "    }\n",
       "</style>\n",
       "<table border=\"1\" class=\"dataframe\">\n",
       "  <thead>\n",
       "    <tr style=\"text-align: right;\">\n",
       "      <th></th>\n",
       "      <th>review_avg</th>\n",
       "    </tr>\n",
       "  </thead>\n",
       "  <tbody>\n",
       "    <tr>\n",
       "      <td>0</td>\n",
       "      <td>24.333333</td>\n",
       "    </tr>\n",
       "  </tbody>\n",
       "</table>\n",
       "</div>"
      ],
      "text/plain": [
       "   review_avg\n",
       "0   24.333333"
      ]
     },
     "execution_count": 14,
     "metadata": {},
     "output_type": "execute_result"
    }
   ],
   "source": [
    "select(review_avg)"
   ]
  },
  {
   "cell_type": "markdown",
   "metadata": {},
   "source": [
    "Среднее количество обзоров от пользователей, которые поставили больше 50 оценок - 24.3."
   ]
  },
  {
   "cell_type": "markdown",
   "metadata": {},
   "source": [
    "## Вывод."
   ]
  },
  {
   "cell_type": "markdown",
   "metadata": {},
   "source": [
    "Результаты анализа базы данных сервиса для чтения книг по подписке:\n",
    "- После 1 января 2000 года было выпущено 819 книг.\n",
    "- Для 6 книг отсутсвуют обзоры.\n",
    "- Больше всего обзоров у книги **Memoirs of a Geisha**.\n",
    "- У 44 книг рейтинг - 5.0, при этом количество обзоров от 0 до 4. С 4 обзорами и рейтингом 5.0 книга **A Dirty Job (Grim Reaper #1)**.\n",
    "- Издательство Penguin Books - выпустило наибольшее число книг толще 50 страниц (42 шт).\n",
    "- Самая высокая средняя оценка у автора *J.K. Rowling/Mary GrandPré* - 4.28.\n",
    "- Среднее количество обзоров от пользователей, которые поставили больше 50 оценок - 24.3."
   ]
  },
  {
   "cell_type": "code",
   "execution_count": null,
   "metadata": {},
   "outputs": [],
   "source": []
  }
 ],
 "metadata": {
  "ExecuteTimeLog": [
   {
    "duration": 551,
    "start_time": "2021-07-16T07:35:48.239Z"
   },
   {
    "duration": 2,
    "start_time": "2021-07-16T07:35:48.792Z"
   },
   {
    "duration": 28,
    "start_time": "2021-07-16T07:35:48.796Z"
   },
   {
    "duration": 2,
    "start_time": "2021-07-16T07:35:48.826Z"
   },
   {
    "duration": 6,
    "start_time": "2021-07-16T07:35:48.830Z"
   },
   {
    "duration": 268,
    "start_time": "2021-07-16T07:35:48.837Z"
   },
   {
    "duration": 3,
    "start_time": "2021-07-16T07:35:49.107Z"
   },
   {
    "duration": 109,
    "start_time": "2021-07-16T07:35:49.112Z"
   },
   {
    "duration": 3,
    "start_time": "2021-07-16T07:35:49.223Z"
   },
   {
    "duration": 82,
    "start_time": "2021-07-16T07:35:49.227Z"
   },
   {
    "duration": 2,
    "start_time": "2021-07-16T07:35:49.310Z"
   },
   {
    "duration": 87,
    "start_time": "2021-07-16T07:35:49.314Z"
   },
   {
    "duration": 2,
    "start_time": "2021-07-16T07:35:49.402Z"
   },
   {
    "duration": 79,
    "start_time": "2021-07-16T07:35:49.406Z"
   },
   {
    "duration": 3,
    "start_time": "2021-07-16T07:50:09.230Z"
   },
   {
    "duration": 253,
    "start_time": "2021-07-16T07:50:09.584Z"
   },
   {
    "duration": 627,
    "start_time": "2021-07-16T07:50:14.285Z"
   },
   {
    "duration": 3,
    "start_time": "2021-07-16T07:50:14.913Z"
   },
   {
    "duration": 25,
    "start_time": "2021-07-16T07:50:14.918Z"
   },
   {
    "duration": 2,
    "start_time": "2021-07-16T07:50:14.945Z"
   },
   {
    "duration": 8,
    "start_time": "2021-07-16T07:50:14.948Z"
   },
   {
    "duration": 272,
    "start_time": "2021-07-16T07:50:14.958Z"
   },
   {
    "duration": 2,
    "start_time": "2021-07-16T07:50:15.232Z"
   },
   {
    "duration": 110,
    "start_time": "2021-07-16T07:50:15.236Z"
   },
   {
    "duration": 2,
    "start_time": "2021-07-16T07:50:15.347Z"
   },
   {
    "duration": 74,
    "start_time": "2021-07-16T07:50:15.351Z"
   },
   {
    "duration": 2,
    "start_time": "2021-07-16T07:50:15.426Z"
   },
   {
    "duration": 78,
    "start_time": "2021-07-16T07:50:15.430Z"
   },
   {
    "duration": 2,
    "start_time": "2021-07-16T07:50:15.510Z"
   },
   {
    "duration": 5,
    "start_time": "2021-07-16T07:50:15.513Z"
   },
   {
    "duration": 79,
    "start_time": "2021-07-16T07:50:15.519Z"
   },
   {
    "duration": 2,
    "start_time": "2021-07-16T07:50:15.600Z"
   },
   {
    "duration": 76,
    "start_time": "2021-07-16T07:50:15.604Z"
   },
   {
    "duration": 2,
    "start_time": "2021-07-16T07:52:57.552Z"
   },
   {
    "duration": 613,
    "start_time": "2021-07-16T07:52:57.918Z"
   },
   {
    "duration": 3,
    "start_time": "2021-07-16T07:53:09.738Z"
   },
   {
    "duration": 563,
    "start_time": "2021-07-16T07:53:10.034Z"
   },
   {
    "duration": 2,
    "start_time": "2021-07-16T07:53:31.140Z"
   },
   {
    "duration": 510,
    "start_time": "2021-07-16T07:53:31.454Z"
   },
   {
    "duration": 2,
    "start_time": "2021-07-16T07:55:02.961Z"
   },
   {
    "duration": 76,
    "start_time": "2021-07-16T07:55:03.323Z"
   },
   {
    "duration": 608,
    "start_time": "2021-07-16T07:59:25.995Z"
   },
   {
    "duration": 3,
    "start_time": "2021-07-16T07:59:26.605Z"
   },
   {
    "duration": 24,
    "start_time": "2021-07-16T07:59:26.610Z"
   },
   {
    "duration": 2,
    "start_time": "2021-07-16T07:59:26.636Z"
   },
   {
    "duration": 5,
    "start_time": "2021-07-16T07:59:26.639Z"
   },
   {
    "duration": 234,
    "start_time": "2021-07-16T07:59:26.645Z"
   },
   {
    "duration": 3,
    "start_time": "2021-07-16T07:59:26.880Z"
   },
   {
    "duration": 99,
    "start_time": "2021-07-16T07:59:26.884Z"
   },
   {
    "duration": 2,
    "start_time": "2021-07-16T07:59:26.985Z"
   },
   {
    "duration": 67,
    "start_time": "2021-07-16T07:59:26.989Z"
   },
   {
    "duration": 2,
    "start_time": "2021-07-16T07:59:27.058Z"
   },
   {
    "duration": 74,
    "start_time": "2021-07-16T07:59:27.061Z"
   },
   {
    "duration": 3,
    "start_time": "2021-07-16T07:59:27.136Z"
   },
   {
    "duration": 72,
    "start_time": "2021-07-16T07:59:27.140Z"
   },
   {
    "duration": 3,
    "start_time": "2021-07-16T07:59:56.933Z"
   },
   {
    "duration": 71,
    "start_time": "2021-07-16T07:59:57.741Z"
   },
   {
    "duration": 579,
    "start_time": "2021-07-16T08:00:26.205Z"
   },
   {
    "duration": 2,
    "start_time": "2021-07-16T08:00:26.786Z"
   },
   {
    "duration": 25,
    "start_time": "2021-07-16T08:00:26.790Z"
   },
   {
    "duration": 2,
    "start_time": "2021-07-16T08:00:26.817Z"
   },
   {
    "duration": 5,
    "start_time": "2021-07-16T08:00:26.820Z"
   },
   {
    "duration": 253,
    "start_time": "2021-07-16T08:00:26.826Z"
   },
   {
    "duration": 2,
    "start_time": "2021-07-16T08:00:27.081Z"
   },
   {
    "duration": 103,
    "start_time": "2021-07-16T08:00:27.084Z"
   },
   {
    "duration": 3,
    "start_time": "2021-07-16T08:00:27.189Z"
   },
   {
    "duration": 74,
    "start_time": "2021-07-16T08:00:27.193Z"
   },
   {
    "duration": 3,
    "start_time": "2021-07-16T08:00:27.269Z"
   },
   {
    "duration": 84,
    "start_time": "2021-07-16T08:00:27.274Z"
   },
   {
    "duration": 2,
    "start_time": "2021-07-16T08:00:27.360Z"
   },
   {
    "duration": 79,
    "start_time": "2021-07-16T08:00:27.363Z"
   }
  ],
  "kernelspec": {
   "display_name": "Python 3",
   "language": "python",
   "name": "python3"
  },
  "language_info": {
   "codemirror_mode": {
    "name": "ipython",
    "version": 3
   },
   "file_extension": ".py",
   "mimetype": "text/x-python",
   "name": "python",
   "nbconvert_exporter": "python",
   "pygments_lexer": "ipython3",
   "version": "3.8.5"
  },
  "toc": {
   "base_numbering": 1,
   "nav_menu": {},
   "number_sections": false,
   "sideBar": true,
   "skip_h1_title": false,
   "title_cell": "Оглавление.",
   "title_sidebar": "Contents",
   "toc_cell": true,
   "toc_position": {
    "height": "calc(100% - 180px)",
    "left": "10px",
    "top": "150px",
    "width": "384px"
   },
   "toc_section_display": true,
   "toc_window_display": false
  }
 },
 "nbformat": 4,
 "nbformat_minor": 4
}
