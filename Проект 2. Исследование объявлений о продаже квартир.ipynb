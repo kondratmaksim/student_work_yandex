{
 "cells": [
  {
   "cell_type": "markdown",
   "metadata": {
    "toc": true
   },
   "source": [
    "<h1>Table of Contents<span class=\"tocSkip\"></span></h1>\n",
    "<div class=\"toc\"><ul class=\"toc-item\"><li><span><a href=\"#1.-Откройте-файл-с-данными-и-изучите-общую-информацию.\" data-toc-modified-id=\"1.-Откройте-файл-с-данными-и-изучите-общую-информацию.-1\">1. Откройте файл с данными и изучите общую информацию.</a></span></li><li><span><a href=\"#Вывод\" data-toc-modified-id=\"Вывод-2\">Вывод</a></span></li><li><span><a href=\"#2.-Предобработка-данных\" data-toc-modified-id=\"2.-Предобработка-данных-3\">2. Предобработка данных</a></span><ul class=\"toc-item\"><li><span><a href=\"#2.1.-Меняем-наименование-столбцов:\" data-toc-modified-id=\"2.1.-Меняем-наименование-столбцов:-3.1\">2.1. Меняем наименование столбцов:</a></span></li><li><span><a href=\"#2.2.-Обработка-пропусков\" data-toc-modified-id=\"2.2.-Обработка-пропусков-3.2\">2.2. Обработка пропусков</a></span></li><li><span><a href=\"#2.3.-Замена-типа-данных\" data-toc-modified-id=\"2.3.-Замена-типа-данных-3.3\">2.3. Замена типа данных</a></span></li></ul></li><li><span><a href=\"#3.-Посчитайте-и-добавьте-в-таблицу\" data-toc-modified-id=\"3.-Посчитайте-и-добавьте-в-таблицу-4\">3. Посчитайте и добавьте в таблицу</a></span></li><li><span><a href=\"#4.-Проведите-исследовательский-анализ-данных-и-выполните-инструкции:\" data-toc-modified-id=\"4.-Проведите-исследовательский-анализ-данных-и-выполните-инструкции:-5\">4. Проведите исследовательский анализ данных и выполните инструкции:</a></span><ul class=\"toc-item\"><li><span><a href=\"#4.1.-Изучаем-параметры\" data-toc-modified-id=\"4.1.-Изучаем-параметры-5.1\">4.1. Изучаем параметры</a></span></li><li><span><a href=\"#4.2.-Исследование-времени-продажи-квартиры.\" data-toc-modified-id=\"4.2.-Исследование-времени-продажи-квартиры.-5.2\">4.2. Исследование времени продажи квартиры.</a></span></li><li><span><a href=\"#4.3.-Какие-фаторы-больше-всего-влияют-на-стоимость-квартиры?\" data-toc-modified-id=\"4.3.-Какие-фаторы-больше-всего-влияют-на-стоимость-квартиры?-5.3\">4.3. Какие фаторы больше всего влияют на стоимость квартиры?</a></span></li><li><span><a href=\"#4.4.-Изучения-предложений-квартир\" data-toc-modified-id=\"4.4.-Изучения-предложений-квартир-5.4\">4.4. Изучения предложений квартир</a></span></li><li><span><a href=\"#4.5.-Анализ-квартир-в-центре\" data-toc-modified-id=\"4.5.-Анализ-квартир-в-центре-5.5\">4.5. Анализ квартир в центре</a></span></li></ul></li><li><span><a href=\"#Общий-вывод\" data-toc-modified-id=\"Общий-вывод-6\">Общий вывод</a></span></li></ul></div>"
   ]
  },
  {
   "cell_type": "markdown",
   "metadata": {},
   "source": [
    "# Исследование объявлений о продаже квартир\n",
    "\n",
    "В вашем распоряжении данные сервиса Яндекс.Недвижимость — архив объявлений о продаже квартир в Санкт-Петербурге и соседних населённых пунктов за несколько лет. Нужно научиться определять рыночную стоимость объектов недвижимости. Ваша задача — установить параметры. Это позволит построить автоматизированную систему: она отследит аномалии и мошенническую деятельность. \n",
    "\n",
    "По каждой квартире на продажу доступны два вида данных. Первые вписаны пользователем, вторые — получены автоматически на основе картографических данных. Например, расстояние до центра, аэропорта, ближайшего парка и водоёма. "
   ]
  },
  {
   "cell_type": "markdown",
   "metadata": {},
   "source": [
    "## 1. Откройте файл с данными и изучите общую информацию. "
   ]
  },
  {
   "cell_type": "code",
   "execution_count": 7,
   "metadata": {},
   "outputs": [],
   "source": [
    "import pandas as pd\n",
    "from IPython.display import display\n",
    "import numpy as np\n",
    "from collections import Counter\n",
    "import matplotlib.pyplot as plt\n",
    "from matplotlib.ticker import FormatStrFormatter\n",
    "import seaborn as sns\n",
    "%matplotlib inline"
   ]
  },
  {
   "cell_type": "code",
   "execution_count": 8,
   "metadata": {
    "scrolled": true
   },
   "outputs": [
    {
     "data": {
      "text/html": [
       "<div>\n",
       "<style scoped>\n",
       "    .dataframe tbody tr th:only-of-type {\n",
       "        vertical-align: middle;\n",
       "    }\n",
       "\n",
       "    .dataframe tbody tr th {\n",
       "        vertical-align: top;\n",
       "    }\n",
       "\n",
       "    .dataframe thead th {\n",
       "        text-align: right;\n",
       "    }\n",
       "</style>\n",
       "<table border=\"1\" class=\"dataframe\">\n",
       "  <thead>\n",
       "    <tr style=\"text-align: right;\">\n",
       "      <th></th>\n",
       "      <th>total_images</th>\n",
       "      <th>last_price</th>\n",
       "      <th>total_area</th>\n",
       "      <th>first_day_exposition</th>\n",
       "      <th>rooms</th>\n",
       "      <th>ceiling_height</th>\n",
       "      <th>floors_total</th>\n",
       "      <th>living_area</th>\n",
       "      <th>floor</th>\n",
       "      <th>is_apartment</th>\n",
       "      <th>...</th>\n",
       "      <th>kitchen_area</th>\n",
       "      <th>balcony</th>\n",
       "      <th>locality_name</th>\n",
       "      <th>airports_nearest</th>\n",
       "      <th>cityCenters_nearest</th>\n",
       "      <th>parks_around3000</th>\n",
       "      <th>parks_nearest</th>\n",
       "      <th>ponds_around3000</th>\n",
       "      <th>ponds_nearest</th>\n",
       "      <th>days_exposition</th>\n",
       "    </tr>\n",
       "  </thead>\n",
       "  <tbody>\n",
       "    <tr>\n",
       "      <td>22075</td>\n",
       "      <td>9</td>\n",
       "      <td>1900000.0</td>\n",
       "      <td>30.3</td>\n",
       "      <td>2019-03-06T00:00:00</td>\n",
       "      <td>1</td>\n",
       "      <td>NaN</td>\n",
       "      <td>2.0</td>\n",
       "      <td>18.5</td>\n",
       "      <td>2</td>\n",
       "      <td>NaN</td>\n",
       "      <td>...</td>\n",
       "      <td>4.4</td>\n",
       "      <td>NaN</td>\n",
       "      <td>посёлок городского типа Тайцы</td>\n",
       "      <td>NaN</td>\n",
       "      <td>NaN</td>\n",
       "      <td>NaN</td>\n",
       "      <td>NaN</td>\n",
       "      <td>NaN</td>\n",
       "      <td>NaN</td>\n",
       "      <td>NaN</td>\n",
       "    </tr>\n",
       "    <tr>\n",
       "      <td>23425</td>\n",
       "      <td>20</td>\n",
       "      <td>5900000.0</td>\n",
       "      <td>62.0</td>\n",
       "      <td>2018-04-24T00:00:00</td>\n",
       "      <td>3</td>\n",
       "      <td>2.65</td>\n",
       "      <td>9.0</td>\n",
       "      <td>43.5</td>\n",
       "      <td>6</td>\n",
       "      <td>NaN</td>\n",
       "      <td>...</td>\n",
       "      <td>6.3</td>\n",
       "      <td>1.0</td>\n",
       "      <td>Санкт-Петербург</td>\n",
       "      <td>51964.0</td>\n",
       "      <td>13985.0</td>\n",
       "      <td>1.0</td>\n",
       "      <td>649.0</td>\n",
       "      <td>1.0</td>\n",
       "      <td>832.0</td>\n",
       "      <td>NaN</td>\n",
       "    </tr>\n",
       "    <tr>\n",
       "      <td>15433</td>\n",
       "      <td>19</td>\n",
       "      <td>3700000.0</td>\n",
       "      <td>34.0</td>\n",
       "      <td>2018-10-31T00:00:00</td>\n",
       "      <td>1</td>\n",
       "      <td>2.60</td>\n",
       "      <td>5.0</td>\n",
       "      <td>17.7</td>\n",
       "      <td>5</td>\n",
       "      <td>NaN</td>\n",
       "      <td>...</td>\n",
       "      <td>7.8</td>\n",
       "      <td>1.0</td>\n",
       "      <td>Санкт-Петербург</td>\n",
       "      <td>27725.0</td>\n",
       "      <td>11702.0</td>\n",
       "      <td>2.0</td>\n",
       "      <td>216.0</td>\n",
       "      <td>0.0</td>\n",
       "      <td>NaN</td>\n",
       "      <td>7.0</td>\n",
       "    </tr>\n",
       "    <tr>\n",
       "      <td>3696</td>\n",
       "      <td>15</td>\n",
       "      <td>3800000.0</td>\n",
       "      <td>48.4</td>\n",
       "      <td>2018-10-25T00:00:00</td>\n",
       "      <td>2</td>\n",
       "      <td>2.50</td>\n",
       "      <td>9.0</td>\n",
       "      <td>29.0</td>\n",
       "      <td>1</td>\n",
       "      <td>NaN</td>\n",
       "      <td>...</td>\n",
       "      <td>8.5</td>\n",
       "      <td>NaN</td>\n",
       "      <td>Санкт-Петербург</td>\n",
       "      <td>14260.0</td>\n",
       "      <td>16238.0</td>\n",
       "      <td>0.0</td>\n",
       "      <td>NaN</td>\n",
       "      <td>1.0</td>\n",
       "      <td>478.0</td>\n",
       "      <td>99.0</td>\n",
       "    </tr>\n",
       "    <tr>\n",
       "      <td>15296</td>\n",
       "      <td>7</td>\n",
       "      <td>4950000.0</td>\n",
       "      <td>53.0</td>\n",
       "      <td>2018-07-10T00:00:00</td>\n",
       "      <td>2</td>\n",
       "      <td>2.50</td>\n",
       "      <td>9.0</td>\n",
       "      <td>33.0</td>\n",
       "      <td>9</td>\n",
       "      <td>NaN</td>\n",
       "      <td>...</td>\n",
       "      <td>6.8</td>\n",
       "      <td>NaN</td>\n",
       "      <td>Санкт-Петербург</td>\n",
       "      <td>41954.0</td>\n",
       "      <td>12168.0</td>\n",
       "      <td>1.0</td>\n",
       "      <td>10.0</td>\n",
       "      <td>0.0</td>\n",
       "      <td>NaN</td>\n",
       "      <td>62.0</td>\n",
       "    </tr>\n",
       "    <tr>\n",
       "      <td>17109</td>\n",
       "      <td>12</td>\n",
       "      <td>4500000.0</td>\n",
       "      <td>40.5</td>\n",
       "      <td>2018-07-10T00:00:00</td>\n",
       "      <td>1</td>\n",
       "      <td>2.70</td>\n",
       "      <td>10.0</td>\n",
       "      <td>20.0</td>\n",
       "      <td>2</td>\n",
       "      <td>NaN</td>\n",
       "      <td>...</td>\n",
       "      <td>11.5</td>\n",
       "      <td>2.0</td>\n",
       "      <td>Санкт-Петербург</td>\n",
       "      <td>32690.0</td>\n",
       "      <td>12283.0</td>\n",
       "      <td>0.0</td>\n",
       "      <td>NaN</td>\n",
       "      <td>0.0</td>\n",
       "      <td>NaN</td>\n",
       "      <td>50.0</td>\n",
       "    </tr>\n",
       "    <tr>\n",
       "      <td>2227</td>\n",
       "      <td>11</td>\n",
       "      <td>3400000.0</td>\n",
       "      <td>37.0</td>\n",
       "      <td>2017-05-12T00:00:00</td>\n",
       "      <td>1</td>\n",
       "      <td>NaN</td>\n",
       "      <td>9.0</td>\n",
       "      <td>16.0</td>\n",
       "      <td>1</td>\n",
       "      <td>NaN</td>\n",
       "      <td>...</td>\n",
       "      <td>10.0</td>\n",
       "      <td>2.0</td>\n",
       "      <td>Санкт-Петербург</td>\n",
       "      <td>13557.0</td>\n",
       "      <td>12353.0</td>\n",
       "      <td>0.0</td>\n",
       "      <td>NaN</td>\n",
       "      <td>0.0</td>\n",
       "      <td>NaN</td>\n",
       "      <td>111.0</td>\n",
       "    </tr>\n",
       "    <tr>\n",
       "      <td>1853</td>\n",
       "      <td>10</td>\n",
       "      <td>3100000.0</td>\n",
       "      <td>38.3</td>\n",
       "      <td>2017-12-12T00:00:00</td>\n",
       "      <td>2</td>\n",
       "      <td>2.70</td>\n",
       "      <td>2.0</td>\n",
       "      <td>27.5</td>\n",
       "      <td>1</td>\n",
       "      <td>NaN</td>\n",
       "      <td>...</td>\n",
       "      <td>4.0</td>\n",
       "      <td>NaN</td>\n",
       "      <td>посёлок Песочный</td>\n",
       "      <td>56095.0</td>\n",
       "      <td>25867.0</td>\n",
       "      <td>0.0</td>\n",
       "      <td>NaN</td>\n",
       "      <td>0.0</td>\n",
       "      <td>NaN</td>\n",
       "      <td>14.0</td>\n",
       "    </tr>\n",
       "    <tr>\n",
       "      <td>20911</td>\n",
       "      <td>8</td>\n",
       "      <td>12000000.0</td>\n",
       "      <td>110.0</td>\n",
       "      <td>2016-06-24T00:00:00</td>\n",
       "      <td>4</td>\n",
       "      <td>3.34</td>\n",
       "      <td>5.0</td>\n",
       "      <td>64.0</td>\n",
       "      <td>5</td>\n",
       "      <td>False</td>\n",
       "      <td>...</td>\n",
       "      <td>10.0</td>\n",
       "      <td>0.0</td>\n",
       "      <td>Санкт-Петербург</td>\n",
       "      <td>22468.0</td>\n",
       "      <td>1308.0</td>\n",
       "      <td>0.0</td>\n",
       "      <td>NaN</td>\n",
       "      <td>3.0</td>\n",
       "      <td>382.0</td>\n",
       "      <td>109.0</td>\n",
       "    </tr>\n",
       "    <tr>\n",
       "      <td>15241</td>\n",
       "      <td>10</td>\n",
       "      <td>2480000.0</td>\n",
       "      <td>41.8</td>\n",
       "      <td>2019-04-09T00:00:00</td>\n",
       "      <td>2</td>\n",
       "      <td>2.70</td>\n",
       "      <td>5.0</td>\n",
       "      <td>25.2</td>\n",
       "      <td>4</td>\n",
       "      <td>NaN</td>\n",
       "      <td>...</td>\n",
       "      <td>5.6</td>\n",
       "      <td>1.0</td>\n",
       "      <td>Отрадное</td>\n",
       "      <td>NaN</td>\n",
       "      <td>NaN</td>\n",
       "      <td>NaN</td>\n",
       "      <td>NaN</td>\n",
       "      <td>NaN</td>\n",
       "      <td>NaN</td>\n",
       "      <td>NaN</td>\n",
       "    </tr>\n",
       "    <tr>\n",
       "      <td>18620</td>\n",
       "      <td>14</td>\n",
       "      <td>7000000.0</td>\n",
       "      <td>53.0</td>\n",
       "      <td>2017-12-10T00:00:00</td>\n",
       "      <td>2</td>\n",
       "      <td>NaN</td>\n",
       "      <td>16.0</td>\n",
       "      <td>27.8</td>\n",
       "      <td>9</td>\n",
       "      <td>NaN</td>\n",
       "      <td>...</td>\n",
       "      <td>9.6</td>\n",
       "      <td>2.0</td>\n",
       "      <td>Санкт-Петербург</td>\n",
       "      <td>10031.0</td>\n",
       "      <td>13330.0</td>\n",
       "      <td>1.0</td>\n",
       "      <td>915.0</td>\n",
       "      <td>0.0</td>\n",
       "      <td>NaN</td>\n",
       "      <td>59.0</td>\n",
       "    </tr>\n",
       "  </tbody>\n",
       "</table>\n",
       "<p>11 rows × 22 columns</p>\n",
       "</div>"
      ],
      "text/plain": [
       "       total_images  last_price  total_area first_day_exposition  rooms  \\\n",
       "22075             9   1900000.0        30.3  2019-03-06T00:00:00      1   \n",
       "23425            20   5900000.0        62.0  2018-04-24T00:00:00      3   \n",
       "15433            19   3700000.0        34.0  2018-10-31T00:00:00      1   \n",
       "3696             15   3800000.0        48.4  2018-10-25T00:00:00      2   \n",
       "15296             7   4950000.0        53.0  2018-07-10T00:00:00      2   \n",
       "17109            12   4500000.0        40.5  2018-07-10T00:00:00      1   \n",
       "2227             11   3400000.0        37.0  2017-05-12T00:00:00      1   \n",
       "1853             10   3100000.0        38.3  2017-12-12T00:00:00      2   \n",
       "20911             8  12000000.0       110.0  2016-06-24T00:00:00      4   \n",
       "15241            10   2480000.0        41.8  2019-04-09T00:00:00      2   \n",
       "18620            14   7000000.0        53.0  2017-12-10T00:00:00      2   \n",
       "\n",
       "       ceiling_height  floors_total  living_area  floor is_apartment  ...  \\\n",
       "22075             NaN           2.0         18.5      2          NaN  ...   \n",
       "23425            2.65           9.0         43.5      6          NaN  ...   \n",
       "15433            2.60           5.0         17.7      5          NaN  ...   \n",
       "3696             2.50           9.0         29.0      1          NaN  ...   \n",
       "15296            2.50           9.0         33.0      9          NaN  ...   \n",
       "17109            2.70          10.0         20.0      2          NaN  ...   \n",
       "2227              NaN           9.0         16.0      1          NaN  ...   \n",
       "1853             2.70           2.0         27.5      1          NaN  ...   \n",
       "20911            3.34           5.0         64.0      5        False  ...   \n",
       "15241            2.70           5.0         25.2      4          NaN  ...   \n",
       "18620             NaN          16.0         27.8      9          NaN  ...   \n",
       "\n",
       "       kitchen_area  balcony                  locality_name  airports_nearest  \\\n",
       "22075           4.4      NaN  посёлок городского типа Тайцы               NaN   \n",
       "23425           6.3      1.0                Санкт-Петербург           51964.0   \n",
       "15433           7.8      1.0                Санкт-Петербург           27725.0   \n",
       "3696            8.5      NaN                Санкт-Петербург           14260.0   \n",
       "15296           6.8      NaN                Санкт-Петербург           41954.0   \n",
       "17109          11.5      2.0                Санкт-Петербург           32690.0   \n",
       "2227           10.0      2.0                Санкт-Петербург           13557.0   \n",
       "1853            4.0      NaN               посёлок Песочный           56095.0   \n",
       "20911          10.0      0.0                Санкт-Петербург           22468.0   \n",
       "15241           5.6      1.0                       Отрадное               NaN   \n",
       "18620           9.6      2.0                Санкт-Петербург           10031.0   \n",
       "\n",
       "      cityCenters_nearest  parks_around3000  parks_nearest  ponds_around3000  \\\n",
       "22075                 NaN               NaN            NaN               NaN   \n",
       "23425             13985.0               1.0          649.0               1.0   \n",
       "15433             11702.0               2.0          216.0               0.0   \n",
       "3696              16238.0               0.0            NaN               1.0   \n",
       "15296             12168.0               1.0           10.0               0.0   \n",
       "17109             12283.0               0.0            NaN               0.0   \n",
       "2227              12353.0               0.0            NaN               0.0   \n",
       "1853              25867.0               0.0            NaN               0.0   \n",
       "20911              1308.0               0.0            NaN               3.0   \n",
       "15241                 NaN               NaN            NaN               NaN   \n",
       "18620             13330.0               1.0          915.0               0.0   \n",
       "\n",
       "       ponds_nearest  days_exposition  \n",
       "22075            NaN              NaN  \n",
       "23425          832.0              NaN  \n",
       "15433            NaN              7.0  \n",
       "3696           478.0             99.0  \n",
       "15296            NaN             62.0  \n",
       "17109            NaN             50.0  \n",
       "2227             NaN            111.0  \n",
       "1853             NaN             14.0  \n",
       "20911          382.0            109.0  \n",
       "15241            NaN              NaN  \n",
       "18620            NaN             59.0  \n",
       "\n",
       "[11 rows x 22 columns]"
      ]
     },
     "execution_count": 8,
     "metadata": {},
     "output_type": "execute_result"
    }
   ],
   "source": [
    "df = pd.read_csv('/datasets/real_estate_data.csv', sep = '\\t')\n",
    "df.sample(11)"
   ]
  },
  {
   "cell_type": "markdown",
   "metadata": {},
   "source": [
    "Читаем файл `real_estate_data.csv` с применением разделителя значений `'\\t'` и сохраняем его в переменную __df__."
   ]
  },
  {
   "cell_type": "markdown",
   "metadata": {},
   "source": [
    "Общая информация о DataFrame:"
   ]
  },
  {
   "cell_type": "code",
   "execution_count": 9,
   "metadata": {},
   "outputs": [
    {
     "name": "stdout",
     "output_type": "stream",
     "text": [
      "<class 'pandas.core.frame.DataFrame'>\n",
      "RangeIndex: 23699 entries, 0 to 23698\n",
      "Data columns (total 22 columns):\n",
      "total_images            23699 non-null int64\n",
      "last_price              23699 non-null float64\n",
      "total_area              23699 non-null float64\n",
      "first_day_exposition    23699 non-null object\n",
      "rooms                   23699 non-null int64\n",
      "ceiling_height          14504 non-null float64\n",
      "floors_total            23613 non-null float64\n",
      "living_area             21796 non-null float64\n",
      "floor                   23699 non-null int64\n",
      "is_apartment            2775 non-null object\n",
      "studio                  23699 non-null bool\n",
      "open_plan               23699 non-null bool\n",
      "kitchen_area            21421 non-null float64\n",
      "balcony                 12180 non-null float64\n",
      "locality_name           23650 non-null object\n",
      "airports_nearest        18157 non-null float64\n",
      "cityCenters_nearest     18180 non-null float64\n",
      "parks_around3000        18181 non-null float64\n",
      "parks_nearest           8079 non-null float64\n",
      "ponds_around3000        18181 non-null float64\n",
      "ponds_nearest           9110 non-null float64\n",
      "days_exposition         20518 non-null float64\n",
      "dtypes: bool(2), float64(14), int64(3), object(3)\n",
      "memory usage: 3.7+ MB\n"
     ]
    }
   ],
   "source": [
    "df.info()"
   ]
  },
  {
   "cell_type": "markdown",
   "metadata": {},
   "source": [
    "Всего у нас 22 столбца. И довольно много на первый взгляд пропусков. Некоторым столбцам нужно будет поменять тип данных."
   ]
  },
  {
   "cell_type": "markdown",
   "metadata": {},
   "source": [
    " Разберём столбцы и что в них содержится:\n",
    "- airports_nearest — расстояние до ближайшего аэропорта в метрах (м)\n",
    "- balcony — число балконов\n",
    "- ceiling_height — высота потолков (м)\n",
    "- cityCenters_nearest — расстояние до центра города (м)\n",
    "- days_exposition — сколько дней было размещено объявление (от публикации до снятия)\n",
    "- first_day_exposition — дата публикации\n",
    "- floor — этаж\n",
    "- floors_total — всего этажей в доме\n",
    "- is_apartment — апартаменты (булев тип)\n",
    "- kitchen_area — площадь кухни в квадратных метрах (м²)\n",
    "- last_price — цена на момент снятия с публикации\n",
    "- living_area — жилая площадь в квадратных метрах(м²)\n",
    "- locality_name — название населённого пункта\n",
    "- open_plan — свободная планировка (булев тип)\n",
    "- parks_around3000 — число парков в радиусе 3 км\n",
    "- parks_nearest — расстояние до ближайшего парка (м)\n",
    "- ponds_around3000 — число водоёмов в радиусе 3 км\n",
    "- ponds_nearest — расстояние до ближайшего водоёма (м)\n",
    "- rooms — число комнат\n",
    "- studio — квартира-студия (булев тип)\n",
    "- total_area — площадь квартиры в квадратных метрах (м²)\n",
    "- total_images — число фотографий квартиры в объявлении"
   ]
  },
  {
   "cell_type": "markdown",
   "metadata": {},
   "source": [
    "Посмотрим на общее описание числовых данных для __df__."
   ]
  },
  {
   "cell_type": "code",
   "execution_count": 10,
   "metadata": {},
   "outputs": [
    {
     "data": {
      "text/html": [
       "<div>\n",
       "<style scoped>\n",
       "    .dataframe tbody tr th:only-of-type {\n",
       "        vertical-align: middle;\n",
       "    }\n",
       "\n",
       "    .dataframe tbody tr th {\n",
       "        vertical-align: top;\n",
       "    }\n",
       "\n",
       "    .dataframe thead th {\n",
       "        text-align: right;\n",
       "    }\n",
       "</style>\n",
       "<table border=\"1\" class=\"dataframe\">\n",
       "  <thead>\n",
       "    <tr style=\"text-align: right;\">\n",
       "      <th></th>\n",
       "      <th>total_images</th>\n",
       "      <th>last_price</th>\n",
       "      <th>total_area</th>\n",
       "      <th>rooms</th>\n",
       "      <th>ceiling_height</th>\n",
       "      <th>floors_total</th>\n",
       "      <th>living_area</th>\n",
       "      <th>floor</th>\n",
       "      <th>kitchen_area</th>\n",
       "      <th>balcony</th>\n",
       "      <th>airports_nearest</th>\n",
       "      <th>cityCenters_nearest</th>\n",
       "      <th>parks_around3000</th>\n",
       "      <th>parks_nearest</th>\n",
       "      <th>ponds_around3000</th>\n",
       "      <th>ponds_nearest</th>\n",
       "      <th>days_exposition</th>\n",
       "    </tr>\n",
       "  </thead>\n",
       "  <tbody>\n",
       "    <tr>\n",
       "      <td>count</td>\n",
       "      <td>23699.000000</td>\n",
       "      <td>2.369900e+04</td>\n",
       "      <td>23699.000000</td>\n",
       "      <td>23699.000000</td>\n",
       "      <td>14504.000000</td>\n",
       "      <td>23613.000000</td>\n",
       "      <td>21796.000000</td>\n",
       "      <td>23699.000000</td>\n",
       "      <td>21421.000000</td>\n",
       "      <td>12180.000000</td>\n",
       "      <td>18157.000000</td>\n",
       "      <td>18180.000000</td>\n",
       "      <td>18181.000000</td>\n",
       "      <td>8079.000000</td>\n",
       "      <td>18181.000000</td>\n",
       "      <td>9110.000000</td>\n",
       "      <td>20518.000000</td>\n",
       "    </tr>\n",
       "    <tr>\n",
       "      <td>mean</td>\n",
       "      <td>9.858475</td>\n",
       "      <td>6.541549e+06</td>\n",
       "      <td>60.348651</td>\n",
       "      <td>2.070636</td>\n",
       "      <td>2.771499</td>\n",
       "      <td>10.673824</td>\n",
       "      <td>34.457852</td>\n",
       "      <td>5.892358</td>\n",
       "      <td>10.569807</td>\n",
       "      <td>1.150082</td>\n",
       "      <td>28793.672193</td>\n",
       "      <td>14191.277833</td>\n",
       "      <td>0.611408</td>\n",
       "      <td>490.804555</td>\n",
       "      <td>0.770255</td>\n",
       "      <td>517.980900</td>\n",
       "      <td>180.888634</td>\n",
       "    </tr>\n",
       "    <tr>\n",
       "      <td>std</td>\n",
       "      <td>5.682529</td>\n",
       "      <td>1.088701e+07</td>\n",
       "      <td>35.654083</td>\n",
       "      <td>1.078405</td>\n",
       "      <td>1.261056</td>\n",
       "      <td>6.597173</td>\n",
       "      <td>22.030445</td>\n",
       "      <td>4.885249</td>\n",
       "      <td>5.905438</td>\n",
       "      <td>1.071300</td>\n",
       "      <td>12630.880622</td>\n",
       "      <td>8608.386210</td>\n",
       "      <td>0.802074</td>\n",
       "      <td>342.317995</td>\n",
       "      <td>0.938346</td>\n",
       "      <td>277.720643</td>\n",
       "      <td>219.727988</td>\n",
       "    </tr>\n",
       "    <tr>\n",
       "      <td>min</td>\n",
       "      <td>0.000000</td>\n",
       "      <td>1.219000e+04</td>\n",
       "      <td>12.000000</td>\n",
       "      <td>0.000000</td>\n",
       "      <td>1.000000</td>\n",
       "      <td>1.000000</td>\n",
       "      <td>2.000000</td>\n",
       "      <td>1.000000</td>\n",
       "      <td>1.300000</td>\n",
       "      <td>0.000000</td>\n",
       "      <td>0.000000</td>\n",
       "      <td>181.000000</td>\n",
       "      <td>0.000000</td>\n",
       "      <td>1.000000</td>\n",
       "      <td>0.000000</td>\n",
       "      <td>13.000000</td>\n",
       "      <td>1.000000</td>\n",
       "    </tr>\n",
       "    <tr>\n",
       "      <td>25%</td>\n",
       "      <td>6.000000</td>\n",
       "      <td>3.400000e+06</td>\n",
       "      <td>40.000000</td>\n",
       "      <td>1.000000</td>\n",
       "      <td>2.520000</td>\n",
       "      <td>5.000000</td>\n",
       "      <td>18.600000</td>\n",
       "      <td>2.000000</td>\n",
       "      <td>7.000000</td>\n",
       "      <td>0.000000</td>\n",
       "      <td>18585.000000</td>\n",
       "      <td>9238.000000</td>\n",
       "      <td>0.000000</td>\n",
       "      <td>288.000000</td>\n",
       "      <td>0.000000</td>\n",
       "      <td>294.000000</td>\n",
       "      <td>45.000000</td>\n",
       "    </tr>\n",
       "    <tr>\n",
       "      <td>50%</td>\n",
       "      <td>9.000000</td>\n",
       "      <td>4.650000e+06</td>\n",
       "      <td>52.000000</td>\n",
       "      <td>2.000000</td>\n",
       "      <td>2.650000</td>\n",
       "      <td>9.000000</td>\n",
       "      <td>30.000000</td>\n",
       "      <td>4.000000</td>\n",
       "      <td>9.100000</td>\n",
       "      <td>1.000000</td>\n",
       "      <td>26726.000000</td>\n",
       "      <td>13098.500000</td>\n",
       "      <td>0.000000</td>\n",
       "      <td>455.000000</td>\n",
       "      <td>1.000000</td>\n",
       "      <td>502.000000</td>\n",
       "      <td>95.000000</td>\n",
       "    </tr>\n",
       "    <tr>\n",
       "      <td>75%</td>\n",
       "      <td>14.000000</td>\n",
       "      <td>6.800000e+06</td>\n",
       "      <td>69.900000</td>\n",
       "      <td>3.000000</td>\n",
       "      <td>2.800000</td>\n",
       "      <td>16.000000</td>\n",
       "      <td>42.300000</td>\n",
       "      <td>8.000000</td>\n",
       "      <td>12.000000</td>\n",
       "      <td>2.000000</td>\n",
       "      <td>37273.000000</td>\n",
       "      <td>16293.000000</td>\n",
       "      <td>1.000000</td>\n",
       "      <td>612.000000</td>\n",
       "      <td>1.000000</td>\n",
       "      <td>729.000000</td>\n",
       "      <td>232.000000</td>\n",
       "    </tr>\n",
       "    <tr>\n",
       "      <td>max</td>\n",
       "      <td>50.000000</td>\n",
       "      <td>7.630000e+08</td>\n",
       "      <td>900.000000</td>\n",
       "      <td>19.000000</td>\n",
       "      <td>100.000000</td>\n",
       "      <td>60.000000</td>\n",
       "      <td>409.700000</td>\n",
       "      <td>33.000000</td>\n",
       "      <td>112.000000</td>\n",
       "      <td>5.000000</td>\n",
       "      <td>84869.000000</td>\n",
       "      <td>65968.000000</td>\n",
       "      <td>3.000000</td>\n",
       "      <td>3190.000000</td>\n",
       "      <td>3.000000</td>\n",
       "      <td>1344.000000</td>\n",
       "      <td>1580.000000</td>\n",
       "    </tr>\n",
       "  </tbody>\n",
       "</table>\n",
       "</div>"
      ],
      "text/plain": [
       "       total_images    last_price    total_area         rooms  ceiling_height  \\\n",
       "count  23699.000000  2.369900e+04  23699.000000  23699.000000    14504.000000   \n",
       "mean       9.858475  6.541549e+06     60.348651      2.070636        2.771499   \n",
       "std        5.682529  1.088701e+07     35.654083      1.078405        1.261056   \n",
       "min        0.000000  1.219000e+04     12.000000      0.000000        1.000000   \n",
       "25%        6.000000  3.400000e+06     40.000000      1.000000        2.520000   \n",
       "50%        9.000000  4.650000e+06     52.000000      2.000000        2.650000   \n",
       "75%       14.000000  6.800000e+06     69.900000      3.000000        2.800000   \n",
       "max       50.000000  7.630000e+08    900.000000     19.000000      100.000000   \n",
       "\n",
       "       floors_total   living_area         floor  kitchen_area       balcony  \\\n",
       "count  23613.000000  21796.000000  23699.000000  21421.000000  12180.000000   \n",
       "mean      10.673824     34.457852      5.892358     10.569807      1.150082   \n",
       "std        6.597173     22.030445      4.885249      5.905438      1.071300   \n",
       "min        1.000000      2.000000      1.000000      1.300000      0.000000   \n",
       "25%        5.000000     18.600000      2.000000      7.000000      0.000000   \n",
       "50%        9.000000     30.000000      4.000000      9.100000      1.000000   \n",
       "75%       16.000000     42.300000      8.000000     12.000000      2.000000   \n",
       "max       60.000000    409.700000     33.000000    112.000000      5.000000   \n",
       "\n",
       "       airports_nearest  cityCenters_nearest  parks_around3000  parks_nearest  \\\n",
       "count      18157.000000         18180.000000      18181.000000    8079.000000   \n",
       "mean       28793.672193         14191.277833          0.611408     490.804555   \n",
       "std        12630.880622          8608.386210          0.802074     342.317995   \n",
       "min            0.000000           181.000000          0.000000       1.000000   \n",
       "25%        18585.000000          9238.000000          0.000000     288.000000   \n",
       "50%        26726.000000         13098.500000          0.000000     455.000000   \n",
       "75%        37273.000000         16293.000000          1.000000     612.000000   \n",
       "max        84869.000000         65968.000000          3.000000    3190.000000   \n",
       "\n",
       "       ponds_around3000  ponds_nearest  days_exposition  \n",
       "count      18181.000000    9110.000000     20518.000000  \n",
       "mean           0.770255     517.980900       180.888634  \n",
       "std            0.938346     277.720643       219.727988  \n",
       "min            0.000000      13.000000         1.000000  \n",
       "25%            0.000000     294.000000        45.000000  \n",
       "50%            1.000000     502.000000        95.000000  \n",
       "75%            1.000000     729.000000       232.000000  \n",
       "max            3.000000    1344.000000      1580.000000  "
      ]
     },
     "execution_count": 10,
     "metadata": {},
     "output_type": "execute_result"
    }
   ],
   "source": [
    "df.describe()"
   ]
  },
  {
   "cell_type": "markdown",
   "metadata": {},
   "source": [
    "Максимальные значения некоторых столбцов удивляют конечно, но всё возможно. Однако стоит проверить данные на выбросы."
   ]
  },
  {
   "cell_type": "markdown",
   "metadata": {},
   "source": [
    "## Вывод"
   ]
  },
  {
   "cell_type": "markdown",
   "metadata": {},
   "source": [
    "Перед тем как начать работать с данными, нужно их предобработать:\n",
    "- переименовать и превести к общему регистру столбцы: _cityCenters_nearest_, _parks_around3000_ и _ponds_around3000_;\n",
    "- проверить таблицу на дубликаты и пропуски;\n",
    "- перевести данные в более удобный формат;\n",
    "- проверить данные на выбросы."
   ]
  },
  {
   "cell_type": "markdown",
   "metadata": {},
   "source": [
    "## 2. Предобработка данных"
   ]
  },
  {
   "cell_type": "markdown",
   "metadata": {},
   "source": [
    "### 2.1. Меняем наименование столбцов:"
   ]
  },
  {
   "cell_type": "markdown",
   "metadata": {},
   "source": [
    "- `cityCenters_nearest` на __city_centers_nearest__\n",
    "- `parks_around3000` на __parks_around__\n",
    "- `ponds_around3000` на __ponds_around__"
   ]
  },
  {
   "cell_type": "code",
   "execution_count": 11,
   "metadata": {},
   "outputs": [],
   "source": [
    "df.rename(columns={'cityCenters_nearest': 'city_centers_nearest', \n",
    "                   'parks_around3000': 'parks_around', 'ponds_around3000': 'ponds_around'}, inplace=True)"
   ]
  },
  {
   "cell_type": "markdown",
   "metadata": {},
   "source": [
    "Проверяем"
   ]
  },
  {
   "cell_type": "code",
   "execution_count": 12,
   "metadata": {},
   "outputs": [
    {
     "data": {
      "text/plain": [
       "Index(['total_images', 'last_price', 'total_area', 'first_day_exposition',\n",
       "       'rooms', 'ceiling_height', 'floors_total', 'living_area', 'floor',\n",
       "       'is_apartment', 'studio', 'open_plan', 'kitchen_area', 'balcony',\n",
       "       'locality_name', 'airports_nearest', 'city_centers_nearest',\n",
       "       'parks_around', 'parks_nearest', 'ponds_around', 'ponds_nearest',\n",
       "       'days_exposition'],\n",
       "      dtype='object')"
      ]
     },
     "execution_count": 12,
     "metadata": {},
     "output_type": "execute_result"
    }
   ],
   "source": [
    "df.columns"
   ]
  },
  {
   "cell_type": "markdown",
   "metadata": {},
   "source": [
    "### 2.2. Обработка пропусков"
   ]
  },
  {
   "cell_type": "markdown",
   "metadata": {},
   "source": [
    "Посмотрим что у нас с пропущенными значениями:"
   ]
  },
  {
   "cell_type": "code",
   "execution_count": 13,
   "metadata": {},
   "outputs": [
    {
     "data": {
      "text/plain": [
       "is_apartment            88.290645\n",
       "parks_nearest           65.909954\n",
       "ponds_nearest           61.559559\n",
       "balcony                 48.605426\n",
       "ceiling_height          38.799105\n",
       "airports_nearest        23.384953\n",
       "city_centers_nearest    23.287902\n",
       "parks_around            23.283683\n",
       "ponds_around            23.283683\n",
       "days_exposition         13.422507\n",
       "kitchen_area             9.612220\n",
       "living_area              8.029875\n",
       "floors_total             0.362885\n",
       "locality_name            0.206760\n",
       "first_day_exposition     0.000000\n",
       "last_price               0.000000\n",
       "total_area               0.000000\n",
       "studio                   0.000000\n",
       "rooms                    0.000000\n",
       "floor                    0.000000\n",
       "open_plan                0.000000\n",
       "total_images             0.000000\n",
       "dtype: float64"
      ]
     },
     "execution_count": 13,
     "metadata": {},
     "output_type": "execute_result"
    }
   ],
   "source": [
    "(df.isna().mean().sort_values(ascending = False))*100"
   ]
  },
  {
   "cell_type": "markdown",
   "metadata": {},
   "source": [
    "Их очень много. В 9 столбцах пропусков больше 20%. Будем разбираться по порядку:"
   ]
  },
  {
   "cell_type": "code",
   "execution_count": 14,
   "metadata": {},
   "outputs": [
    {
     "data": {
      "text/plain": [
       "False    2725\n",
       "True       50\n",
       "Name: is_apartment, dtype: int64"
      ]
     },
     "execution_count": 14,
     "metadata": {},
     "output_type": "execute_result"
    }
   ],
   "source": [
    "df['is_apartment'].value_counts()"
   ]
  },
  {
   "cell_type": "markdown",
   "metadata": {},
   "source": [
    "Данные были не заполнены, т.к. не все люди знают что это за тип жилья, а те кто знают отметили по соответсвию. Скорее всего нет данных т.к. это не обязательное поле, и большинство людей просто не знают что оно значит. Поэтому пропущенные значения приравняем к __False__."
   ]
  },
  {
   "cell_type": "code",
   "execution_count": 15,
   "metadata": {},
   "outputs": [],
   "source": [
    "df['is_apartment'] = df['is_apartment'].fillna(False)"
   ]
  },
  {
   "cell_type": "markdown",
   "metadata": {},
   "source": [
    "__parks_nearest__ и __ponds_nearest__ пока заполнять не будем т.к. скорее всего заполняется самой системой в пределах определённого радиуса по карте. Сответсвенно, если система не нашла ближайший парк или водоём в своей \"зоне поиска\" то и данных нет."
   ]
  },
  {
   "cell_type": "markdown",
   "metadata": {},
   "source": [
    "__balcony__ - балконы либо есть, либо их нет. Посмотрим что у нас с ними:"
   ]
  },
  {
   "cell_type": "code",
   "execution_count": 16,
   "metadata": {},
   "outputs": [
    {
     "name": "stdout",
     "output_type": "stream",
     "text": [
      "Пропусков в столбце balcony 11519\n",
      "Пропусков в столбце balcony, если комнат не больше трёх 10560\n"
     ]
    }
   ],
   "source": [
    "rooms_before3 = df.query('rooms < 4')\n",
    "print('Пропусков в столбце balcony', df['balcony'].isna().sum())\n",
    "print('Пропусков в столбце balcony, если комнат не больше трёх', rooms_before3['balcony'].isna().sum())"
   ]
  },
  {
   "cell_type": "markdown",
   "metadata": {},
   "source": [
    "Почти все пропущенные значения относятся к квартирам массовой застройки (от студий до 3-ёх комнат). Т.к. после появлений студий и апартаментов всё больше домов стали строить без балконов, а ещё их нет во многих \"хрущёвках\", в зданиях предназначенных ранее для общежитий и на первых этажах большинства домов, то эти пропуски заполним 0."
   ]
  },
  {
   "cell_type": "code",
   "execution_count": 17,
   "metadata": {},
   "outputs": [],
   "source": [
    "df['balcony'] = df['balcony'].fillna(0)"
   ]
  },
  {
   "cell_type": "markdown",
   "metadata": {},
   "source": [
    "Посмотрим, что у нас с высотой потолков __ceiling_height__, в таблице \"числовых данных\" было значение 100м при этом медианное значение 2.65м, так бывает? :)"
   ]
  },
  {
   "cell_type": "code",
   "execution_count": 18,
   "metadata": {},
   "outputs": [
    {
     "data": {
      "image/png": "[encoded data removed]",
      "text/plain": [
       "<Figure size 864x216 with 1 Axes>"
      ]
     },
     "metadata": {
      "needs_background": "light"
     },
     "output_type": "display_data"
    }
   ],
   "source": [
    "df.boxplot(column='ceiling_height', figsize=(12,3), vert=False).set_title(\"Высота потолков\")\n",
    "plt.show()"
   ]
  },
  {
   "cell_type": "markdown",
   "metadata": {},
   "source": [
    "Очевидно что это выброс, заполним по медиане:"
   ]
  },
  {
   "cell_type": "code",
   "execution_count": 19,
   "metadata": {},
   "outputs": [],
   "source": [
    "df['ceiling_height'] = df['ceiling_height'].fillna(df['ceiling_height'].median())"
   ]
  },
  {
   "cell_type": "markdown",
   "metadata": {},
   "source": [
    "__airports_nearest__, __city_centers_nearest__, __parks_around__ и __ponds_around__ пока заполнять не будем по той же причине что и _parks_nearest_ с _ponds_nearest_: \"скорее всего заполняется самой системой в пределах определённого радиуса по карте\"."
   ]
  },
  {
   "cell_type": "markdown",
   "metadata": {},
   "source": [
    "__days_exposition__ логично предположить, этих данных просто нет. Во-первых, продажу могли произвести, но на сервисе не отметить факт продажи. Во-вторых, объявление может быть ещё активным. Поэтому пока заполнять их тоже не будем."
   ]
  },
  {
   "cell_type": "markdown",
   "metadata": {},
   "source": [
    "__living_area__ и __kitchen_area__. Для того чтобы заполнить пропуски в этих данных, нужно сделать срезы по числу комнат (эти данные у нас есть)."
   ]
  },
  {
   "cell_type": "markdown",
   "metadata": {},
   "source": [
    "Для начала посмотрим распределение на количество объявлений и комнат:"
   ]
  },
  {
   "cell_type": "code",
   "execution_count": 20,
   "metadata": {},
   "outputs": [
    {
     "data": {
      "image/png": "[encoded data removed]",
      "text/plain": [
       "<Figure size 1080x360 with 1 Axes>"
      ]
     },
     "metadata": {
      "needs_background": "light"
     },
     "output_type": "display_data"
    }
   ],
   "source": [
    "df['rooms'].hist(bins = 100, figsize=(15, 5))\n",
    "plt.xlabel(\"Кол-во комнат\")\n",
    "plt.ylabel(\"Кол-во объявлений\")\n",
    "plt.show()"
   ]
  },
  {
   "cell_type": "markdown",
   "metadata": {},
   "source": [
    "0 комнат, странное количество, посмотрим сколько таких квартир, и каких они размеров:"
   ]
  },
  {
   "cell_type": "code",
   "execution_count": 21,
   "metadata": {},
   "outputs": [
    {
     "data": {
      "image/png": "[encoded data removed]",
      "text/plain": [
       "<Figure size 1080x360 with 1 Axes>"
      ]
     },
     "metadata": {
      "needs_background": "light"
     },
     "output_type": "display_data"
    },
    {
     "name": "stdout",
     "output_type": "stream",
     "text": [
      "Количество объявлений со значением комнат \"0\": 197\n"
     ]
    }
   ],
   "source": [
    "rooms_zero = df.query('rooms < 1')\n",
    "# строим гистограмму\n",
    "rooms_zero['living_area'].hist(bins = 200, figsize=(15, 5))\n",
    "plt.xlabel(\"м²\")\n",
    "plt.ylabel(\"Кол-во объявлений\")\n",
    "plt.show()\n",
    "# считаем кол-во\n",
    "print('Количество объявлений со значением комнат \"0\":', len(rooms_zero))"
   ]
  },
  {
   "cell_type": "markdown",
   "metadata": {},
   "source": [
    "Всего 197 объявлений, основная масса от 10м² до 30м². Скорее всего это студии, лучше их приравнять к однокомнатным, множество ресурсов так и делает, тем более что студии у нас категоризированы."
   ]
  },
  {
   "cell_type": "code",
   "execution_count": 22,
   "metadata": {},
   "outputs": [],
   "source": [
    "df['rooms'] = df['rooms'].replace(0, 1)"
   ]
  },
  {
   "cell_type": "markdown",
   "metadata": {},
   "source": [
    "Сделаем следующие выборки:\n",
    "- 1-комнатные;\n",
    "- 2-комнатные;\n",
    "- 3-комнатные;\n",
    "- многокомнатные квартиры (4+ комнат)."
   ]
  },
  {
   "cell_type": "code",
   "execution_count": 23,
   "metadata": {
    "scrolled": true
   },
   "outputs": [
    {
     "name": "stdout",
     "output_type": "stream",
     "text": [
      "Количество объявлений\n",
      "Однокомнатные: 8244\n",
      "Двухкомнатные: 7940\n",
      "Трёхкомнатные: 5814\n",
      "Многокомнатные: 1701\n"
     ]
    }
   ],
   "source": [
    "rooms_1 = df.query('rooms == 1')\n",
    "rooms_2 = df.query('rooms == 2')\n",
    "rooms_3 = df.query('rooms == 3')\n",
    "rooms_top = df.query('rooms > 3')\n",
    "print('Количество объявлений')\n",
    "print('Однокомнатные:', len(rooms_1))\n",
    "print('Двухкомнатные:', len(rooms_2))\n",
    "print('Трёхкомнатные:', len(rooms_3))\n",
    "print('Многокомнатные:', len(rooms_top))"
   ]
  },
  {
   "cell_type": "markdown",
   "metadata": {},
   "source": [
    "Посмотрим на распределение жилой площади этих квартир:"
   ]
  },
  {
   "cell_type": "code",
   "execution_count": 24,
   "metadata": {
    "scrolled": true
   },
   "outputs": [
    {
     "data": {
      "image/png": "[encoded data removed]",
      "text/plain": [
       "<Figure size 864x216 with 1 Axes>"
      ]
     },
     "metadata": {
      "needs_background": "light"
     },
     "output_type": "display_data"
    },
    {
     "data": {
      "image/png": "[encoded data removed]",
      "text/plain": [
       "<Figure size 864x216 with 1 Axes>"
      ]
     },
     "metadata": {
      "needs_background": "light"
     },
     "output_type": "display_data"
    },
    {
     "data": {
      "image/png": "[encoded data removed]",
      "text/plain": [
       "<Figure size 864x216 with 1 Axes>"
      ]
     },
     "metadata": {
      "needs_background": "light"
     },
     "output_type": "display_data"
    },
    {
     "data": {
      "image/png": "[encoded data removed]",
      "text/plain": [
       "<Figure size 864x216 with 1 Axes>"
      ]
     },
     "metadata": {
      "needs_background": "light"
     },
     "output_type": "display_data"
    }
   ],
   "source": [
    "# поместим значения в переменную:\n",
    "list_rooms = {\n",
    "    'Однокомнатные':rooms_1, 'Двухкомнатные':rooms_2, \n",
    "    'Трёхкомнатные':rooms_3, 'Многокомнатные':rooms_top,}\n",
    "# создадим цикл для boxplot:\n",
    "for key in list_rooms:\n",
    "    list_rooms[key].boxplot(column='living_area', figsize=(12,3), vert=False).set_title(key)\n",
    "    plt.show()"
   ]
  },
  {
   "cell_type": "markdown",
   "metadata": {},
   "source": [
    "Пропуски вполне можно менять по медианам:"
   ]
  },
  {
   "cell_type": "code",
   "execution_count": 25,
   "metadata": {},
   "outputs": [
    {
     "data": {
      "text/plain": [
       "1903"
      ]
     },
     "execution_count": 25,
     "metadata": {},
     "output_type": "execute_result"
    }
   ],
   "source": [
    "df['living_area'].isna().sum()"
   ]
  },
  {
   "cell_type": "code",
   "execution_count": 26,
   "metadata": {},
   "outputs": [],
   "source": [
    "df.loc[(df['living_area'].isnull()) & (df['rooms']==1), 'living_area'] = rooms_1['living_area'].median()\n",
    "df.loc[(df['living_area'].isnull()) & (df['rooms']==2), 'living_area'] = rooms_2['living_area'].median()\n",
    "df.loc[(df['living_area'].isnull()) & (df['rooms']==3), 'living_area'] = rooms_3['living_area'].median()\n",
    "df.loc[(df['living_area'].isnull()) & (df['rooms']>3), 'living_area'] = rooms_top['living_area'].median()"
   ]
  },
  {
   "cell_type": "markdown",
   "metadata": {},
   "source": [
    "Посмотрим на распределение площади кухонь этих квартир:"
   ]
  },
  {
   "cell_type": "code",
   "execution_count": 27,
   "metadata": {},
   "outputs": [
    {
     "data": {
      "image/png": "[encoded data removed]",
      "text/plain": [
       "<Figure size 864x216 with 1 Axes>"
      ]
     },
     "metadata": {
      "needs_background": "light"
     },
     "output_type": "display_data"
    },
    {
     "data": {
      "image/png": "[encoded data removed]",
      "text/plain": [
       "<Figure size 864x216 with 1 Axes>"
      ]
     },
     "metadata": {
      "needs_background": "light"
     },
     "output_type": "display_data"
    },
    {
     "data": {
      "image/png": "[encoded data removed]",
      "text/plain": [
       "<Figure size 864x216 with 1 Axes>"
      ]
     },
     "metadata": {
      "needs_background": "light"
     },
     "output_type": "display_data"
    },
    {
     "data": {
      "image/png": "[encoded data removed]",
      "text/plain": [
       "<Figure size 864x216 with 1 Axes>"
      ]
     },
     "metadata": {
      "needs_background": "light"
     },
     "output_type": "display_data"
    }
   ],
   "source": [
    "# создадим цикл для boxplot:\n",
    "for key in list_rooms:\n",
    "    list_rooms[key].boxplot(column='kitchen_area', figsize=(12,3), vert=False).set_title(key)\n",
    "    plt.show()"
   ]
  },
  {
   "cell_type": "markdown",
   "metadata": {},
   "source": [
    "Тоже поменяем по медианным значениям:"
   ]
  },
  {
   "cell_type": "code",
   "execution_count": 28,
   "metadata": {},
   "outputs": [
    {
     "data": {
      "text/plain": [
       "2278"
      ]
     },
     "execution_count": 28,
     "metadata": {},
     "output_type": "execute_result"
    }
   ],
   "source": [
    "df['kitchen_area'].isna().sum()"
   ]
  },
  {
   "cell_type": "code",
   "execution_count": 29,
   "metadata": {},
   "outputs": [],
   "source": [
    "df.loc[(df['kitchen_area'].isnull()) & (df['rooms']==1), 'kitchen_area'] = rooms_1['kitchen_area'].median()\n",
    "df.loc[(df['kitchen_area'].isnull()) & (df['rooms']==2), 'kitchen_area'] = rooms_2['kitchen_area'].median()\n",
    "df.loc[(df['kitchen_area'].isnull()) & (df['rooms']==3), 'kitchen_area'] = rooms_3['kitchen_area'].median()\n",
    "df.loc[(df['kitchen_area'].isnull()) & (df['rooms']>3), 'kitchen_area'] = rooms_top['kitchen_area'].median()"
   ]
  },
  {
   "cell_type": "markdown",
   "metadata": {},
   "source": [
    "__floors_total__ и __locality_name__ - эти параметры важны для нашего исследования, их нужно указать, либо избавиться от них. Выясним сначала сколько всего пропущенных значений:"
   ]
  },
  {
   "cell_type": "code",
   "execution_count": 30,
   "metadata": {},
   "outputs": [
    {
     "name": "stdout",
     "output_type": "stream",
     "text": [
      "Количество объявлений с пропусками в этажности дома: 86\n",
      "Количество объявлений с пропусками населённого пункта: 49\n"
     ]
    }
   ],
   "source": [
    "print('Количество объявлений с пропусками в этажности дома:', df['floors_total'].isna().sum())\n",
    "print('Количество объявлений с пропусками населённого пункта:', df['locality_name'].isna().sum())"
   ]
  },
  {
   "cell_type": "markdown",
   "metadata": {},
   "source": [
    "Не много, избавимся от них, на исследование это не повлияет:"
   ]
  },
  {
   "cell_type": "code",
   "execution_count": 31,
   "metadata": {},
   "outputs": [],
   "source": [
    "df = df.dropna(axis='index', how='any', subset=['floors_total','locality_name']).reset_index(drop=True)"
   ]
  },
  {
   "cell_type": "markdown",
   "metadata": {},
   "source": [
    "Проверим дубли:"
   ]
  },
  {
   "cell_type": "code",
   "execution_count": 32,
   "metadata": {},
   "outputs": [
    {
     "data": {
      "text/plain": [
       "0"
      ]
     },
     "execution_count": 32,
     "metadata": {},
     "output_type": "execute_result"
    }
   ],
   "source": [
    "df.duplicated().sum()"
   ]
  },
  {
   "cell_type": "markdown",
   "metadata": {},
   "source": [
    "Отлично, данные поправили. Перепроверим что у нас получилось:"
   ]
  },
  {
   "cell_type": "code",
   "execution_count": 33,
   "metadata": {},
   "outputs": [
    {
     "data": {
      "text/plain": [
       "parks_nearest           65.924040\n",
       "ponds_nearest           61.654997\n",
       "airports_nearest        23.441545\n",
       "city_centers_nearest    23.343942\n",
       "ponds_around            23.339699\n",
       "parks_around            23.339699\n",
       "days_exposition         13.456397\n",
       "living_area              0.000000\n",
       "last_price               0.000000\n",
       "total_area               0.000000\n",
       "first_day_exposition     0.000000\n",
       "rooms                    0.000000\n",
       "ceiling_height           0.000000\n",
       "floors_total             0.000000\n",
       "studio                   0.000000\n",
       "floor                    0.000000\n",
       "is_apartment             0.000000\n",
       "open_plan                0.000000\n",
       "kitchen_area             0.000000\n",
       "balcony                  0.000000\n",
       "locality_name            0.000000\n",
       "total_images             0.000000\n",
       "dtype: float64"
      ]
     },
     "execution_count": 33,
     "metadata": {},
     "output_type": "execute_result"
    }
   ],
   "source": [
    "(df.isna().mean().sort_values(ascending = False))*100"
   ]
  },
  {
   "cell_type": "markdown",
   "metadata": {},
   "source": [
    "### 2.3. Замена типа данных"
   ]
  },
  {
   "cell_type": "markdown",
   "metadata": {},
   "source": [
    "Теперь посмотрим на типы данных. И поменяем их на те, с которыми нам будет удобнее работать:"
   ]
  },
  {
   "cell_type": "code",
   "execution_count": 34,
   "metadata": {},
   "outputs": [
    {
     "name": "stdout",
     "output_type": "stream",
     "text": [
      "<class 'pandas.core.frame.DataFrame'>\n",
      "RangeIndex: 23565 entries, 0 to 23564\n",
      "Data columns (total 22 columns):\n",
      "total_images            23565 non-null int64\n",
      "last_price              23565 non-null float64\n",
      "total_area              23565 non-null float64\n",
      "first_day_exposition    23565 non-null object\n",
      "rooms                   23565 non-null int64\n",
      "ceiling_height          23565 non-null float64\n",
      "floors_total            23565 non-null float64\n",
      "living_area             23565 non-null float64\n",
      "floor                   23565 non-null int64\n",
      "is_apartment            23565 non-null bool\n",
      "studio                  23565 non-null bool\n",
      "open_plan               23565 non-null bool\n",
      "kitchen_area            23565 non-null float64\n",
      "balcony                 23565 non-null float64\n",
      "locality_name           23565 non-null object\n",
      "airports_nearest        18041 non-null float64\n",
      "city_centers_nearest    18064 non-null float64\n",
      "parks_around            18065 non-null float64\n",
      "parks_nearest           8030 non-null float64\n",
      "ponds_around            18065 non-null float64\n",
      "ponds_nearest           9036 non-null float64\n",
      "days_exposition         20394 non-null float64\n",
      "dtypes: bool(3), float64(14), int64(3), object(2)\n",
      "memory usage: 3.5+ MB\n"
     ]
    },
    {
     "data": {
      "text/html": [
       "<div>\n",
       "<style scoped>\n",
       "    .dataframe tbody tr th:only-of-type {\n",
       "        vertical-align: middle;\n",
       "    }\n",
       "\n",
       "    .dataframe tbody tr th {\n",
       "        vertical-align: top;\n",
       "    }\n",
       "\n",
       "    .dataframe thead th {\n",
       "        text-align: right;\n",
       "    }\n",
       "</style>\n",
       "<table border=\"1\" class=\"dataframe\">\n",
       "  <thead>\n",
       "    <tr style=\"text-align: right;\">\n",
       "      <th></th>\n",
       "      <th>total_images</th>\n",
       "      <th>last_price</th>\n",
       "      <th>total_area</th>\n",
       "      <th>first_day_exposition</th>\n",
       "      <th>rooms</th>\n",
       "      <th>ceiling_height</th>\n",
       "      <th>floors_total</th>\n",
       "      <th>living_area</th>\n",
       "      <th>floor</th>\n",
       "      <th>is_apartment</th>\n",
       "      <th>...</th>\n",
       "      <th>kitchen_area</th>\n",
       "      <th>balcony</th>\n",
       "      <th>locality_name</th>\n",
       "      <th>airports_nearest</th>\n",
       "      <th>city_centers_nearest</th>\n",
       "      <th>parks_around</th>\n",
       "      <th>parks_nearest</th>\n",
       "      <th>ponds_around</th>\n",
       "      <th>ponds_nearest</th>\n",
       "      <th>days_exposition</th>\n",
       "    </tr>\n",
       "  </thead>\n",
       "  <tbody>\n",
       "    <tr>\n",
       "      <td>0</td>\n",
       "      <td>20</td>\n",
       "      <td>13000000.0</td>\n",
       "      <td>108.0</td>\n",
       "      <td>2019-03-07T00:00:00</td>\n",
       "      <td>3</td>\n",
       "      <td>2.70</td>\n",
       "      <td>16.0</td>\n",
       "      <td>51.0</td>\n",
       "      <td>8</td>\n",
       "      <td>False</td>\n",
       "      <td>...</td>\n",
       "      <td>25.0</td>\n",
       "      <td>0.0</td>\n",
       "      <td>Санкт-Петербург</td>\n",
       "      <td>18863.0</td>\n",
       "      <td>16028.0</td>\n",
       "      <td>1.0</td>\n",
       "      <td>482.0</td>\n",
       "      <td>2.0</td>\n",
       "      <td>755.0</td>\n",
       "      <td>NaN</td>\n",
       "    </tr>\n",
       "    <tr>\n",
       "      <td>1</td>\n",
       "      <td>7</td>\n",
       "      <td>3350000.0</td>\n",
       "      <td>40.4</td>\n",
       "      <td>2018-12-04T00:00:00</td>\n",
       "      <td>1</td>\n",
       "      <td>2.65</td>\n",
       "      <td>11.0</td>\n",
       "      <td>18.6</td>\n",
       "      <td>1</td>\n",
       "      <td>False</td>\n",
       "      <td>...</td>\n",
       "      <td>11.0</td>\n",
       "      <td>2.0</td>\n",
       "      <td>посёлок Шушары</td>\n",
       "      <td>12817.0</td>\n",
       "      <td>18603.0</td>\n",
       "      <td>0.0</td>\n",
       "      <td>NaN</td>\n",
       "      <td>0.0</td>\n",
       "      <td>NaN</td>\n",
       "      <td>81.0</td>\n",
       "    </tr>\n",
       "    <tr>\n",
       "      <td>2</td>\n",
       "      <td>10</td>\n",
       "      <td>5196000.0</td>\n",
       "      <td>56.0</td>\n",
       "      <td>2015-08-20T00:00:00</td>\n",
       "      <td>2</td>\n",
       "      <td>2.65</td>\n",
       "      <td>5.0</td>\n",
       "      <td>34.3</td>\n",
       "      <td>4</td>\n",
       "      <td>False</td>\n",
       "      <td>...</td>\n",
       "      <td>8.3</td>\n",
       "      <td>0.0</td>\n",
       "      <td>Санкт-Петербург</td>\n",
       "      <td>21741.0</td>\n",
       "      <td>13933.0</td>\n",
       "      <td>1.0</td>\n",
       "      <td>90.0</td>\n",
       "      <td>2.0</td>\n",
       "      <td>574.0</td>\n",
       "      <td>558.0</td>\n",
       "    </tr>\n",
       "    <tr>\n",
       "      <td>3</td>\n",
       "      <td>0</td>\n",
       "      <td>64900000.0</td>\n",
       "      <td>159.0</td>\n",
       "      <td>2015-07-24T00:00:00</td>\n",
       "      <td>3</td>\n",
       "      <td>2.65</td>\n",
       "      <td>14.0</td>\n",
       "      <td>45.0</td>\n",
       "      <td>9</td>\n",
       "      <td>False</td>\n",
       "      <td>...</td>\n",
       "      <td>9.5</td>\n",
       "      <td>0.0</td>\n",
       "      <td>Санкт-Петербург</td>\n",
       "      <td>28098.0</td>\n",
       "      <td>6800.0</td>\n",
       "      <td>2.0</td>\n",
       "      <td>84.0</td>\n",
       "      <td>3.0</td>\n",
       "      <td>234.0</td>\n",
       "      <td>424.0</td>\n",
       "    </tr>\n",
       "    <tr>\n",
       "      <td>4</td>\n",
       "      <td>2</td>\n",
       "      <td>10000000.0</td>\n",
       "      <td>100.0</td>\n",
       "      <td>2018-06-19T00:00:00</td>\n",
       "      <td>2</td>\n",
       "      <td>3.03</td>\n",
       "      <td>14.0</td>\n",
       "      <td>32.0</td>\n",
       "      <td>13</td>\n",
       "      <td>False</td>\n",
       "      <td>...</td>\n",
       "      <td>41.0</td>\n",
       "      <td>0.0</td>\n",
       "      <td>Санкт-Петербург</td>\n",
       "      <td>31856.0</td>\n",
       "      <td>8098.0</td>\n",
       "      <td>2.0</td>\n",
       "      <td>112.0</td>\n",
       "      <td>1.0</td>\n",
       "      <td>48.0</td>\n",
       "      <td>121.0</td>\n",
       "    </tr>\n",
       "  </tbody>\n",
       "</table>\n",
       "<p>5 rows × 22 columns</p>\n",
       "</div>"
      ],
      "text/plain": [
       "   total_images  last_price  total_area first_day_exposition  rooms  \\\n",
       "0            20  13000000.0       108.0  2019-03-07T00:00:00      3   \n",
       "1             7   3350000.0        40.4  2018-12-04T00:00:00      1   \n",
       "2            10   5196000.0        56.0  2015-08-20T00:00:00      2   \n",
       "3             0  64900000.0       159.0  2015-07-24T00:00:00      3   \n",
       "4             2  10000000.0       100.0  2018-06-19T00:00:00      2   \n",
       "\n",
       "   ceiling_height  floors_total  living_area  floor  is_apartment  ...  \\\n",
       "0            2.70          16.0         51.0      8         False  ...   \n",
       "1            2.65          11.0         18.6      1         False  ...   \n",
       "2            2.65           5.0         34.3      4         False  ...   \n",
       "3            2.65          14.0         45.0      9         False  ...   \n",
       "4            3.03          14.0         32.0     13         False  ...   \n",
       "\n",
       "   kitchen_area  balcony    locality_name  airports_nearest  \\\n",
       "0          25.0      0.0  Санкт-Петербург           18863.0   \n",
       "1          11.0      2.0   посёлок Шушары           12817.0   \n",
       "2           8.3      0.0  Санкт-Петербург           21741.0   \n",
       "3           9.5      0.0  Санкт-Петербург           28098.0   \n",
       "4          41.0      0.0  Санкт-Петербург           31856.0   \n",
       "\n",
       "  city_centers_nearest  parks_around  parks_nearest  ponds_around  \\\n",
       "0              16028.0           1.0          482.0           2.0   \n",
       "1              18603.0           0.0            NaN           0.0   \n",
       "2              13933.0           1.0           90.0           2.0   \n",
       "3               6800.0           2.0           84.0           3.0   \n",
       "4               8098.0           2.0          112.0           1.0   \n",
       "\n",
       "   ponds_nearest  days_exposition  \n",
       "0          755.0              NaN  \n",
       "1            NaN             81.0  \n",
       "2          574.0            558.0  \n",
       "3          234.0            424.0  \n",
       "4           48.0            121.0  \n",
       "\n",
       "[5 rows x 22 columns]"
      ]
     },
     "execution_count": 34,
     "metadata": {},
     "output_type": "execute_result"
    }
   ],
   "source": [
    "df.info()\n",
    "df.head()"
   ]
  },
  {
   "cell_type": "markdown",
   "metadata": {},
   "source": [
    "Меняем в целочисленный тип данных:__last_price__, __floors_total__, __balcony__, __airports_nearest__, __city_centers_nearest__, __parks_around__, __parks_nearest__, __ponds_around__, __ponds_nearest__ и __days_exposition__."
   ]
  },
  {
   "cell_type": "markdown",
   "metadata": {},
   "source": [
    "Для того чтобы поменять тип данных в тех столбцах где мы _не заполняли пропуски_, нужно `замаркировать` эти пропуски, например отрицательным значением __-9__."
   ]
  },
  {
   "cell_type": "code",
   "execution_count": 35,
   "metadata": {},
   "outputs": [],
   "source": [
    "# создадим список для маркировки:\n",
    "df_to_mark = ['airports_nearest', 'city_centers_nearest', \n",
    "             'parks_around', 'parks_nearest','ponds_around', 'ponds_nearest', 'days_exposition']\n",
    "# заменим пропуски:\n",
    "for mark in df_to_mark:\n",
    "    df[mark] = df[mark].fillna(-9)"
   ]
  },
  {
   "cell_type": "code",
   "execution_count": 36,
   "metadata": {},
   "outputs": [],
   "source": [
    "# создадим список с наименованием столбцов:\n",
    "df_to_int = ['last_price', 'floors_total', 'balcony', 'airports_nearest', 'city_centers_nearest', \n",
    "             'parks_around', 'parks_nearest','ponds_around', 'ponds_nearest', 'days_exposition']\n",
    "# теперь можно и тип поменять:\n",
    "for i in df_to_int:\n",
    "    df[i] = df[i].astype('int')"
   ]
  },
  {
   "cell_type": "markdown",
   "metadata": {},
   "source": [
    "Посмотрим как выглядит таблица теперь:"
   ]
  },
  {
   "cell_type": "code",
   "execution_count": 37,
   "metadata": {},
   "outputs": [
    {
     "data": {
      "text/html": [
       "<div>\n",
       "<style scoped>\n",
       "    .dataframe tbody tr th:only-of-type {\n",
       "        vertical-align: middle;\n",
       "    }\n",
       "\n",
       "    .dataframe tbody tr th {\n",
       "        vertical-align: top;\n",
       "    }\n",
       "\n",
       "    .dataframe thead th {\n",
       "        text-align: right;\n",
       "    }\n",
       "</style>\n",
       "<table border=\"1\" class=\"dataframe\">\n",
       "  <thead>\n",
       "    <tr style=\"text-align: right;\">\n",
       "      <th></th>\n",
       "      <th>total_images</th>\n",
       "      <th>last_price</th>\n",
       "      <th>total_area</th>\n",
       "      <th>first_day_exposition</th>\n",
       "      <th>rooms</th>\n",
       "      <th>ceiling_height</th>\n",
       "      <th>floors_total</th>\n",
       "      <th>living_area</th>\n",
       "      <th>floor</th>\n",
       "      <th>is_apartment</th>\n",
       "      <th>...</th>\n",
       "      <th>kitchen_area</th>\n",
       "      <th>balcony</th>\n",
       "      <th>locality_name</th>\n",
       "      <th>airports_nearest</th>\n",
       "      <th>city_centers_nearest</th>\n",
       "      <th>parks_around</th>\n",
       "      <th>parks_nearest</th>\n",
       "      <th>ponds_around</th>\n",
       "      <th>ponds_nearest</th>\n",
       "      <th>days_exposition</th>\n",
       "    </tr>\n",
       "  </thead>\n",
       "  <tbody>\n",
       "    <tr>\n",
       "      <td>16584</td>\n",
       "      <td>7</td>\n",
       "      <td>5400000</td>\n",
       "      <td>82.00</td>\n",
       "      <td>2015-03-10T00:00:00</td>\n",
       "      <td>3</td>\n",
       "      <td>2.65</td>\n",
       "      <td>21</td>\n",
       "      <td>45.60</td>\n",
       "      <td>11</td>\n",
       "      <td>False</td>\n",
       "      <td>...</td>\n",
       "      <td>15.4</td>\n",
       "      <td>0</td>\n",
       "      <td>Санкт-Петербург</td>\n",
       "      <td>21793</td>\n",
       "      <td>17121</td>\n",
       "      <td>0</td>\n",
       "      <td>-9</td>\n",
       "      <td>1</td>\n",
       "      <td>31</td>\n",
       "      <td>1004</td>\n",
       "    </tr>\n",
       "    <tr>\n",
       "      <td>17881</td>\n",
       "      <td>12</td>\n",
       "      <td>4000000</td>\n",
       "      <td>41.30</td>\n",
       "      <td>2018-02-13T00:00:00</td>\n",
       "      <td>1</td>\n",
       "      <td>2.70</td>\n",
       "      <td>15</td>\n",
       "      <td>18.20</td>\n",
       "      <td>14</td>\n",
       "      <td>False</td>\n",
       "      <td>...</td>\n",
       "      <td>10.0</td>\n",
       "      <td>0</td>\n",
       "      <td>Санкт-Петербург</td>\n",
       "      <td>27246</td>\n",
       "      <td>9059</td>\n",
       "      <td>0</td>\n",
       "      <td>-9</td>\n",
       "      <td>0</td>\n",
       "      <td>-9</td>\n",
       "      <td>63</td>\n",
       "    </tr>\n",
       "    <tr>\n",
       "      <td>13826</td>\n",
       "      <td>7</td>\n",
       "      <td>2800000</td>\n",
       "      <td>30.34</td>\n",
       "      <td>2018-08-22T00:00:00</td>\n",
       "      <td>1</td>\n",
       "      <td>2.65</td>\n",
       "      <td>18</td>\n",
       "      <td>15.60</td>\n",
       "      <td>1</td>\n",
       "      <td>False</td>\n",
       "      <td>...</td>\n",
       "      <td>9.2</td>\n",
       "      <td>1</td>\n",
       "      <td>посёлок Мурино</td>\n",
       "      <td>-9</td>\n",
       "      <td>-9</td>\n",
       "      <td>-9</td>\n",
       "      <td>-9</td>\n",
       "      <td>-9</td>\n",
       "      <td>-9</td>\n",
       "      <td>16</td>\n",
       "    </tr>\n",
       "    <tr>\n",
       "      <td>3430</td>\n",
       "      <td>7</td>\n",
       "      <td>6500000</td>\n",
       "      <td>61.00</td>\n",
       "      <td>2016-04-08T00:00:00</td>\n",
       "      <td>3</td>\n",
       "      <td>2.65</td>\n",
       "      <td>5</td>\n",
       "      <td>36.00</td>\n",
       "      <td>1</td>\n",
       "      <td>False</td>\n",
       "      <td>...</td>\n",
       "      <td>7.5</td>\n",
       "      <td>0</td>\n",
       "      <td>Санкт-Петербург</td>\n",
       "      <td>24502</td>\n",
       "      <td>5070</td>\n",
       "      <td>1</td>\n",
       "      <td>330</td>\n",
       "      <td>0</td>\n",
       "      <td>-9</td>\n",
       "      <td>158</td>\n",
       "    </tr>\n",
       "    <tr>\n",
       "      <td>23000</td>\n",
       "      <td>16</td>\n",
       "      <td>4100000</td>\n",
       "      <td>41.20</td>\n",
       "      <td>2018-10-16T00:00:00</td>\n",
       "      <td>1</td>\n",
       "      <td>2.65</td>\n",
       "      <td>19</td>\n",
       "      <td>18.00</td>\n",
       "      <td>15</td>\n",
       "      <td>False</td>\n",
       "      <td>...</td>\n",
       "      <td>11.3</td>\n",
       "      <td>1</td>\n",
       "      <td>посёлок Шушары</td>\n",
       "      <td>11858</td>\n",
       "      <td>17411</td>\n",
       "      <td>0</td>\n",
       "      <td>-9</td>\n",
       "      <td>0</td>\n",
       "      <td>-9</td>\n",
       "      <td>13</td>\n",
       "    </tr>\n",
       "    <tr>\n",
       "      <td>5787</td>\n",
       "      <td>0</td>\n",
       "      <td>1750000</td>\n",
       "      <td>58.00</td>\n",
       "      <td>2016-01-18T00:00:00</td>\n",
       "      <td>3</td>\n",
       "      <td>2.55</td>\n",
       "      <td>9</td>\n",
       "      <td>41.00</td>\n",
       "      <td>9</td>\n",
       "      <td>False</td>\n",
       "      <td>...</td>\n",
       "      <td>7.0</td>\n",
       "      <td>0</td>\n",
       "      <td>Светогорск</td>\n",
       "      <td>-9</td>\n",
       "      <td>-9</td>\n",
       "      <td>-9</td>\n",
       "      <td>-9</td>\n",
       "      <td>-9</td>\n",
       "      <td>-9</td>\n",
       "      <td>213</td>\n",
       "    </tr>\n",
       "    <tr>\n",
       "      <td>989</td>\n",
       "      <td>8</td>\n",
       "      <td>4550000</td>\n",
       "      <td>60.00</td>\n",
       "      <td>2017-12-18T00:00:00</td>\n",
       "      <td>3</td>\n",
       "      <td>2.50</td>\n",
       "      <td>9</td>\n",
       "      <td>39.00</td>\n",
       "      <td>1</td>\n",
       "      <td>False</td>\n",
       "      <td>...</td>\n",
       "      <td>7.0</td>\n",
       "      <td>2</td>\n",
       "      <td>Санкт-Петербург</td>\n",
       "      <td>49725</td>\n",
       "      <td>15726</td>\n",
       "      <td>0</td>\n",
       "      <td>-9</td>\n",
       "      <td>0</td>\n",
       "      <td>-9</td>\n",
       "      <td>119</td>\n",
       "    </tr>\n",
       "    <tr>\n",
       "      <td>1063</td>\n",
       "      <td>14</td>\n",
       "      <td>12900000</td>\n",
       "      <td>158.60</td>\n",
       "      <td>2017-11-24T00:00:00</td>\n",
       "      <td>5</td>\n",
       "      <td>3.00</td>\n",
       "      <td>5</td>\n",
       "      <td>125.00</td>\n",
       "      <td>5</td>\n",
       "      <td>False</td>\n",
       "      <td>...</td>\n",
       "      <td>25.0</td>\n",
       "      <td>0</td>\n",
       "      <td>Санкт-Петербург</td>\n",
       "      <td>22452</td>\n",
       "      <td>4172</td>\n",
       "      <td>1</td>\n",
       "      <td>626</td>\n",
       "      <td>0</td>\n",
       "      <td>-9</td>\n",
       "      <td>499</td>\n",
       "    </tr>\n",
       "    <tr>\n",
       "      <td>6171</td>\n",
       "      <td>16</td>\n",
       "      <td>25000000</td>\n",
       "      <td>121.00</td>\n",
       "      <td>2017-07-10T00:00:00</td>\n",
       "      <td>2</td>\n",
       "      <td>3.30</td>\n",
       "      <td>7</td>\n",
       "      <td>57.70</td>\n",
       "      <td>6</td>\n",
       "      <td>False</td>\n",
       "      <td>...</td>\n",
       "      <td>42.4</td>\n",
       "      <td>0</td>\n",
       "      <td>Санкт-Петербург</td>\n",
       "      <td>26875</td>\n",
       "      <td>5578</td>\n",
       "      <td>2</td>\n",
       "      <td>484</td>\n",
       "      <td>1</td>\n",
       "      <td>302</td>\n",
       "      <td>123</td>\n",
       "    </tr>\n",
       "    <tr>\n",
       "      <td>13939</td>\n",
       "      <td>10</td>\n",
       "      <td>7200000</td>\n",
       "      <td>80.00</td>\n",
       "      <td>2019-03-15T00:00:00</td>\n",
       "      <td>3</td>\n",
       "      <td>2.75</td>\n",
       "      <td>28</td>\n",
       "      <td>46.15</td>\n",
       "      <td>4</td>\n",
       "      <td>False</td>\n",
       "      <td>...</td>\n",
       "      <td>11.1</td>\n",
       "      <td>2</td>\n",
       "      <td>посёлок Парголово</td>\n",
       "      <td>53734</td>\n",
       "      <td>19942</td>\n",
       "      <td>0</td>\n",
       "      <td>-9</td>\n",
       "      <td>0</td>\n",
       "      <td>-9</td>\n",
       "      <td>-9</td>\n",
       "    </tr>\n",
       "  </tbody>\n",
       "</table>\n",
       "<p>10 rows × 22 columns</p>\n",
       "</div>"
      ],
      "text/plain": [
       "       total_images  last_price  total_area first_day_exposition  rooms  \\\n",
       "16584             7     5400000       82.00  2015-03-10T00:00:00      3   \n",
       "17881            12     4000000       41.30  2018-02-13T00:00:00      1   \n",
       "13826             7     2800000       30.34  2018-08-22T00:00:00      1   \n",
       "3430              7     6500000       61.00  2016-04-08T00:00:00      3   \n",
       "23000            16     4100000       41.20  2018-10-16T00:00:00      1   \n",
       "5787              0     1750000       58.00  2016-01-18T00:00:00      3   \n",
       "989               8     4550000       60.00  2017-12-18T00:00:00      3   \n",
       "1063             14    12900000      158.60  2017-11-24T00:00:00      5   \n",
       "6171             16    25000000      121.00  2017-07-10T00:00:00      2   \n",
       "13939            10     7200000       80.00  2019-03-15T00:00:00      3   \n",
       "\n",
       "       ceiling_height  floors_total  living_area  floor  is_apartment  ...  \\\n",
       "16584            2.65            21        45.60     11         False  ...   \n",
       "17881            2.70            15        18.20     14         False  ...   \n",
       "13826            2.65            18        15.60      1         False  ...   \n",
       "3430             2.65             5        36.00      1         False  ...   \n",
       "23000            2.65            19        18.00     15         False  ...   \n",
       "5787             2.55             9        41.00      9         False  ...   \n",
       "989              2.50             9        39.00      1         False  ...   \n",
       "1063             3.00             5       125.00      5         False  ...   \n",
       "6171             3.30             7        57.70      6         False  ...   \n",
       "13939            2.75            28        46.15      4         False  ...   \n",
       "\n",
       "       kitchen_area  balcony      locality_name  airports_nearest  \\\n",
       "16584          15.4        0    Санкт-Петербург             21793   \n",
       "17881          10.0        0    Санкт-Петербург             27246   \n",
       "13826           9.2        1     посёлок Мурино                -9   \n",
       "3430            7.5        0    Санкт-Петербург             24502   \n",
       "23000          11.3        1     посёлок Шушары             11858   \n",
       "5787            7.0        0         Светогорск                -9   \n",
       "989             7.0        2    Санкт-Петербург             49725   \n",
       "1063           25.0        0    Санкт-Петербург             22452   \n",
       "6171           42.4        0    Санкт-Петербург             26875   \n",
       "13939          11.1        2  посёлок Парголово             53734   \n",
       "\n",
       "      city_centers_nearest  parks_around  parks_nearest  ponds_around  \\\n",
       "16584                17121             0             -9             1   \n",
       "17881                 9059             0             -9             0   \n",
       "13826                   -9            -9             -9            -9   \n",
       "3430                  5070             1            330             0   \n",
       "23000                17411             0             -9             0   \n",
       "5787                    -9            -9             -9            -9   \n",
       "989                  15726             0             -9             0   \n",
       "1063                  4172             1            626             0   \n",
       "6171                  5578             2            484             1   \n",
       "13939                19942             0             -9             0   \n",
       "\n",
       "       ponds_nearest  days_exposition  \n",
       "16584             31             1004  \n",
       "17881             -9               63  \n",
       "13826             -9               16  \n",
       "3430              -9              158  \n",
       "23000             -9               13  \n",
       "5787              -9              213  \n",
       "989               -9              119  \n",
       "1063              -9              499  \n",
       "6171             302              123  \n",
       "13939             -9               -9  \n",
       "\n",
       "[10 rows x 22 columns]"
      ]
     },
     "execution_count": 37,
     "metadata": {},
     "output_type": "execute_result"
    }
   ],
   "source": [
    "df.sample(10)"
   ]
  },
  {
   "cell_type": "markdown",
   "metadata": {},
   "source": [
    "Остальные данные вполне пригодны, т.к. квадратные метры имеют десятую долю и это влияет на стоимость за 0,5м²."
   ]
  },
  {
   "cell_type": "markdown",
   "metadata": {},
   "source": [
    "## 3. Посчитайте и добавьте в таблицу"
   ]
  },
  {
   "cell_type": "markdown",
   "metadata": {},
   "source": [
    "Добавим в таблицу столбец с указанием стоимости за м² каждого объявления и сразу отсечём копейки, т.к. они нам ни к чему:"
   ]
  },
  {
   "cell_type": "code",
   "execution_count": 38,
   "metadata": {},
   "outputs": [],
   "source": [
    "df['m2_price'] = df['last_price']/df['total_area']\n",
    "df['m2_price'] = df['m2_price'].astype('int')"
   ]
  },
  {
   "cell_type": "markdown",
   "metadata": {},
   "source": [
    "Теперь нужно добавить столбцы с _днём недели_ , _месяцем_ , _годом_ создания объявления. "
   ]
  },
  {
   "cell_type": "code",
   "execution_count": 39,
   "metadata": {},
   "outputs": [],
   "source": [
    "df['first_day_exposition'] = pd.to_datetime(df['first_day_exposition'], format='%Y.%m.%dT%H:%M:%S')"
   ]
  },
  {
   "cell_type": "code",
   "execution_count": 40,
   "metadata": {},
   "outputs": [],
   "source": [
    "df['day_of_weak'] = df['first_day_exposition'].dt.day_name()\n",
    "df['month'] = df['first_day_exposition'].dt.month_name()\n",
    "df['year'] = df['first_day_exposition'].apply(lambda x: x.year)"
   ]
  },
  {
   "cell_type": "markdown",
   "metadata": {},
   "source": [
    "Добавим этаж квартиры: первый, последний, другой:"
   ]
  },
  {
   "cell_type": "code",
   "execution_count": 41,
   "metadata": {},
   "outputs": [],
   "source": [
    "df['floor_level'] = np.where(df['floor'] == 1, 'первый', 'другой')\n",
    "df['floor_level'] = np.where(df['floor'] == df['floors_total'], 'последний', df['floor_level'])"
   ]
  },
  {
   "cell_type": "markdown",
   "metadata": {},
   "source": [
    "Добавим в таблицу соотношение жилой и общей площиди, а также отношение площади кухни к общей:"
   ]
  },
  {
   "cell_type": "code",
   "execution_count": 42,
   "metadata": {},
   "outputs": [],
   "source": [
    "df['ratio_living_area'] = df['living_area']/df['total_area']\n",
    "df['ratio_kitchen_area'] = df['kitchen_area']/df['total_area']\n",
    "# округлим до двух знаков после запятой:\n",
    "df['ratio_living_area'] = df['ratio_living_area'].round(2)\n",
    "df['ratio_kitchen_area'] = df['ratio_kitchen_area'].round(2)"
   ]
  },
  {
   "cell_type": "markdown",
   "metadata": {},
   "source": [
    "Посмотрим что у нас получилось в итоге:"
   ]
  },
  {
   "cell_type": "code",
   "execution_count": 43,
   "metadata": {},
   "outputs": [
    {
     "data": {
      "text/html": [
       "<div>\n",
       "<style scoped>\n",
       "    .dataframe tbody tr th:only-of-type {\n",
       "        vertical-align: middle;\n",
       "    }\n",
       "\n",
       "    .dataframe tbody tr th {\n",
       "        vertical-align: top;\n",
       "    }\n",
       "\n",
       "    .dataframe thead th {\n",
       "        text-align: right;\n",
       "    }\n",
       "</style>\n",
       "<table border=\"1\" class=\"dataframe\">\n",
       "  <thead>\n",
       "    <tr style=\"text-align: right;\">\n",
       "      <th></th>\n",
       "      <th>total_images</th>\n",
       "      <th>last_price</th>\n",
       "      <th>total_area</th>\n",
       "      <th>first_day_exposition</th>\n",
       "      <th>rooms</th>\n",
       "      <th>ceiling_height</th>\n",
       "      <th>floors_total</th>\n",
       "      <th>living_area</th>\n",
       "      <th>floor</th>\n",
       "      <th>is_apartment</th>\n",
       "      <th>...</th>\n",
       "      <th>ponds_around</th>\n",
       "      <th>ponds_nearest</th>\n",
       "      <th>days_exposition</th>\n",
       "      <th>m2_price</th>\n",
       "      <th>day_of_weak</th>\n",
       "      <th>month</th>\n",
       "      <th>year</th>\n",
       "      <th>floor_level</th>\n",
       "      <th>ratio_living_area</th>\n",
       "      <th>ratio_kitchen_area</th>\n",
       "    </tr>\n",
       "  </thead>\n",
       "  <tbody>\n",
       "    <tr>\n",
       "      <td>0</td>\n",
       "      <td>20</td>\n",
       "      <td>13000000</td>\n",
       "      <td>108.00</td>\n",
       "      <td>2019-03-07</td>\n",
       "      <td>3</td>\n",
       "      <td>2.70</td>\n",
       "      <td>16</td>\n",
       "      <td>51.00</td>\n",
       "      <td>8</td>\n",
       "      <td>False</td>\n",
       "      <td>...</td>\n",
       "      <td>2</td>\n",
       "      <td>755</td>\n",
       "      <td>-9</td>\n",
       "      <td>120370</td>\n",
       "      <td>Thursday</td>\n",
       "      <td>March</td>\n",
       "      <td>2019</td>\n",
       "      <td>другой</td>\n",
       "      <td>0.47</td>\n",
       "      <td>0.23</td>\n",
       "    </tr>\n",
       "    <tr>\n",
       "      <td>1</td>\n",
       "      <td>7</td>\n",
       "      <td>3350000</td>\n",
       "      <td>40.40</td>\n",
       "      <td>2018-12-04</td>\n",
       "      <td>1</td>\n",
       "      <td>2.65</td>\n",
       "      <td>11</td>\n",
       "      <td>18.60</td>\n",
       "      <td>1</td>\n",
       "      <td>False</td>\n",
       "      <td>...</td>\n",
       "      <td>0</td>\n",
       "      <td>-9</td>\n",
       "      <td>81</td>\n",
       "      <td>82920</td>\n",
       "      <td>Tuesday</td>\n",
       "      <td>December</td>\n",
       "      <td>2018</td>\n",
       "      <td>первый</td>\n",
       "      <td>0.46</td>\n",
       "      <td>0.27</td>\n",
       "    </tr>\n",
       "    <tr>\n",
       "      <td>2</td>\n",
       "      <td>10</td>\n",
       "      <td>5196000</td>\n",
       "      <td>56.00</td>\n",
       "      <td>2015-08-20</td>\n",
       "      <td>2</td>\n",
       "      <td>2.65</td>\n",
       "      <td>5</td>\n",
       "      <td>34.30</td>\n",
       "      <td>4</td>\n",
       "      <td>False</td>\n",
       "      <td>...</td>\n",
       "      <td>2</td>\n",
       "      <td>574</td>\n",
       "      <td>558</td>\n",
       "      <td>92785</td>\n",
       "      <td>Thursday</td>\n",
       "      <td>August</td>\n",
       "      <td>2015</td>\n",
       "      <td>другой</td>\n",
       "      <td>0.61</td>\n",
       "      <td>0.15</td>\n",
       "    </tr>\n",
       "    <tr>\n",
       "      <td>3</td>\n",
       "      <td>0</td>\n",
       "      <td>64900000</td>\n",
       "      <td>159.00</td>\n",
       "      <td>2015-07-24</td>\n",
       "      <td>3</td>\n",
       "      <td>2.65</td>\n",
       "      <td>14</td>\n",
       "      <td>45.00</td>\n",
       "      <td>9</td>\n",
       "      <td>False</td>\n",
       "      <td>...</td>\n",
       "      <td>3</td>\n",
       "      <td>234</td>\n",
       "      <td>424</td>\n",
       "      <td>408176</td>\n",
       "      <td>Friday</td>\n",
       "      <td>July</td>\n",
       "      <td>2015</td>\n",
       "      <td>другой</td>\n",
       "      <td>0.28</td>\n",
       "      <td>0.06</td>\n",
       "    </tr>\n",
       "    <tr>\n",
       "      <td>4</td>\n",
       "      <td>2</td>\n",
       "      <td>10000000</td>\n",
       "      <td>100.00</td>\n",
       "      <td>2018-06-19</td>\n",
       "      <td>2</td>\n",
       "      <td>3.03</td>\n",
       "      <td>14</td>\n",
       "      <td>32.00</td>\n",
       "      <td>13</td>\n",
       "      <td>False</td>\n",
       "      <td>...</td>\n",
       "      <td>1</td>\n",
       "      <td>48</td>\n",
       "      <td>121</td>\n",
       "      <td>100000</td>\n",
       "      <td>Tuesday</td>\n",
       "      <td>June</td>\n",
       "      <td>2018</td>\n",
       "      <td>другой</td>\n",
       "      <td>0.32</td>\n",
       "      <td>0.41</td>\n",
       "    </tr>\n",
       "    <tr>\n",
       "      <td>5</td>\n",
       "      <td>10</td>\n",
       "      <td>2890000</td>\n",
       "      <td>30.40</td>\n",
       "      <td>2018-09-10</td>\n",
       "      <td>1</td>\n",
       "      <td>2.65</td>\n",
       "      <td>12</td>\n",
       "      <td>14.40</td>\n",
       "      <td>5</td>\n",
       "      <td>False</td>\n",
       "      <td>...</td>\n",
       "      <td>-9</td>\n",
       "      <td>-9</td>\n",
       "      <td>55</td>\n",
       "      <td>95065</td>\n",
       "      <td>Monday</td>\n",
       "      <td>September</td>\n",
       "      <td>2018</td>\n",
       "      <td>другой</td>\n",
       "      <td>0.47</td>\n",
       "      <td>0.30</td>\n",
       "    </tr>\n",
       "    <tr>\n",
       "      <td>6</td>\n",
       "      <td>6</td>\n",
       "      <td>3700000</td>\n",
       "      <td>37.30</td>\n",
       "      <td>2017-11-02</td>\n",
       "      <td>1</td>\n",
       "      <td>2.65</td>\n",
       "      <td>26</td>\n",
       "      <td>10.60</td>\n",
       "      <td>6</td>\n",
       "      <td>False</td>\n",
       "      <td>...</td>\n",
       "      <td>0</td>\n",
       "      <td>-9</td>\n",
       "      <td>155</td>\n",
       "      <td>99195</td>\n",
       "      <td>Thursday</td>\n",
       "      <td>November</td>\n",
       "      <td>2017</td>\n",
       "      <td>другой</td>\n",
       "      <td>0.28</td>\n",
       "      <td>0.39</td>\n",
       "    </tr>\n",
       "    <tr>\n",
       "      <td>7</td>\n",
       "      <td>5</td>\n",
       "      <td>7915000</td>\n",
       "      <td>71.60</td>\n",
       "      <td>2019-04-18</td>\n",
       "      <td>2</td>\n",
       "      <td>2.65</td>\n",
       "      <td>24</td>\n",
       "      <td>30.50</td>\n",
       "      <td>22</td>\n",
       "      <td>False</td>\n",
       "      <td>...</td>\n",
       "      <td>0</td>\n",
       "      <td>-9</td>\n",
       "      <td>-9</td>\n",
       "      <td>110544</td>\n",
       "      <td>Thursday</td>\n",
       "      <td>April</td>\n",
       "      <td>2019</td>\n",
       "      <td>другой</td>\n",
       "      <td>0.43</td>\n",
       "      <td>0.26</td>\n",
       "    </tr>\n",
       "    <tr>\n",
       "      <td>8</td>\n",
       "      <td>20</td>\n",
       "      <td>2900000</td>\n",
       "      <td>33.16</td>\n",
       "      <td>2018-05-23</td>\n",
       "      <td>1</td>\n",
       "      <td>2.65</td>\n",
       "      <td>27</td>\n",
       "      <td>15.43</td>\n",
       "      <td>26</td>\n",
       "      <td>False</td>\n",
       "      <td>...</td>\n",
       "      <td>-9</td>\n",
       "      <td>-9</td>\n",
       "      <td>189</td>\n",
       "      <td>87454</td>\n",
       "      <td>Wednesday</td>\n",
       "      <td>May</td>\n",
       "      <td>2018</td>\n",
       "      <td>другой</td>\n",
       "      <td>0.47</td>\n",
       "      <td>0.27</td>\n",
       "    </tr>\n",
       "    <tr>\n",
       "      <td>9</td>\n",
       "      <td>18</td>\n",
       "      <td>5400000</td>\n",
       "      <td>61.00</td>\n",
       "      <td>2017-02-26</td>\n",
       "      <td>3</td>\n",
       "      <td>2.50</td>\n",
       "      <td>9</td>\n",
       "      <td>43.60</td>\n",
       "      <td>7</td>\n",
       "      <td>False</td>\n",
       "      <td>...</td>\n",
       "      <td>0</td>\n",
       "      <td>-9</td>\n",
       "      <td>289</td>\n",
       "      <td>88524</td>\n",
       "      <td>Sunday</td>\n",
       "      <td>February</td>\n",
       "      <td>2017</td>\n",
       "      <td>другой</td>\n",
       "      <td>0.71</td>\n",
       "      <td>0.11</td>\n",
       "    </tr>\n",
       "  </tbody>\n",
       "</table>\n",
       "<p>10 rows × 29 columns</p>\n",
       "</div>"
      ],
      "text/plain": [
       "   total_images  last_price  total_area first_day_exposition  rooms  \\\n",
       "0            20    13000000      108.00           2019-03-07      3   \n",
       "1             7     3350000       40.40           2018-12-04      1   \n",
       "2            10     5196000       56.00           2015-08-20      2   \n",
       "3             0    64900000      159.00           2015-07-24      3   \n",
       "4             2    10000000      100.00           2018-06-19      2   \n",
       "5            10     2890000       30.40           2018-09-10      1   \n",
       "6             6     3700000       37.30           2017-11-02      1   \n",
       "7             5     7915000       71.60           2019-04-18      2   \n",
       "8            20     2900000       33.16           2018-05-23      1   \n",
       "9            18     5400000       61.00           2017-02-26      3   \n",
       "\n",
       "   ceiling_height  floors_total  living_area  floor  is_apartment  ...  \\\n",
       "0            2.70            16        51.00      8         False  ...   \n",
       "1            2.65            11        18.60      1         False  ...   \n",
       "2            2.65             5        34.30      4         False  ...   \n",
       "3            2.65            14        45.00      9         False  ...   \n",
       "4            3.03            14        32.00     13         False  ...   \n",
       "5            2.65            12        14.40      5         False  ...   \n",
       "6            2.65            26        10.60      6         False  ...   \n",
       "7            2.65            24        30.50     22         False  ...   \n",
       "8            2.65            27        15.43     26         False  ...   \n",
       "9            2.50             9        43.60      7         False  ...   \n",
       "\n",
       "   ponds_around  ponds_nearest  days_exposition  m2_price day_of_weak  \\\n",
       "0             2            755               -9    120370    Thursday   \n",
       "1             0             -9               81     82920     Tuesday   \n",
       "2             2            574              558     92785    Thursday   \n",
       "3             3            234              424    408176      Friday   \n",
       "4             1             48              121    100000     Tuesday   \n",
       "5            -9             -9               55     95065      Monday   \n",
       "6             0             -9              155     99195    Thursday   \n",
       "7             0             -9               -9    110544    Thursday   \n",
       "8            -9             -9              189     87454   Wednesday   \n",
       "9             0             -9              289     88524      Sunday   \n",
       "\n",
       "       month  year  floor_level  ratio_living_area  ratio_kitchen_area  \n",
       "0      March  2019       другой               0.47                0.23  \n",
       "1   December  2018       первый               0.46                0.27  \n",
       "2     August  2015       другой               0.61                0.15  \n",
       "3       July  2015       другой               0.28                0.06  \n",
       "4       June  2018       другой               0.32                0.41  \n",
       "5  September  2018       другой               0.47                0.30  \n",
       "6   November  2017       другой               0.28                0.39  \n",
       "7      April  2019       другой               0.43                0.26  \n",
       "8        May  2018       другой               0.47                0.27  \n",
       "9   February  2017       другой               0.71                0.11  \n",
       "\n",
       "[10 rows x 29 columns]"
      ]
     },
     "execution_count": 43,
     "metadata": {},
     "output_type": "execute_result"
    }
   ],
   "source": [
    "df.head(10)"
   ]
  },
  {
   "cell_type": "markdown",
   "metadata": {},
   "source": [
    "Можно начинать изучать наши данные."
   ]
  },
  {
   "cell_type": "markdown",
   "metadata": {},
   "source": [
    "## 4. Проведите исследовательский анализ данных и выполните инструкции:"
   ]
  },
  {
   "cell_type": "markdown",
   "metadata": {},
   "source": [
    "### 4.1. Изучаем параметры"
   ]
  },
  {
   "cell_type": "markdown",
   "metadata": {},
   "source": [
    "Нужно подробнее изучить __total_area__, __last_price__, __rooms__ и __ceiling_height__, выявить наибольшее кол-во объявлений по этим параметрам."
   ]
  },
  {
   "cell_type": "code",
   "execution_count": 44,
   "metadata": {},
   "outputs": [
    {
     "data": {
      "text/html": [
       "<div>\n",
       "<style scoped>\n",
       "    .dataframe tbody tr th:only-of-type {\n",
       "        vertical-align: middle;\n",
       "    }\n",
       "\n",
       "    .dataframe tbody tr th {\n",
       "        vertical-align: top;\n",
       "    }\n",
       "\n",
       "    .dataframe thead th {\n",
       "        text-align: right;\n",
       "    }\n",
       "</style>\n",
       "<table border=\"1\" class=\"dataframe\">\n",
       "  <thead>\n",
       "    <tr style=\"text-align: right;\">\n",
       "      <th></th>\n",
       "      <th>total_area</th>\n",
       "      <th>last_price</th>\n",
       "      <th>rooms</th>\n",
       "      <th>ceiling_height</th>\n",
       "    </tr>\n",
       "  </thead>\n",
       "  <tbody>\n",
       "    <tr>\n",
       "      <td>count</td>\n",
       "      <td>23565.000000</td>\n",
       "      <td>2.356500e+04</td>\n",
       "      <td>23565.000000</td>\n",
       "      <td>23565.000000</td>\n",
       "    </tr>\n",
       "    <tr>\n",
       "      <td>mean</td>\n",
       "      <td>60.322824</td>\n",
       "      <td>6.540058e+06</td>\n",
       "      <td>2.078888</td>\n",
       "      <td>2.724530</td>\n",
       "    </tr>\n",
       "    <tr>\n",
       "      <td>std</td>\n",
       "      <td>35.657060</td>\n",
       "      <td>1.091093e+07</td>\n",
       "      <td>1.066503</td>\n",
       "      <td>0.991026</td>\n",
       "    </tr>\n",
       "    <tr>\n",
       "      <td>min</td>\n",
       "      <td>12.000000</td>\n",
       "      <td>1.219000e+04</td>\n",
       "      <td>1.000000</td>\n",
       "      <td>1.000000</td>\n",
       "    </tr>\n",
       "    <tr>\n",
       "      <td>25%</td>\n",
       "      <td>40.000000</td>\n",
       "      <td>3.400000e+06</td>\n",
       "      <td>1.000000</td>\n",
       "      <td>2.600000</td>\n",
       "    </tr>\n",
       "    <tr>\n",
       "      <td>50%</td>\n",
       "      <td>52.000000</td>\n",
       "      <td>4.646000e+06</td>\n",
       "      <td>2.000000</td>\n",
       "      <td>2.650000</td>\n",
       "    </tr>\n",
       "    <tr>\n",
       "      <td>75%</td>\n",
       "      <td>69.700000</td>\n",
       "      <td>6.790000e+06</td>\n",
       "      <td>3.000000</td>\n",
       "      <td>2.700000</td>\n",
       "    </tr>\n",
       "    <tr>\n",
       "      <td>max</td>\n",
       "      <td>900.000000</td>\n",
       "      <td>7.630000e+08</td>\n",
       "      <td>19.000000</td>\n",
       "      <td>100.000000</td>\n",
       "    </tr>\n",
       "  </tbody>\n",
       "</table>\n",
       "</div>"
      ],
      "text/plain": [
       "         total_area    last_price         rooms  ceiling_height\n",
       "count  23565.000000  2.356500e+04  23565.000000    23565.000000\n",
       "mean      60.322824  6.540058e+06      2.078888        2.724530\n",
       "std       35.657060  1.091093e+07      1.066503        0.991026\n",
       "min       12.000000  1.219000e+04      1.000000        1.000000\n",
       "25%       40.000000  3.400000e+06      1.000000        2.600000\n",
       "50%       52.000000  4.646000e+06      2.000000        2.650000\n",
       "75%       69.700000  6.790000e+06      3.000000        2.700000\n",
       "max      900.000000  7.630000e+08     19.000000      100.000000"
      ]
     },
     "execution_count": 44,
     "metadata": {},
     "output_type": "execute_result"
    }
   ],
   "source": [
    "df[['total_area', 'last_price', 'rooms', 'ceiling_height']].describe()"
   ]
  },
  {
   "cell_type": "markdown",
   "metadata": {},
   "source": [
    "- __Площадь__ - от 12м² до 900м². \n",
    "- __Цена__ - от 12т.р. до 763млн.р.\n",
    "- __Число комнат__ - от 1 до 19 комнат.\n",
    "- __Высота потолков__ - от 1 до 100м."
   ]
  },
  {
   "cell_type": "markdown",
   "metadata": {},
   "source": [
    "Явно есть выбросы в данных, зададим наши границы для с помощью квартилей:"
   ]
  },
  {
   "cell_type": "code",
   "execution_count": 45,
   "metadata": {},
   "outputs": [],
   "source": [
    "# вычисляем квартиль или межквартильный размах для total_area:\n",
    "quantiles_total_area = df['total_area'].quantile([0.25, 0.75])\n",
    "iqr_total_area = quantiles_total_area.iloc[1] - quantiles_total_area.iloc[0]\n",
    "max_total_area = quantiles_total_area.iloc[1]+1.5*iqr_total_area\n",
    "min_total_area = max(0, quantiles_total_area.iloc[0] - 1.5 * iqr_total_area)\n",
    "\n",
    "# вычисляем квартиль или межквартильный размах для last_price\n",
    "quantiles_last_price = df['last_price'].quantile([0.25, 0.75])\n",
    "iqr_last_price = quantiles_last_price.iloc[1] - quantiles_last_price.iloc[0]\n",
    "max_last_price = quantiles_last_price.iloc[1]+1.5*iqr_last_price\n",
    "min_last_price = max(0, quantiles_last_price.iloc[0] - 1.5 * iqr_last_price)\n",
    "\n",
    "# вычисляем квартиль или межквартильный размах для rooms\n",
    "quantiles_rooms = df['rooms'].quantile([0.25, 0.75])\n",
    "iqr_rooms = quantiles_rooms.iloc[1] - quantiles_rooms.iloc[0]\n",
    "max_rooms = quantiles_rooms.iloc[1]+1.5*iqr_rooms\n",
    "min_rooms = max(0, quantiles_rooms.iloc[0] - 1.5 * iqr_rooms)\n",
    "\n",
    "# вычисляем квартиль или межквартильный размах для ceiling_height\n",
    "quantiles_ceiling_height = df['ceiling_height'].quantile([0.25, 0.75])\n",
    "iqr_ceiling_height = quantiles_ceiling_height.iloc[1] - quantiles_ceiling_height.iloc[0]\n",
    "max_ceiling_height = quantiles_ceiling_height.iloc[1]+1.5*iqr_ceiling_height\n",
    "min_ceiling_height = max(0, quantiles_ceiling_height.iloc[0] - 1.5 * iqr_ceiling_height)"
   ]
  },
  {
   "cell_type": "markdown",
   "metadata": {},
   "source": [
    "Построим гистограммы на этих условиях:"
   ]
  },
  {
   "cell_type": "code",
   "execution_count": 46,
   "metadata": {},
   "outputs": [
    {
     "data": {
      "image/png": "[encoded data removed]",
      "text/plain": [
       "<Figure size 864x288 with 1 Axes>"
      ]
     },
     "metadata": {
      "needs_background": "light"
     },
     "output_type": "display_data"
    },
    {
     "data": {
      "image/png": "[encoded data removed]",
      "text/plain": [
       "<Figure size 864x288 with 1 Axes>"
      ]
     },
     "metadata": {
      "needs_background": "light"
     },
     "output_type": "display_data"
    },
    {
     "data": {
      "image/png": "[encoded data removed]",
      "text/plain": [
       "<Figure size 864x288 with 1 Axes>"
      ]
     },
     "metadata": {
      "needs_background": "light"
     },
     "output_type": "display_data"
    },
    {
     "data": {
      "image/png": "[encoded data removed]",
      "text/plain": [
       "<Figure size 864x288 with 1 Axes>"
      ]
     },
     "metadata": {
      "needs_background": "light"
     },
     "output_type": "display_data"
    }
   ],
   "source": [
    "# гистограмма для total_area\n",
    "df.hist('total_area', bins=100, \n",
    "        range=(min_total_area, max_total_area), \n",
    "        figsize=(12,4), ec='black')\n",
    "plt.title('Распределение по площади')\n",
    "plt.show()\n",
    "# гистограмма для last_price\n",
    "fig, ax = plt.subplots(figsize=(12,4))\n",
    "df.hist('last_price', bins=100, \n",
    "        range=(min_last_price, max_last_price), \n",
    "        ec='black', ax = ax)\n",
    "ax.xaxis.set_major_formatter(FormatStrFormatter('%.0f'))\n",
    "plt.title('Распределение по цене')\n",
    "plt.show()\n",
    "# гистограмма для rooms\n",
    "df.hist('rooms', bins=100, \n",
    "        range=(min_rooms, max_rooms), \n",
    "        figsize=(12,4), ec='black')\n",
    "plt.title('Распределение по кол-ву комнат')\n",
    "plt.show()\n",
    "# гистограмма для ceiling_height\n",
    "df.hist('ceiling_height', bins=100, \n",
    "        range=(min_ceiling_height, max_ceiling_height), \n",
    "        figsize=(12,4), ec='black')\n",
    "plt.title('Распределение по высоте потолков')\n",
    "plt.show()"
   ]
  },
  {
   "cell_type": "markdown",
   "metadata": {},
   "source": [
    "- __Распределение по площади__ - в основном продаются квартиры от 30м² до 100м². Далее чем площадь больше - тем меньше объявлений.\n",
    "- __Распределение по цене__ - довольно внушительный разброс цен. Но больше всего это 2,5 - 7млн.\n",
    "- __Распределение по кол-ву комнат__ - однушки, двушки и трёшки лидируют. Самое большое кол-во объявления - однокомнатные (+студии). \n",
    "- __Распределение по высоте потолков__ - 2,5 - 3 метра. Вполне оптимально."
   ]
  },
  {
   "cell_type": "markdown",
   "metadata": {},
   "source": [
    "### 4.2. Исследование времени продажи квартиры."
   ]
  },
  {
   "cell_type": "markdown",
   "metadata": {},
   "source": [
    "Сначала нужно отфильтровать столбец __days_exposition__, т.к. ранее мы `замаркеровали` отсутствующие значения __-9__."
   ]
  },
  {
   "cell_type": "code",
   "execution_count": 47,
   "metadata": {},
   "outputs": [
    {
     "data": {
      "text/plain": [
       "count    20394.000000\n",
       "mean       180.741395\n",
       "std        219.732782\n",
       "min          1.000000\n",
       "25%         45.000000\n",
       "50%         95.000000\n",
       "75%        231.000000\n",
       "max       1580.000000\n",
       "Name: days_exposition, dtype: float64"
      ]
     },
     "execution_count": 47,
     "metadata": {},
     "output_type": "execute_result"
    }
   ],
   "source": [
    "df.query('days_exposition >= 0')['days_exposition'].describe()"
   ]
  },
  {
   "cell_type": "code",
   "execution_count": 48,
   "metadata": {},
   "outputs": [
    {
     "data": {
      "image/png": "[encoded data removed]",
      "text/plain": [
       "<Figure size 864x288 with 1 Axes>"
      ]
     },
     "metadata": {
      "needs_background": "light"
     },
     "output_type": "display_data"
    }
   ],
   "source": [
    "df.query('days_exposition >= 0').hist('days_exposition', bins=100, figsize=(12,4), ec='black')\n",
    "plt.title('Распределение по срокам публикаций объявлений')\n",
    "plt.show()"
   ]
  },
  {
   "cell_type": "markdown",
   "metadata": {},
   "source": [
    "В среднем квартиру продают 180 дней (пол года), однако половина объявлений снимается за 95 дней. Есть объявления которым почти 5 лет. Посмотрим на boxplot:"
   ]
  },
  {
   "cell_type": "code",
   "execution_count": 49,
   "metadata": {},
   "outputs": [
    {
     "data": {
      "image/png": "[encoded data removed]",
      "text/plain": [
       "<Figure size 432x288 with 1 Axes>"
      ]
     },
     "metadata": {
      "needs_background": "light"
     },
     "output_type": "display_data"
    }
   ],
   "source": [
    "df.query('days_exposition >= 0').boxplot('days_exposition')\n",
    "plt.title('Распределение по срокам публикаций объявлений')\n",
    "plt.show()"
   ]
  },
  {
   "cell_type": "markdown",
   "metadata": {},
   "source": [
    "Уберём объявления старше 500 дней - посмотрим на распределение более детально:"
   ]
  },
  {
   "cell_type": "code",
   "execution_count": 50,
   "metadata": {},
   "outputs": [
    {
     "data": {
      "image/png": "[encoded data removed]",
      "text/plain": [
       "<Figure size 864x288 with 1 Axes>"
      ]
     },
     "metadata": {
      "needs_background": "light"
     },
     "output_type": "display_data"
    }
   ],
   "source": [
    "df.query('0 <= days_exposition < 500').hist('days_exposition', bins=100, figsize=(12,4), ec='black')\n",
    "plt.title('Распределение по срокам публикаций объявлений до 500 дней')\n",
    "plt.show()"
   ]
  },
  {
   "cell_type": "markdown",
   "metadata": {},
   "source": [
    "Есть какие-то всплески до 100 дней. Ограничим до 100:"
   ]
  },
  {
   "cell_type": "code",
   "execution_count": 51,
   "metadata": {},
   "outputs": [
    {
     "data": {
      "image/png": "[encoded data removed]",
      "text/plain": [
       "<Figure size 864x288 with 1 Axes>"
      ]
     },
     "metadata": {
      "needs_background": "light"
     },
     "output_type": "display_data"
    }
   ],
   "source": [
    "df.query('0 <= days_exposition < 100').hist('days_exposition', bins=100, figsize=(12,4), ec='black')\n",
    "plt.title('Распределение по срокам публикаций объявлений до 100 дней')\n",
    "plt.show()"
   ]
  },
  {
   "cell_type": "markdown",
   "metadata": {},
   "source": [
    "Очевидно что есть определённые дни когда объявления снимаются массово. Возможно это происходит на уровне системы, либо продавцам приходит \"напоминание\" из разряда: \"Не забыли ли снять публикацию?\"."
   ]
  },
  {
   "cell_type": "markdown",
   "metadata": {},
   "source": [
    "### 4.3. Какие фаторы больше всего влияют на стоимость квартиры?"
   ]
  },
  {
   "cell_type": "markdown",
   "metadata": {},
   "source": [
    "В пункте 1.4.1 мы уже выявили выбросы и редкие значения, отфильтруем нашу таблицу и сохраним её в переменную `df_clean`."
   ]
  },
  {
   "cell_type": "code",
   "execution_count": 52,
   "metadata": {},
   "outputs": [],
   "source": [
    "df_clean = (\n",
    "    df\n",
    "    .query('@min_total_area <= total_area <= @max_total_area and @min_last_price <= last_price <= @max_last_price and @min_rooms <= rooms <= @max_rooms and @min_ceiling_height <= ceiling_height <= @max_ceiling_height')\n",
    ")"
   ]
  },
  {
   "cell_type": "code",
   "execution_count": 53,
   "metadata": {},
   "outputs": [
    {
     "data": {
      "text/html": [
       "<div>\n",
       "<style scoped>\n",
       "    .dataframe tbody tr th:only-of-type {\n",
       "        vertical-align: middle;\n",
       "    }\n",
       "\n",
       "    .dataframe tbody tr th {\n",
       "        vertical-align: top;\n",
       "    }\n",
       "\n",
       "    .dataframe thead th {\n",
       "        text-align: right;\n",
       "    }\n",
       "</style>\n",
       "<table border=\"1\" class=\"dataframe\">\n",
       "  <thead>\n",
       "    <tr style=\"text-align: right;\">\n",
       "      <th></th>\n",
       "      <th>total_images</th>\n",
       "      <th>last_price</th>\n",
       "      <th>total_area</th>\n",
       "      <th>first_day_exposition</th>\n",
       "      <th>rooms</th>\n",
       "      <th>ceiling_height</th>\n",
       "      <th>floors_total</th>\n",
       "      <th>living_area</th>\n",
       "      <th>floor</th>\n",
       "      <th>is_apartment</th>\n",
       "      <th>...</th>\n",
       "      <th>ponds_around</th>\n",
       "      <th>ponds_nearest</th>\n",
       "      <th>days_exposition</th>\n",
       "      <th>m2_price</th>\n",
       "      <th>day_of_weak</th>\n",
       "      <th>month</th>\n",
       "      <th>year</th>\n",
       "      <th>floor_level</th>\n",
       "      <th>ratio_living_area</th>\n",
       "      <th>ratio_kitchen_area</th>\n",
       "    </tr>\n",
       "  </thead>\n",
       "  <tbody>\n",
       "    <tr>\n",
       "      <td>1</td>\n",
       "      <td>7</td>\n",
       "      <td>3350000</td>\n",
       "      <td>40.4</td>\n",
       "      <td>2018-12-04</td>\n",
       "      <td>1</td>\n",
       "      <td>2.65</td>\n",
       "      <td>11</td>\n",
       "      <td>18.6</td>\n",
       "      <td>1</td>\n",
       "      <td>False</td>\n",
       "      <td>...</td>\n",
       "      <td>0</td>\n",
       "      <td>-9</td>\n",
       "      <td>81</td>\n",
       "      <td>82920</td>\n",
       "      <td>Tuesday</td>\n",
       "      <td>December</td>\n",
       "      <td>2018</td>\n",
       "      <td>первый</td>\n",
       "      <td>0.46</td>\n",
       "      <td>0.27</td>\n",
       "    </tr>\n",
       "    <tr>\n",
       "      <td>2</td>\n",
       "      <td>10</td>\n",
       "      <td>5196000</td>\n",
       "      <td>56.0</td>\n",
       "      <td>2015-08-20</td>\n",
       "      <td>2</td>\n",
       "      <td>2.65</td>\n",
       "      <td>5</td>\n",
       "      <td>34.3</td>\n",
       "      <td>4</td>\n",
       "      <td>False</td>\n",
       "      <td>...</td>\n",
       "      <td>2</td>\n",
       "      <td>574</td>\n",
       "      <td>558</td>\n",
       "      <td>92785</td>\n",
       "      <td>Thursday</td>\n",
       "      <td>August</td>\n",
       "      <td>2015</td>\n",
       "      <td>другой</td>\n",
       "      <td>0.61</td>\n",
       "      <td>0.15</td>\n",
       "    </tr>\n",
       "    <tr>\n",
       "      <td>5</td>\n",
       "      <td>10</td>\n",
       "      <td>2890000</td>\n",
       "      <td>30.4</td>\n",
       "      <td>2018-09-10</td>\n",
       "      <td>1</td>\n",
       "      <td>2.65</td>\n",
       "      <td>12</td>\n",
       "      <td>14.4</td>\n",
       "      <td>5</td>\n",
       "      <td>False</td>\n",
       "      <td>...</td>\n",
       "      <td>-9</td>\n",
       "      <td>-9</td>\n",
       "      <td>55</td>\n",
       "      <td>95065</td>\n",
       "      <td>Monday</td>\n",
       "      <td>September</td>\n",
       "      <td>2018</td>\n",
       "      <td>другой</td>\n",
       "      <td>0.47</td>\n",
       "      <td>0.30</td>\n",
       "    </tr>\n",
       "    <tr>\n",
       "      <td>6</td>\n",
       "      <td>6</td>\n",
       "      <td>3700000</td>\n",
       "      <td>37.3</td>\n",
       "      <td>2017-11-02</td>\n",
       "      <td>1</td>\n",
       "      <td>2.65</td>\n",
       "      <td>26</td>\n",
       "      <td>10.6</td>\n",
       "      <td>6</td>\n",
       "      <td>False</td>\n",
       "      <td>...</td>\n",
       "      <td>0</td>\n",
       "      <td>-9</td>\n",
       "      <td>155</td>\n",
       "      <td>99195</td>\n",
       "      <td>Thursday</td>\n",
       "      <td>November</td>\n",
       "      <td>2017</td>\n",
       "      <td>другой</td>\n",
       "      <td>0.28</td>\n",
       "      <td>0.39</td>\n",
       "    </tr>\n",
       "    <tr>\n",
       "      <td>7</td>\n",
       "      <td>5</td>\n",
       "      <td>7915000</td>\n",
       "      <td>71.6</td>\n",
       "      <td>2019-04-18</td>\n",
       "      <td>2</td>\n",
       "      <td>2.65</td>\n",
       "      <td>24</td>\n",
       "      <td>30.5</td>\n",
       "      <td>22</td>\n",
       "      <td>False</td>\n",
       "      <td>...</td>\n",
       "      <td>0</td>\n",
       "      <td>-9</td>\n",
       "      <td>-9</td>\n",
       "      <td>110544</td>\n",
       "      <td>Thursday</td>\n",
       "      <td>April</td>\n",
       "      <td>2019</td>\n",
       "      <td>другой</td>\n",
       "      <td>0.43</td>\n",
       "      <td>0.26</td>\n",
       "    </tr>\n",
       "  </tbody>\n",
       "</table>\n",
       "<p>5 rows × 29 columns</p>\n",
       "</div>"
      ],
      "text/plain": [
       "   total_images  last_price  total_area first_day_exposition  rooms  \\\n",
       "1             7     3350000        40.4           2018-12-04      1   \n",
       "2            10     5196000        56.0           2015-08-20      2   \n",
       "5            10     2890000        30.4           2018-09-10      1   \n",
       "6             6     3700000        37.3           2017-11-02      1   \n",
       "7             5     7915000        71.6           2019-04-18      2   \n",
       "\n",
       "   ceiling_height  floors_total  living_area  floor  is_apartment  ...  \\\n",
       "1            2.65            11         18.6      1         False  ...   \n",
       "2            2.65             5         34.3      4         False  ...   \n",
       "5            2.65            12         14.4      5         False  ...   \n",
       "6            2.65            26         10.6      6         False  ...   \n",
       "7            2.65            24         30.5     22         False  ...   \n",
       "\n",
       "   ponds_around  ponds_nearest  days_exposition  m2_price day_of_weak  \\\n",
       "1             0             -9               81     82920     Tuesday   \n",
       "2             2            574              558     92785    Thursday   \n",
       "5            -9             -9               55     95065      Monday   \n",
       "6             0             -9              155     99195    Thursday   \n",
       "7             0             -9               -9    110544    Thursday   \n",
       "\n",
       "       month  year  floor_level  ratio_living_area  ratio_kitchen_area  \n",
       "1   December  2018       первый               0.46                0.27  \n",
       "2     August  2015       другой               0.61                0.15  \n",
       "5  September  2018       другой               0.47                0.30  \n",
       "6   November  2017       другой               0.28                0.39  \n",
       "7      April  2019       другой               0.43                0.26  \n",
       "\n",
       "[5 rows x 29 columns]"
      ]
     },
     "execution_count": 53,
     "metadata": {},
     "output_type": "execute_result"
    }
   ],
   "source": [
    "df_clean.head()"
   ]
  },
  {
   "cell_type": "markdown",
   "metadata": {},
   "source": [
    "Посмотрим как влияют на стоимость квартиры (за м²): площадь, количество комнат, расстояние от центра и этаж."
   ]
  },
  {
   "cell_type": "code",
   "execution_count": 54,
   "metadata": {},
   "outputs": [],
   "source": [
    "df_clean_parameter = df_clean[['total_area','rooms','city_centers_nearest','m2_price','floor_level']]\n",
    "# Не забудем убрать наше замаркированное значения с расстоянием до центра:\n",
    "df_clean_parameter = df_clean_parameter.query('city_centers_nearest >= 0')"
   ]
  },
  {
   "cell_type": "code",
   "execution_count": 55,
   "metadata": {},
   "outputs": [
    {
     "data": {
      "image/png": "[encoded data removed]",
      "text/plain": [
       "<Figure size 720x180 with 4 Axes>"
      ]
     },
     "metadata": {
      "needs_background": "light"
     },
     "output_type": "display_data"
    },
    {
     "name": "stdout",
     "output_type": "stream",
     "text": [
      "                      total_area     rooms  city_centers_nearest  m2_price\n",
      "total_area              1.000000  0.793022             -0.071033 -0.189480\n",
      "rooms                   0.793022  1.000000             -0.028460 -0.345913\n",
      "city_centers_nearest   -0.071033 -0.028460              1.000000 -0.402323\n",
      "m2_price               -0.189480 -0.345913             -0.402323  1.000000\n"
     ]
    }
   ],
   "source": [
    "sns.pairplot(df_clean_parameter,\n",
    "             x_vars=['total_area','rooms','city_centers_nearest', 'floor_level'],\n",
    "             y_vars=[\"m2_price\"],\n",
    "             )\n",
    "plt.show()\n",
    "print(df_clean_parameter.corr())"
   ]
  },
  {
   "cell_type": "markdown",
   "metadata": {},
   "source": [
    "Корреляция отрицательная:\n",
    " - квадратный метр становится дешевле чем больше площадь квартиры \n",
    " - ну а чем больше площадь, тем больше колличество комнат, коэффициент корреляции это нам подверждает соответсвенно при увеличении количества комнат цена за квадратный метр тоже падает. \n",
    " - с увеличением расстояния от центра города цена тоже становится ниже, при чём это значение влияет на стоимость больше чем остальные.\n",
    " - первый и последний этажи стоят дешевле."
   ]
  },
  {
   "cell_type": "markdown",
   "metadata": {},
   "source": [
    "Посмотрим как время (год, месяц, день) влияют на стоимость жилья:"
   ]
  },
  {
   "cell_type": "code",
   "execution_count": 56,
   "metadata": {},
   "outputs": [],
   "source": [
    "# для этого скопируем наши данные очищенные в переменную data_clean\n",
    "data_clean = df_clean.copy()\n",
    "# поменяем названия дней недели для наглядности на графике\n",
    "data_clean['day_of_weak'] = (data_clean['day_of_weak'].replace(\n",
    "    {'Monday': 1, 'Tuesday': 2,  'Wednesday': 3, 'Thursday': 4, 'Friday': 5, 'Saturday': 6, 'Sunday': 7}))\n",
    "# и месяцев\n",
    "data_clean['month'] = (data_clean['month'].replace(\n",
    "    {'January': 1, 'February': 2,  'March': 3, 'April': 4, 'May': 5, 'June': 6, \n",
    "     'July': 7, 'August': 8, 'September': 9, 'October': 10, 'November': 11, 'December': 12}))"
   ]
  },
  {
   "cell_type": "code",
   "execution_count": 57,
   "metadata": {
    "scrolled": true
   },
   "outputs": [
    {
     "data": {
      "image/png": "[encoded data removed]",
      "text/plain": [
       "<Figure size 1008x360 with 1 Axes>"
      ]
     },
     "metadata": {
      "needs_background": "light"
     },
     "output_type": "display_data"
    },
    {
     "data": {
      "image/png": "[encoded data removed]",
      "text/plain": [
       "<Figure size 1008x360 with 1 Axes>"
      ]
     },
     "metadata": {
      "needs_background": "light"
     },
     "output_type": "display_data"
    },
    {
     "data": {
      "image/png": "[encoded data removed]",
      "text/plain": [
       "<Figure size 1008x360 with 1 Axes>"
      ]
     },
     "metadata": {
      "needs_background": "light"
     },
     "output_type": "display_data"
    }
   ],
   "source": [
    "# создадим список\n",
    "name_clean_date = ['year', 'month', 'day_of_weak']\n",
    "# посмотрим как менялась стоимость квартир со временем\n",
    "for name in name_clean_date:\n",
    "    (data_clean.pivot_table(index=name, values='m2_price', aggfunc='median')\n",
    "    .sort_values(by=name).plot(grid=True, figsize=(14,5)))\n",
    "plt.show()"
   ]
  },
  {
   "cell_type": "markdown",
   "metadata": {},
   "source": [
    "- до 2016 года цена за м² падала, потом поползла вверх, видимо это связано с процентной ставкой по ипотеке, а в 2018г ценник прям \"взлетел\", на что скорее всего повлиял закон 214-фз.\n",
    "- лето (сезон отпусков) и зима (новогодние праздники), людям не до недвижимости, цена и падает, т.к. меньше спрос.\n",
    "- тоже самое и с днями недели к выходным, но в воскресенье \"резкий скачок\", видимо продавцы готовятся на будущую неделю."
   ]
  },
  {
   "cell_type": "markdown",
   "metadata": {},
   "source": [
    "Составим ТОП 10 населённых пунктов по количеству объявлений"
   ]
  },
  {
   "cell_type": "code",
   "execution_count": 58,
   "metadata": {},
   "outputs": [
    {
     "data": {
      "text/html": [
       "<div>\n",
       "<style scoped>\n",
       "    .dataframe tbody tr th:only-of-type {\n",
       "        vertical-align: middle;\n",
       "    }\n",
       "\n",
       "    .dataframe tbody tr th {\n",
       "        vertical-align: top;\n",
       "    }\n",
       "\n",
       "    .dataframe thead th {\n",
       "        text-align: right;\n",
       "    }\n",
       "</style>\n",
       "<table border=\"1\" class=\"dataframe\">\n",
       "  <thead>\n",
       "    <tr style=\"text-align: right;\">\n",
       "      <th></th>\n",
       "      <th>count</th>\n",
       "      <th>median</th>\n",
       "    </tr>\n",
       "    <tr>\n",
       "      <th>locality_name</th>\n",
       "      <th></th>\n",
       "      <th></th>\n",
       "    </tr>\n",
       "  </thead>\n",
       "  <tbody>\n",
       "    <tr>\n",
       "      <td>Санкт-Петербург</td>\n",
       "      <td>12005</td>\n",
       "      <td>101538.0</td>\n",
       "    </tr>\n",
       "    <tr>\n",
       "      <td>посёлок Мурино</td>\n",
       "      <td>513</td>\n",
       "      <td>85714.0</td>\n",
       "    </tr>\n",
       "    <tr>\n",
       "      <td>посёлок Шушары</td>\n",
       "      <td>433</td>\n",
       "      <td>76666.0</td>\n",
       "    </tr>\n",
       "    <tr>\n",
       "      <td>Всеволожск</td>\n",
       "      <td>380</td>\n",
       "      <td>65789.0</td>\n",
       "    </tr>\n",
       "    <tr>\n",
       "      <td>посёлок Парголово</td>\n",
       "      <td>326</td>\n",
       "      <td>91779.5</td>\n",
       "    </tr>\n",
       "    <tr>\n",
       "      <td>Колпино</td>\n",
       "      <td>315</td>\n",
       "      <td>74733.0</td>\n",
       "    </tr>\n",
       "    <tr>\n",
       "      <td>Пушкин</td>\n",
       "      <td>299</td>\n",
       "      <td>98039.0</td>\n",
       "    </tr>\n",
       "    <tr>\n",
       "      <td>деревня Кудрово</td>\n",
       "      <td>296</td>\n",
       "      <td>91930.0</td>\n",
       "    </tr>\n",
       "    <tr>\n",
       "      <td>Гатчина</td>\n",
       "      <td>283</td>\n",
       "      <td>67647.0</td>\n",
       "    </tr>\n",
       "    <tr>\n",
       "      <td>Выборг</td>\n",
       "      <td>205</td>\n",
       "      <td>57608.0</td>\n",
       "    </tr>\n",
       "  </tbody>\n",
       "</table>\n",
       "</div>"
      ],
      "text/plain": [
       "                   count    median\n",
       "locality_name                     \n",
       "Санкт-Петербург    12005  101538.0\n",
       "посёлок Мурино       513   85714.0\n",
       "посёлок Шушары       433   76666.0\n",
       "Всеволожск           380   65789.0\n",
       "посёлок Парголово    326   91779.5\n",
       "Колпино              315   74733.0\n",
       "Пушкин               299   98039.0\n",
       "деревня Кудрово      296   91930.0\n",
       "Гатчина              283   67647.0\n",
       "Выборг               205   57608.0"
      ]
     },
     "execution_count": 58,
     "metadata": {},
     "output_type": "execute_result"
    }
   ],
   "source": [
    "df_clean_locality = (data_clean.groupby('locality_name')['m2_price']\n",
    "                     .agg(['count', 'median']).sort_values(by = 'count', ascending=False))\n",
    "df_clean_locality.head(10)"
   ]
  },
  {
   "cell_type": "markdown",
   "metadata": {},
   "source": [
    "Санкт-Петербург на первом месте, они и понятно, чем больше жителей - тем больше объявлений. Интересно, в каком населённом пункте самое дорогое и самое дешёвое жильё?"
   ]
  },
  {
   "cell_type": "code",
   "execution_count": 59,
   "metadata": {},
   "outputs": [
    {
     "name": "stdout",
     "output_type": "stream",
     "text": [
      "Самая высокая стоимость жилья за м²\n"
     ]
    },
    {
     "data": {
      "text/html": [
       "<div>\n",
       "<style scoped>\n",
       "    .dataframe tbody tr th:only-of-type {\n",
       "        vertical-align: middle;\n",
       "    }\n",
       "\n",
       "    .dataframe tbody tr th {\n",
       "        vertical-align: top;\n",
       "    }\n",
       "\n",
       "    .dataframe thead th {\n",
       "        text-align: right;\n",
       "    }\n",
       "</style>\n",
       "<table border=\"1\" class=\"dataframe\">\n",
       "  <thead>\n",
       "    <tr style=\"text-align: right;\">\n",
       "      <th></th>\n",
       "      <th>count</th>\n",
       "      <th>median</th>\n",
       "    </tr>\n",
       "    <tr>\n",
       "      <th>locality_name</th>\n",
       "      <th></th>\n",
       "      <th></th>\n",
       "    </tr>\n",
       "  </thead>\n",
       "  <tbody>\n",
       "    <tr>\n",
       "      <td>посёлок Лисий Нос</td>\n",
       "      <td>1</td>\n",
       "      <td>168706.0</td>\n",
       "    </tr>\n",
       "    <tr>\n",
       "      <td>Санкт-Петербург</td>\n",
       "      <td>12005</td>\n",
       "      <td>101538.0</td>\n",
       "    </tr>\n",
       "    <tr>\n",
       "      <td>Кудрово</td>\n",
       "      <td>168</td>\n",
       "      <td>99890.5</td>\n",
       "    </tr>\n",
       "    <tr>\n",
       "      <td>Сестрорецк</td>\n",
       "      <td>143</td>\n",
       "      <td>98958.0</td>\n",
       "    </tr>\n",
       "    <tr>\n",
       "      <td>Зеленогорск</td>\n",
       "      <td>20</td>\n",
       "      <td>98596.0</td>\n",
       "    </tr>\n",
       "  </tbody>\n",
       "</table>\n",
       "</div>"
      ],
      "text/plain": [
       "                   count    median\n",
       "locality_name                     \n",
       "посёлок Лисий Нос      1  168706.0\n",
       "Санкт-Петербург    12005  101538.0\n",
       "Кудрово              168   99890.5\n",
       "Сестрорецк           143   98958.0\n",
       "Зеленогорск           20   98596.0"
      ]
     },
     "execution_count": 59,
     "metadata": {},
     "output_type": "execute_result"
    }
   ],
   "source": [
    "print('Самая высокая стоимость жилья за м²')\n",
    "df_clean_locality.sort_values(by='median', ascending=False).head()"
   ]
  },
  {
   "cell_type": "markdown",
   "metadata": {},
   "source": [
    "В посёлке Лисий Нос видимо продаётся какое-то элитное жильё (всего 1 объявление). Значительно дороже м² чем даже в Питере, а там 12005 объявлений."
   ]
  },
  {
   "cell_type": "code",
   "execution_count": 60,
   "metadata": {},
   "outputs": [
    {
     "name": "stdout",
     "output_type": "stream",
     "text": [
      "Самая низкая стоимость жилья за м²\n"
     ]
    },
    {
     "data": {
      "text/html": [
       "<div>\n",
       "<style scoped>\n",
       "    .dataframe tbody tr th:only-of-type {\n",
       "        vertical-align: middle;\n",
       "    }\n",
       "\n",
       "    .dataframe tbody tr th {\n",
       "        vertical-align: top;\n",
       "    }\n",
       "\n",
       "    .dataframe thead th {\n",
       "        text-align: right;\n",
       "    }\n",
       "</style>\n",
       "<table border=\"1\" class=\"dataframe\">\n",
       "  <thead>\n",
       "    <tr style=\"text-align: right;\">\n",
       "      <th></th>\n",
       "      <th>count</th>\n",
       "      <th>median</th>\n",
       "    </tr>\n",
       "    <tr>\n",
       "      <th>locality_name</th>\n",
       "      <th></th>\n",
       "      <th></th>\n",
       "    </tr>\n",
       "  </thead>\n",
       "  <tbody>\n",
       "    <tr>\n",
       "      <td>деревня Старополье</td>\n",
       "      <td>3</td>\n",
       "      <td>11000.0</td>\n",
       "    </tr>\n",
       "    <tr>\n",
       "      <td>посёлок станции Свирь</td>\n",
       "      <td>2</td>\n",
       "      <td>11481.0</td>\n",
       "    </tr>\n",
       "    <tr>\n",
       "      <td>деревня Вахнова Кара</td>\n",
       "      <td>1</td>\n",
       "      <td>11688.0</td>\n",
       "    </tr>\n",
       "    <tr>\n",
       "      <td>деревня Выскатка</td>\n",
       "      <td>2</td>\n",
       "      <td>12335.0</td>\n",
       "    </tr>\n",
       "    <tr>\n",
       "      <td>поселок Совхозный</td>\n",
       "      <td>2</td>\n",
       "      <td>12628.5</td>\n",
       "    </tr>\n",
       "  </tbody>\n",
       "</table>\n",
       "</div>"
      ],
      "text/plain": [
       "                       count   median\n",
       "locality_name                        \n",
       "деревня Старополье         3  11000.0\n",
       "посёлок станции Свирь      2  11481.0\n",
       "деревня Вахнова Кара       1  11688.0\n",
       "деревня Выскатка           2  12335.0\n",
       "поселок Совхозный          2  12628.5"
      ]
     },
     "execution_count": 60,
     "metadata": {},
     "output_type": "execute_result"
    }
   ],
   "source": [
    "print('Самая низкая стоимость жилья за м²')\n",
    "df_clean_locality.sort_values(by='median').head()"
   ]
  },
  {
   "cell_type": "markdown",
   "metadata": {},
   "source": [
    "Минимальная и максимальная стоимость жилья отличается почти в 10 раз! Недвижимость дешевле в посёлках и деревнях, возможно в значительном удалении от центра города."
   ]
  },
  {
   "cell_type": "markdown",
   "metadata": {},
   "source": [
    "<div class=\"alert alert-success\">\n",
    "    \n",
    "**Комментарий ревьюера**\n",
    "    \n",
    "Довольно очевидно, но очень хорошо что обратил внимание даже на такие мелочи\n",
    "</div>"
   ]
  },
  {
   "cell_type": "markdown",
   "metadata": {},
   "source": [
    "### 4.4. Изучения предложений квартир"
   ]
  },
  {
   "cell_type": "markdown",
   "metadata": {},
   "source": [
    "Итак у нас 12005 объявлений только в Питере - это половина от всех объявлений! Стоит посмотреть на них внимательнее. для этого:\n",
    "- отфильтруем нашу таблицу по Санкт-Петербургу\n",
    "- переведём расстояние от центра в км, и сгрупируем их\n",
    "- проверим как влияет цена на удалённость от центра, и вообще выявим центральную зону."
   ]
  },
  {
   "cell_type": "code",
   "execution_count": 61,
   "metadata": {},
   "outputs": [],
   "source": [
    "# сохраним в data_clean таблицу без маркировки -9 с объявлениями Санкт-Петербург\n",
    "data_final = data_clean.copy()\n",
    "data_final = data_final.query('city_centers_nearest >= 0 and locality_name == \"Санкт-Петербург\"')\n",
    "# переведём city_centers_nearest в км и округлим до целого числа\n",
    "data_final['city_centers_nearest'] = (data_final['city_centers_nearest'] / 1000).round(0)"
   ]
  },
  {
   "cell_type": "code",
   "execution_count": 62,
   "metadata": {},
   "outputs": [
    {
     "data": {
      "text/html": [
       "<div>\n",
       "<style scoped>\n",
       "    .dataframe tbody tr th:only-of-type {\n",
       "        vertical-align: middle;\n",
       "    }\n",
       "\n",
       "    .dataframe tbody tr th {\n",
       "        vertical-align: top;\n",
       "    }\n",
       "\n",
       "    .dataframe thead th {\n",
       "        text-align: right;\n",
       "    }\n",
       "</style>\n",
       "<table border=\"1\" class=\"dataframe\">\n",
       "  <thead>\n",
       "    <tr style=\"text-align: right;\">\n",
       "      <th></th>\n",
       "      <th>m2_price</th>\n",
       "    </tr>\n",
       "    <tr>\n",
       "      <th>city_centers_nearest</th>\n",
       "      <th></th>\n",
       "    </tr>\n",
       "  </thead>\n",
       "  <tbody>\n",
       "    <tr>\n",
       "      <td>5.0</td>\n",
       "      <td>122105.0</td>\n",
       "    </tr>\n",
       "    <tr>\n",
       "      <td>6.0</td>\n",
       "      <td>121710.0</td>\n",
       "    </tr>\n",
       "    <tr>\n",
       "      <td>7.0</td>\n",
       "      <td>115307.5</td>\n",
       "    </tr>\n",
       "    <tr>\n",
       "      <td>2.0</td>\n",
       "      <td>114000.0</td>\n",
       "    </tr>\n",
       "    <tr>\n",
       "      <td>4.0</td>\n",
       "      <td>113439.0</td>\n",
       "    </tr>\n",
       "  </tbody>\n",
       "</table>\n",
       "</div>"
      ],
      "text/plain": [
       "                      m2_price\n",
       "city_centers_nearest          \n",
       "5.0                   122105.0\n",
       "6.0                   121710.0\n",
       "7.0                   115307.5\n",
       "2.0                   114000.0\n",
       "4.0                   113439.0"
      ]
     },
     "execution_count": 62,
     "metadata": {},
     "output_type": "execute_result"
    }
   ],
   "source": [
    "# группируем по км от центра и выведем цену по медиане\n",
    "df_distance_pivot = (data_final\n",
    "                           .pivot_table(index='city_centers_nearest', \n",
    "                                        values='m2_price',\n",
    "                                       aggfunc='median'))\n",
    "# посмотрим в скольких км самый дорогой м²\n",
    "df_distance_pivot.sort_values(by='m2_price', ascending=False).head()"
   ]
  },
  {
   "cell_type": "markdown",
   "metadata": {},
   "source": [
    "Посмотрим как меняется цена от удалённости:"
   ]
  },
  {
   "cell_type": "code",
   "execution_count": 63,
   "metadata": {},
   "outputs": [
    {
     "data": {
      "image/png": "[encoded data removed]",
      "text/plain": [
       "<Figure size 1008x432 with 1 Axes>"
      ]
     },
     "metadata": {
      "needs_background": "light"
     },
     "output_type": "display_data"
    }
   ],
   "source": [
    "df_distance_pivot.sort_values(by='city_centers_nearest').plot(kind='area', figsize=(14,6), grid=True,)\n",
    "plt.show()"
   ]
  },
  {
   "cell_type": "markdown",
   "metadata": {},
   "source": [
    "До 2км ценник увеличивается, в районе 3км проседает, далее с 4км начинает снова увеличиваться и уже резко проседает в районе 8-9км.\n",
    "\n",
    "Посмотрим более детально, в значениях:"
   ]
  },
  {
   "cell_type": "code",
   "execution_count": 64,
   "metadata": {},
   "outputs": [
    {
     "data": {
      "image/png": "[encoded data removed]",
      "text/plain": [
       "<Figure size 216x576 with 1 Axes>"
      ]
     },
     "metadata": {
      "needs_background": "light"
     },
     "output_type": "display_data"
    }
   ],
   "source": [
    "f, ax = plt.subplots(figsize=(3, 8))\n",
    "ax = sns.heatmap(df_distance_pivot, annot=True, fmt=\".0f\", cbar=False, linewidths=.5)\n",
    "plt.show()"
   ]
  },
  {
   "cell_type": "markdown",
   "metadata": {},
   "source": [
    "- **0-4км** стоят дешевле чем 5-6км, скорее всего это связано с тем что это более старые здания \"советские постройки\", либо дома \"старого фонда\", которые в советское время были переделаны под коммуналки\n",
    "- **3км** дешевле в этом сегменте т.к. наибольшая удалённость от исторического центра (музеев, площадей и т.п.)\n",
    "- **5-6км** начинаются более современные дома, отсюда и пик в стоимости за м²\n",
    "- **7-8км** заканчивается `центральная зона`, дальше наблюдаем резкий спад цены\n",
    "\n",
    "Определим, что 0-8км - это наша `центральная зона`."
   ]
  },
  {
   "cell_type": "markdown",
   "metadata": {},
   "source": [
    "### 4.5. Анализ квартир в центре"
   ]
  },
  {
   "cell_type": "markdown",
   "metadata": {},
   "source": [
    "Итак мы определили границы `центральной зоны` - 8км. Посмотрим на рынок недвижимости в центре и сравним с общими показателями. Отличаются ли они? Для этого вернёмся к нашей очищенной таблице data_clean."
   ]
  },
  {
   "cell_type": "code",
   "execution_count": 65,
   "metadata": {},
   "outputs": [
    {
     "name": "stdout",
     "output_type": "stream",
     "text": [
      "Количество объявлений в центральной зоне: 1649\n"
     ]
    }
   ],
   "source": [
    "data_center = data_final.query('city_centers_nearest < 9')\n",
    "print('Количество объявлений в центральной зоне:', len(data_center))"
   ]
  },
  {
   "cell_type": "markdown",
   "metadata": {},
   "source": [
    "Посмотрим как выглядит распределение по параметрам в `центральной зоне`:"
   ]
  },
  {
   "cell_type": "code",
   "execution_count": 66,
   "metadata": {},
   "outputs": [
    {
     "data": {
      "image/png": "[encoded data removed]",
      "text/plain": [
       "<Figure size 864x288 with 1 Axes>"
      ]
     },
     "metadata": {
      "needs_background": "light"
     },
     "output_type": "display_data"
    },
    {
     "data": {
      "image/png": "[encoded data removed]",
      "text/plain": [
       "<Figure size 864x288 with 1 Axes>"
      ]
     },
     "metadata": {
      "needs_background": "light"
     },
     "output_type": "display_data"
    },
    {
     "data": {
      "image/png": "[encoded data removed]",
      "text/plain": [
       "<Figure size 864x288 with 1 Axes>"
      ]
     },
     "metadata": {
      "needs_background": "light"
     },
     "output_type": "display_data"
    },
    {
     "data": {
      "image/png": "[encoded data removed]",
      "text/plain": [
       "<Figure size 864x288 with 1 Axes>"
      ]
     },
     "metadata": {
      "needs_background": "light"
     },
     "output_type": "display_data"
    }
   ],
   "source": [
    "# гистограмма для total_area\n",
    "data_center.hist('total_area', bins=100,  \n",
    "        figsize=(12,4), ec='black')\n",
    "plt.title('Распределение по площади')\n",
    "plt.show()\n",
    "# гистограмма для last_price\n",
    "fig, ax = plt.subplots(figsize=(12,4))\n",
    "data_center.hist('last_price', bins=100, \n",
    "        ec='black', ax = ax)\n",
    "ax.xaxis.set_major_formatter(FormatStrFormatter('%.0f'))\n",
    "plt.title('Распределение по цене')\n",
    "plt.show()\n",
    "# гистограмма для rooms\n",
    "data_center.hist('rooms', bins=100, \n",
    "        figsize=(12,4), ec='black')\n",
    "plt.title('Распределение по кол-ву комнат')\n",
    "plt.show()\n",
    "# гистограмма для ceiling_height\n",
    "data_center.hist('ceiling_height', bins=100, \n",
    "        figsize=(12,4), ec='black')\n",
    "plt.title('Распределение по высоте потолков')\n",
    "plt.show()"
   ]
  },
  {
   "cell_type": "markdown",
   "metadata": {},
   "source": [
    "- по __площади__ всё примерно тоже самое что и по всему региону\n",
    "- по __цене__ всё совсем иначе, центр конечно же дороже, объявления в основном больше 4млн.\n",
    "- __число комнат__ тоже выглядит по другому двушки в центре преобладают\n",
    "- __высота потолков__ не отличается"
   ]
  },
  {
   "cell_type": "code",
   "execution_count": 67,
   "metadata": {},
   "outputs": [
    {
     "data": {
      "image/png": "[encoded data removed]",
      "text/plain": [
       "<Figure size 720x180 with 4 Axes>"
      ]
     },
     "metadata": {
      "needs_background": "light"
     },
     "output_type": "display_data"
    },
    {
     "name": "stdout",
     "output_type": "stream",
     "text": [
      "                      total_area     rooms  city_centers_nearest  m2_price\n",
      "total_area              1.000000  0.793022             -0.071033 -0.189480\n",
      "rooms                   0.793022  1.000000             -0.028460 -0.345913\n",
      "city_centers_nearest   -0.071033 -0.028460              1.000000 -0.402323\n",
      "m2_price               -0.189480 -0.345913             -0.402323  1.000000\n"
     ]
    }
   ],
   "source": [
    "# \n",
    "data_center_corr = data_center[['total_area','rooms','city_centers_nearest','m2_price','floor_level']]\n",
    "\n",
    "sns.pairplot(data_center_corr,\n",
    "             x_vars=['total_area','rooms','city_centers_nearest', 'floor_level'],\n",
    "             y_vars=[\"m2_price\"],\n",
    "             )\n",
    "plt.show()\n",
    "print(df_clean_parameter.corr())"
   ]
  },
  {
   "cell_type": "markdown",
   "metadata": {},
   "source": [
    "Картинка такая же как и общая:\n",
    "\n",
    "- квадратный метр становится дешевле чем больше площадь квартиры\n",
    "- ну а чем больше площадь, тем больше колличество комнат, коэффициент корреляции это нам подверждает соответсвенно при увеличении количества комнат цена за квадратный метр тоже падает.\n",
    "- с увеличением расстояния от центра города цена тоже становится ниже, но если посмотреть на график зависимости, то можно увидеть что разброс цен в зависимости от удаления от центра очень большой, возможно на это вляиет историческая ценность определённых мест.\n",
    "- первый и последний этажи стоят дешевле."
   ]
  },
  {
   "cell_type": "code",
   "execution_count": 68,
   "metadata": {},
   "outputs": [
    {
     "data": {
      "image/png": "[encoded data removed]",
      "text/plain": [
       "<Figure size 1008x360 with 1 Axes>"
      ]
     },
     "metadata": {
      "needs_background": "light"
     },
     "output_type": "display_data"
    },
    {
     "data": {
      "image/png": "[encoded data removed]",
      "text/plain": [
       "<Figure size 1008x360 with 1 Axes>"
      ]
     },
     "metadata": {
      "needs_background": "light"
     },
     "output_type": "display_data"
    },
    {
     "data": {
      "image/png": "[encoded data removed]",
      "text/plain": [
       "<Figure size 1008x360 with 1 Axes>"
      ]
     },
     "metadata": {
      "needs_background": "light"
     },
     "output_type": "display_data"
    }
   ],
   "source": [
    "# создадим список\n",
    "name_center_date = ['year', 'month', 'day_of_weak']\n",
    "# посмотрим как менялась стоимость квартир со временем\n",
    "for name in name_center_date:\n",
    "    (data_center.pivot_table(index=name, values='m2_price', aggfunc='median')\n",
    "    .sort_values(by=name).plot(grid=True, figsize=(14,5)))\n",
    "plt.show()"
   ]
  },
  {
   "cell_type": "markdown",
   "metadata": {},
   "source": [
    "\n",
    "- по годам такая же картина как общая до 2016 года цена за м² падала, потом поползла вверх\n",
    "- по месяцам тоже основныне скачки в цене приходятся на весну и осень\n",
    "- а вот по дням ситуация отличается, гораздо дороже объявления выставлялись в пятницу и выходные"
   ]
  },
  {
   "cell_type": "markdown",
   "metadata": {},
   "source": [
    "## Общий вывод"
   ]
  },
  {
   "cell_type": "markdown",
   "metadata": {},
   "source": [
    "Мы выяснили:\n",
    "- чем больше квартира тем дешевле стоимость м²\n",
    "- преобладающее большинство квартир - однокомнатные. А в `центральной зоне` - двухкомнатные.\n",
    "- первый и последний этажи стоят дешевле, чем квартиры на других этажах.\n",
    "- с 2016г. стоимость квартир растёт\n",
    "- дороже всего квартиры выставляют весной и осенью, а так же по будням. Однако, в `центральной зоне` квартиры размещают дороже по выходным\n",
    "- в среднем квартира продаётся за 180 дней (пол года)\n",
    "\n",
    "В целом рынок `центральной зоны` не сильно отличается в зависимости цены от параметров квартиры и удалённости от центра, но вариативность цен более разнообразна, что скорее всего зависит от статуса улицы/района.\n",
    "\n"
   ]
  },
  {
   "cell_type": "code",
   "execution_count": null,
   "metadata": {},
   "outputs": [],
   "source": []
  }
 ],
 "metadata": {
  "kernelspec": {
   "display_name": "Python 3",
   "language": "python",
   "name": "python3"
  },
  "language_info": {
   "codemirror_mode": {
    "name": "ipython",
    "version": 3
   },
   "file_extension": ".py",
   "mimetype": "text/x-python",
   "name": "python",
   "nbconvert_exporter": "python",
   "pygments_lexer": "ipython3",
   "version": "3.7.8"
  },
  "toc": {
   "base_numbering": 1,
   "nav_menu": {},
   "number_sections": false,
   "sideBar": true,
   "skip_h1_title": true,
   "title_cell": "Table of Contents",
   "title_sidebar": "Contents",
   "toc_cell": true,
   "toc_position": {},
   "toc_section_display": true,
   "toc_window_display": true
  }
 },
 "nbformat": 4,
 "nbformat_minor": 2
}
