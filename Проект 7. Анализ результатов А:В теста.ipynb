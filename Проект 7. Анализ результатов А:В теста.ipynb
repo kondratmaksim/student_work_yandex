{
 "cells": [
  {
   "cell_type": "markdown",
   "metadata": {
    "toc": true
   },
   "source": [
    "<h1>Table of Contents<span class=\"tocSkip\"></span></h1>\n",
    "<div class=\"toc\"><ul class=\"toc-item\"><li><span><a href=\"#1.-Описание-проекта.\" data-toc-modified-id=\"1.-Описание-проекта.-1\">1. Описание проекта.</a></span></li><li><span><a href=\"#2.-Описание-данных.\" data-toc-modified-id=\"2.-Описание-данных.-2\">2. Описание данных.</a></span></li><li><span><a href=\"#3.-Ознакомление-с-данными.\" data-toc-modified-id=\"3.-Ознакомление-с-данными.-3\">3. Ознакомление с данными.</a></span><ul class=\"toc-item\"><li><span><a href=\"#3.1.-Файл-с-гипотезами.\" data-toc-modified-id=\"3.1.-Файл-с-гипотезами.-3.1\">3.1. Файл с гипотезами.</a></span></li><li><span><a href=\"#3.2.-Файл-с-оплатами.\" data-toc-modified-id=\"3.2.-Файл-с-оплатами.-3.2\">3.2. Файл с оплатами.</a></span></li><li><span><a href=\"#3.3.-Файл-с-визитами.\" data-toc-modified-id=\"3.3.-Файл-с-визитами.-3.3\">3.3. Файл с визитами.</a></span></li></ul></li><li><span><a href=\"#Вывод.\" data-toc-modified-id=\"Вывод.-4\">Вывод.</a></span></li><li><span><a href=\"#4.-Приоретизация-гипотез.\" data-toc-modified-id=\"4.-Приоретизация-гипотез.-5\">4. Приоретизация гипотез.</a></span><ul class=\"toc-item\"><li><span><a href=\"#4.1.-Фреймворк-ICE.\" data-toc-modified-id=\"4.1.-Фреймворк-ICE.-5.1\">4.1. Фреймворк ICE.</a></span></li><li><span><a href=\"#Вывод.\" data-toc-modified-id=\"Вывод.-5.2\">Вывод.</a></span></li><li><span><a href=\"#4.2.-Фреймворк-RICE.\" data-toc-modified-id=\"4.2.-Фреймворк-RICE.-5.3\">4.2. Фреймворк RICE.</a></span></li><li><span><a href=\"#Вывод.\" data-toc-modified-id=\"Вывод.-5.4\">Вывод.</a></span></li></ul></li><li><span><a href=\"#Общий-вывод.\" data-toc-modified-id=\"Общий-вывод.-6\">Общий вывод.</a></span></li><li><span><a href=\"#5.-Анализ-результатов-A/B-теста.\" data-toc-modified-id=\"5.-Анализ-результатов-A/B-теста.-7\">5. Анализ результатов A/B теста.</a></span><ul class=\"toc-item\"><li><span><a href=\"#5.1.-Кумулятивные-метрики.\" data-toc-modified-id=\"5.1.-Кумулятивные-метрики.-7.1\">5.1. Кумулятивные метрики.</a></span><ul class=\"toc-item\"><li><span><a href=\"#5.1.1.-Кумулятивная-выручка-по-группам.\" data-toc-modified-id=\"5.1.1.-Кумулятивная-выручка-по-группам.-7.1.1\">5.1.1. Кумулятивная выручка по группам.</a></span></li><li><span><a href=\"#Вывод.\" data-toc-modified-id=\"Вывод.-7.1.2\">Вывод.</a></span></li><li><span><a href=\"#5.1.2.-Кумулятивный-средний-чек-по-группам.\" data-toc-modified-id=\"5.1.2.-Кумулятивный-средний-чек-по-группам.-7.1.3\">5.1.2. Кумулятивный средний чек по группам.</a></span></li><li><span><a href=\"#Вывод.\" data-toc-modified-id=\"Вывод.-7.1.4\">Вывод.</a></span></li><li><span><a href=\"#5.1.3.-Относительное-изменение-кумулятивного-среднего-чека-B-к-A.\" data-toc-modified-id=\"5.1.3.-Относительное-изменение-кумулятивного-среднего-чека-B-к-A.-7.1.5\">5.1.3. Относительное изменение кумулятивного среднего чека B к A.</a></span></li><li><span><a href=\"#Вывод.\" data-toc-modified-id=\"Вывод.-7.1.6\">Вывод.</a></span></li><li><span><a href=\"#5.1.4.-Кумулятивная-конверсия-по-группам.\" data-toc-modified-id=\"5.1.4.-Кумулятивная-конверсия-по-группам.-7.1.7\">5.1.4. Кумулятивная конверсия по группам.</a></span></li><li><span><a href=\"#Вывод.\" data-toc-modified-id=\"Вывод.-7.1.8\">Вывод.</a></span></li><li><span><a href=\"#5.1.5.-Относительное-изменение-кумулятивной-конверсии-B-к-A.\" data-toc-modified-id=\"5.1.5.-Относительное-изменение-кумулятивной-конверсии-B-к-A.-7.1.9\">5.1.5. Относительное изменение кумулятивной конверсии B к A.</a></span></li><li><span><a href=\"#Вывод.\" data-toc-modified-id=\"Вывод.-7.1.10\">Вывод.</a></span></li></ul></li><li><span><a href=\"#5.2.-Анализ-выбросов-и-всплесков.\" data-toc-modified-id=\"5.2.-Анализ-выбросов-и-всплесков.-7.2\">5.2. Анализ выбросов и всплесков.</a></span><ul class=\"toc-item\"><li><span><a href=\"#5.2.1.-Определение-аномальных-заказов.\" data-toc-modified-id=\"5.2.1.-Определение-аномальных-заказов.-7.2.1\">5.2.1. Определение аномальных заказов.</a></span></li><li><span><a href=\"#Вывод.\" data-toc-modified-id=\"Вывод.-7.2.2\">Вывод.</a></span></li><li><span><a href=\"#5.2.2.-Определение-аномальных-пользователей.\" data-toc-modified-id=\"5.2.2.-Определение-аномальных-пользователей.-7.2.3\">5.2.2. Определение аномальных пользователей.</a></span></li><li><span><a href=\"#Вывод.\" data-toc-modified-id=\"Вывод.-7.2.4\">Вывод.</a></span></li></ul></li><li><span><a href=\"#5.3.-Статистическая-значимость.\" data-toc-modified-id=\"5.3.-Статистическая-значимость.-7.3\">5.3. Статистическая значимость.</a></span><ul class=\"toc-item\"><li><span><a href=\"#5.3.1.-Для-конверсии.\" data-toc-modified-id=\"5.3.1.-Для-конверсии.-7.3.1\">5.3.1. Для конверсии.</a></span></li><li><span><a href=\"#Вывод.\" data-toc-modified-id=\"Вывод.-7.3.2\">Вывод.</a></span></li><li><span><a href=\"#5.3.2.-Для-среднего-чека.\" data-toc-modified-id=\"5.3.2.-Для-среднего-чека.-7.3.3\">5.3.2. Для среднего чека.</a></span></li><li><span><a href=\"#Вывод.\" data-toc-modified-id=\"Вывод.-7.3.4\">Вывод.</a></span></li></ul></li><li><span><a href=\"#Общий-вывод.\" data-toc-modified-id=\"Общий-вывод.-7.4\">Общий вывод.</a></span></li><li><span><a href=\"#6.-Принятие-решения-по-результатам-теста.\" data-toc-modified-id=\"6.-Принятие-решения-по-результатам-теста.-7.5\">6. Принятие решения по результатам теста.</a></span></li></ul></li></ul></div>"
   ]
  },
  {
   "cell_type": "markdown",
   "metadata": {},
   "source": [
    "# Анализ результатов А/В теста."
   ]
  },
  {
   "cell_type": "markdown",
   "metadata": {},
   "source": [
    "## 1. Описание проекта."
   ]
  },
  {
   "cell_type": "markdown",
   "metadata": {},
   "source": [
    "Приоритизируйте гипотезы для увеличения выручки, запустите A/B-тест и проанализируйте результаты."
   ]
  },
  {
   "cell_type": "markdown",
   "metadata": {},
   "source": [
    "## 2. Описание данных."
   ]
  },
  {
   "cell_type": "markdown",
   "metadata": {},
   "source": [
    "**Данные для первой части**, в которой мы приоретизируем гипотезы и выберем какие из них будем тестировать в интернет-магазине.\n",
    "\n",
    "Файл `/datasets/hypothesis.csv`\n",
    "- Hypothesis — краткое описание гипотезы;\n",
    "- Reach — охват пользователей по 10-балльной шкале;\n",
    "- Impact — влияние на пользователей по 10-балльной шкале;\n",
    "- Confidence — уверенность в гипотезе по 10-балльной шкале;\n",
    "- Efforts — затраты ресурсов на проверку гипотезы по 10-балльной шкале. Чем больше значение Efforts, тем дороже проверка гипотезы.\n",
    "\n",
    "**Данные для второй части**, в которой мы выясним улучшились ли метрики после применения гипотезы.\n",
    "\n",
    "Файл `/datasets/orders.csv`\n",
    "- transactionId — идентификатор заказа;\n",
    "- visitorId — идентификатор пользователя, совершившего заказ;\n",
    "- date — дата, когда был совершён заказ;\n",
    "- revenue — выручка заказа;\n",
    "- group — группа A/B-теста, в которую попал заказ.\n",
    "\n",
    "Файл `/datasets/visitors.csv`\n",
    "- date — дата;\n",
    "- group — группа A/B-теста;\n",
    "- visitors — количество пользователей в указанную дату в указанной группе A/B-теста"
   ]
  },
  {
   "cell_type": "markdown",
   "metadata": {},
   "source": [
    "## 3. Ознакомление с данными."
   ]
  },
  {
   "cell_type": "code",
   "execution_count": 1,
   "metadata": {},
   "outputs": [],
   "source": [
    "import pandas as pd\n",
    "import numpy as np\n",
    "import scipy.stats as stats\n",
    "import datetime as dt\n",
    "import matplotlib.pyplot as plt\n",
    "import seaborn as sns\n",
    "pd.plotting.register_matplotlib_converters()\n",
    "%matplotlib inline"
   ]
  },
  {
   "cell_type": "code",
   "execution_count": 2,
   "metadata": {},
   "outputs": [],
   "source": [
    "hypothesis = pd.read_csv('/datasets/hypothesis.csv')\n",
    "orders = pd.read_csv('/datasets/orders.csv')\n",
    "visitors = pd.read_csv('/datasets/visitors.csv')"
   ]
  },
  {
   "cell_type": "markdown",
   "metadata": {},
   "source": [
    "### 3.1. Файл с гипотезами."
   ]
  },
  {
   "cell_type": "code",
   "execution_count": 3,
   "metadata": {},
   "outputs": [
    {
     "data": {
      "text/html": [
       "<div>\n",
       "<style scoped>\n",
       "    .dataframe tbody tr th:only-of-type {\n",
       "        vertical-align: middle;\n",
       "    }\n",
       "\n",
       "    .dataframe tbody tr th {\n",
       "        vertical-align: top;\n",
       "    }\n",
       "\n",
       "    .dataframe thead th {\n",
       "        text-align: right;\n",
       "    }\n",
       "</style>\n",
       "<table border=\"1\" class=\"dataframe\">\n",
       "  <thead>\n",
       "    <tr style=\"text-align: right;\">\n",
       "      <th></th>\n",
       "      <th>Hypothesis</th>\n",
       "      <th>Reach</th>\n",
       "      <th>Impact</th>\n",
       "      <th>Confidence</th>\n",
       "      <th>Efforts</th>\n",
       "    </tr>\n",
       "  </thead>\n",
       "  <tbody>\n",
       "    <tr>\n",
       "      <td>0</td>\n",
       "      <td>Добавить два новых канала привлечения трафика, что позволит привлекать на 30% больше пользователей</td>\n",
       "      <td>3</td>\n",
       "      <td>10</td>\n",
       "      <td>8</td>\n",
       "      <td>6</td>\n",
       "    </tr>\n",
       "    <tr>\n",
       "      <td>1</td>\n",
       "      <td>Запустить собственную службу доставки, что сократит срок доставки заказов</td>\n",
       "      <td>2</td>\n",
       "      <td>5</td>\n",
       "      <td>4</td>\n",
       "      <td>10</td>\n",
       "    </tr>\n",
       "    <tr>\n",
       "      <td>2</td>\n",
       "      <td>Добавить блоки рекомендаций товаров на сайт интернет магазина, чтобы повысить конверсию и средний чек заказа</td>\n",
       "      <td>8</td>\n",
       "      <td>3</td>\n",
       "      <td>7</td>\n",
       "      <td>3</td>\n",
       "    </tr>\n",
       "    <tr>\n",
       "      <td>3</td>\n",
       "      <td>Изменить структура категорий, что увеличит конверсию, т.к. пользователи быстрее найдут нужный товар</td>\n",
       "      <td>8</td>\n",
       "      <td>3</td>\n",
       "      <td>3</td>\n",
       "      <td>8</td>\n",
       "    </tr>\n",
       "    <tr>\n",
       "      <td>4</td>\n",
       "      <td>Изменить цвет фона главной страницы, чтобы увеличить вовлеченность пользователей</td>\n",
       "      <td>3</td>\n",
       "      <td>1</td>\n",
       "      <td>1</td>\n",
       "      <td>1</td>\n",
       "    </tr>\n",
       "    <tr>\n",
       "      <td>5</td>\n",
       "      <td>Добавить страницу отзывов клиентов о магазине, что позволит увеличить количество заказов</td>\n",
       "      <td>3</td>\n",
       "      <td>2</td>\n",
       "      <td>2</td>\n",
       "      <td>3</td>\n",
       "    </tr>\n",
       "    <tr>\n",
       "      <td>6</td>\n",
       "      <td>Показать на главной странице баннеры с актуальными акциями и распродажами, чтобы увеличить конверсию</td>\n",
       "      <td>5</td>\n",
       "      <td>3</td>\n",
       "      <td>8</td>\n",
       "      <td>3</td>\n",
       "    </tr>\n",
       "    <tr>\n",
       "      <td>7</td>\n",
       "      <td>Добавить форму подписки на все основные страницы, чтобы собрать базу клиентов для email-рассылок</td>\n",
       "      <td>10</td>\n",
       "      <td>7</td>\n",
       "      <td>8</td>\n",
       "      <td>5</td>\n",
       "    </tr>\n",
       "    <tr>\n",
       "      <td>8</td>\n",
       "      <td>Запустить акцию, дающую скидку на товар в день рождения</td>\n",
       "      <td>1</td>\n",
       "      <td>9</td>\n",
       "      <td>9</td>\n",
       "      <td>5</td>\n",
       "    </tr>\n",
       "  </tbody>\n",
       "</table>\n",
       "</div>"
      ],
      "text/plain": [
       "                                                                                                     Hypothesis  \\\n",
       "0  Добавить два новых канала привлечения трафика, что позволит привлекать на 30% больше пользователей             \n",
       "1  Запустить собственную службу доставки, что сократит срок доставки заказов                                      \n",
       "2  Добавить блоки рекомендаций товаров на сайт интернет магазина, чтобы повысить конверсию и средний чек заказа   \n",
       "3  Изменить структура категорий, что увеличит конверсию, т.к. пользователи быстрее найдут нужный товар            \n",
       "4  Изменить цвет фона главной страницы, чтобы увеличить вовлеченность пользователей                               \n",
       "5  Добавить страницу отзывов клиентов о магазине, что позволит увеличить количество заказов                       \n",
       "6  Показать на главной странице баннеры с актуальными акциями и распродажами, чтобы увеличить конверсию           \n",
       "7  Добавить форму подписки на все основные страницы, чтобы собрать базу клиентов для email-рассылок               \n",
       "8  Запустить акцию, дающую скидку на товар в день рождения                                                        \n",
       "\n",
       "   Reach  Impact  Confidence  Efforts  \n",
       "0  3      10      8           6        \n",
       "1  2      5       4           10       \n",
       "2  8      3       7           3        \n",
       "3  8      3       3           8        \n",
       "4  3      1       1           1        \n",
       "5  3      2       2           3        \n",
       "6  5      3       8           3        \n",
       "7  10     7       8           5        \n",
       "8  1      9       9           5        "
      ]
     },
     "metadata": {},
     "output_type": "display_data"
    }
   ],
   "source": [
    "pd.options.display.max_colwidth = -1\n",
    "display(hypothesis)"
   ]
  },
  {
   "cell_type": "code",
   "execution_count": 4,
   "metadata": {},
   "outputs": [
    {
     "name": "stdout",
     "output_type": "stream",
     "text": [
      "<class 'pandas.core.frame.DataFrame'>\n",
      "RangeIndex: 9 entries, 0 to 8\n",
      "Data columns (total 5 columns):\n",
      "Hypothesis    9 non-null object\n",
      "Reach         9 non-null int64\n",
      "Impact        9 non-null int64\n",
      "Confidence    9 non-null int64\n",
      "Efforts       9 non-null int64\n",
      "dtypes: int64(4), object(1)\n",
      "memory usage: 488.0+ bytes\n"
     ]
    }
   ],
   "source": [
    "hypothesis.info()"
   ]
  },
  {
   "cell_type": "markdown",
   "metadata": {},
   "source": [
    "Приведём названия столбцов к нижнему регистру."
   ]
  },
  {
   "cell_type": "code",
   "execution_count": 5,
   "metadata": {},
   "outputs": [
    {
     "data": {
      "text/plain": [
       "Index(['hypothesis', 'reach', 'impact', 'confidence', 'efforts'], dtype='object')"
      ]
     },
     "execution_count": 5,
     "metadata": {},
     "output_type": "execute_result"
    }
   ],
   "source": [
    "hypothesis.columns = hypothesis.columns.str.lower()\n",
    "hypothesis.columns"
   ]
  },
  {
   "cell_type": "markdown",
   "metadata": {},
   "source": [
    "Пропусков нет, тип данных соответсвует, всё подгрузилось корректно."
   ]
  },
  {
   "cell_type": "markdown",
   "metadata": {},
   "source": [
    "### 3.2. Файл с оплатами."
   ]
  },
  {
   "cell_type": "code",
   "execution_count": 6,
   "metadata": {},
   "outputs": [
    {
     "data": {
      "text/html": [
       "<div>\n",
       "<style scoped>\n",
       "    .dataframe tbody tr th:only-of-type {\n",
       "        vertical-align: middle;\n",
       "    }\n",
       "\n",
       "    .dataframe tbody tr th {\n",
       "        vertical-align: top;\n",
       "    }\n",
       "\n",
       "    .dataframe thead th {\n",
       "        text-align: right;\n",
       "    }\n",
       "</style>\n",
       "<table border=\"1\" class=\"dataframe\">\n",
       "  <thead>\n",
       "    <tr style=\"text-align: right;\">\n",
       "      <th></th>\n",
       "      <th>transactionId</th>\n",
       "      <th>visitorId</th>\n",
       "      <th>date</th>\n",
       "      <th>revenue</th>\n",
       "      <th>group</th>\n",
       "    </tr>\n",
       "  </thead>\n",
       "  <tbody>\n",
       "    <tr>\n",
       "      <td>974</td>\n",
       "      <td>836739159</td>\n",
       "      <td>4283872382</td>\n",
       "      <td>2019-08-22</td>\n",
       "      <td>3806</td>\n",
       "      <td>B</td>\n",
       "    </tr>\n",
       "    <tr>\n",
       "      <td>39</td>\n",
       "      <td>1950404403</td>\n",
       "      <td>114507418</td>\n",
       "      <td>2019-08-15</td>\n",
       "      <td>610</td>\n",
       "      <td>B</td>\n",
       "    </tr>\n",
       "    <tr>\n",
       "      <td>1070</td>\n",
       "      <td>1473132782</td>\n",
       "      <td>4069496402</td>\n",
       "      <td>2019-08-12</td>\n",
       "      <td>640</td>\n",
       "      <td>B</td>\n",
       "    </tr>\n",
       "    <tr>\n",
       "      <td>237</td>\n",
       "      <td>2305128914</td>\n",
       "      <td>4134011281</td>\n",
       "      <td>2019-08-23</td>\n",
       "      <td>6149</td>\n",
       "      <td>A</td>\n",
       "    </tr>\n",
       "    <tr>\n",
       "      <td>1079</td>\n",
       "      <td>4044267042</td>\n",
       "      <td>997945223</td>\n",
       "      <td>2019-08-12</td>\n",
       "      <td>9300</td>\n",
       "      <td>A</td>\n",
       "    </tr>\n",
       "    <tr>\n",
       "      <td>164</td>\n",
       "      <td>3937772364</td>\n",
       "      <td>78678012</td>\n",
       "      <td>2019-08-17</td>\n",
       "      <td>1440</td>\n",
       "      <td>B</td>\n",
       "    </tr>\n",
       "    <tr>\n",
       "      <td>189</td>\n",
       "      <td>4189935502</td>\n",
       "      <td>1648269707</td>\n",
       "      <td>2019-08-17</td>\n",
       "      <td>290</td>\n",
       "      <td>B</td>\n",
       "    </tr>\n",
       "    <tr>\n",
       "      <td>707</td>\n",
       "      <td>2741495374</td>\n",
       "      <td>1667068825</td>\n",
       "      <td>2019-08-07</td>\n",
       "      <td>4180</td>\n",
       "      <td>B</td>\n",
       "    </tr>\n",
       "    <tr>\n",
       "      <td>331</td>\n",
       "      <td>2029413212</td>\n",
       "      <td>182753106</td>\n",
       "      <td>2019-08-28</td>\n",
       "      <td>300</td>\n",
       "      <td>A</td>\n",
       "    </tr>\n",
       "    <tr>\n",
       "      <td>547</td>\n",
       "      <td>2912128786</td>\n",
       "      <td>2030837847</td>\n",
       "      <td>2019-08-29</td>\n",
       "      <td>25080</td>\n",
       "      <td>B</td>\n",
       "    </tr>\n",
       "    <tr>\n",
       "      <td>1176</td>\n",
       "      <td>3213645392</td>\n",
       "      <td>2456230425</td>\n",
       "      <td>2019-08-14</td>\n",
       "      <td>3020</td>\n",
       "      <td>B</td>\n",
       "    </tr>\n",
       "  </tbody>\n",
       "</table>\n",
       "</div>"
      ],
      "text/plain": [
       "      transactionId   visitorId        date  revenue group\n",
       "974   836739159      4283872382  2019-08-22  3806     B   \n",
       "39    1950404403     114507418   2019-08-15  610      B   \n",
       "1070  1473132782     4069496402  2019-08-12  640      B   \n",
       "237   2305128914     4134011281  2019-08-23  6149     A   \n",
       "1079  4044267042     997945223   2019-08-12  9300     A   \n",
       "164   3937772364     78678012    2019-08-17  1440     B   \n",
       "189   4189935502     1648269707  2019-08-17  290      B   \n",
       "707   2741495374     1667068825  2019-08-07  4180     B   \n",
       "331   2029413212     182753106   2019-08-28  300      A   \n",
       "547   2912128786     2030837847  2019-08-29  25080    B   \n",
       "1176  3213645392     2456230425  2019-08-14  3020     B   "
      ]
     },
     "execution_count": 6,
     "metadata": {},
     "output_type": "execute_result"
    }
   ],
   "source": [
    "orders.sample(11)"
   ]
  },
  {
   "cell_type": "code",
   "execution_count": 7,
   "metadata": {},
   "outputs": [
    {
     "name": "stdout",
     "output_type": "stream",
     "text": [
      "<class 'pandas.core.frame.DataFrame'>\n",
      "RangeIndex: 1197 entries, 0 to 1196\n",
      "Data columns (total 5 columns):\n",
      "transactionId    1197 non-null int64\n",
      "visitorId        1197 non-null int64\n",
      "date             1197 non-null object\n",
      "revenue          1197 non-null int64\n",
      "group            1197 non-null object\n",
      "dtypes: int64(3), object(2)\n",
      "memory usage: 46.9+ KB\n"
     ]
    }
   ],
   "source": [
    "orders.info()"
   ]
  },
  {
   "cell_type": "markdown",
   "metadata": {},
   "source": [
    "Переведём дату в тип datetime."
   ]
  },
  {
   "cell_type": "code",
   "execution_count": 8,
   "metadata": {},
   "outputs": [],
   "source": [
    "orders['date'] = pd.to_datetime(orders['date'])"
   ]
  },
  {
   "cell_type": "markdown",
   "metadata": {},
   "source": [
    "Переименуем столбцы *transactionId* и *visitorId*."
   ]
  },
  {
   "cell_type": "code",
   "execution_count": 9,
   "metadata": {},
   "outputs": [],
   "source": [
    "orders = orders.rename(columns={'transactionId':'transaction_id', 'visitorId':'visitor_id'})"
   ]
  },
  {
   "cell_type": "markdown",
   "metadata": {},
   "source": [
    "Проверим на наличие дубликатов."
   ]
  },
  {
   "cell_type": "code",
   "execution_count": 10,
   "metadata": {},
   "outputs": [
    {
     "data": {
      "text/plain": [
       "0"
      ]
     },
     "execution_count": 10,
     "metadata": {},
     "output_type": "execute_result"
    }
   ],
   "source": [
    "orders.duplicated().sum()"
   ]
  },
  {
   "cell_type": "code",
   "execution_count": 11,
   "metadata": {},
   "outputs": [
    {
     "name": "stdout",
     "output_type": "stream",
     "text": [
      "<class 'pandas.core.frame.DataFrame'>\n",
      "RangeIndex: 1197 entries, 0 to 1196\n",
      "Data columns (total 5 columns):\n",
      "transaction_id    1197 non-null int64\n",
      "visitor_id        1197 non-null int64\n",
      "date              1197 non-null datetime64[ns]\n",
      "revenue           1197 non-null int64\n",
      "group             1197 non-null object\n",
      "dtypes: datetime64[ns](1), int64(3), object(1)\n",
      "memory usage: 46.9+ KB\n"
     ]
    }
   ],
   "source": [
    "orders.info()"
   ]
  },
  {
   "cell_type": "markdown",
   "metadata": {},
   "source": [
    "Пропусков нет, дублей нет, тип данных соответсвует, всё подгрузилось корректно."
   ]
  },
  {
   "cell_type": "markdown",
   "metadata": {},
   "source": [
    "### 3.3. Файл с визитами."
   ]
  },
  {
   "cell_type": "code",
   "execution_count": 12,
   "metadata": {},
   "outputs": [
    {
     "data": {
      "text/html": [
       "<div>\n",
       "<style scoped>\n",
       "    .dataframe tbody tr th:only-of-type {\n",
       "        vertical-align: middle;\n",
       "    }\n",
       "\n",
       "    .dataframe tbody tr th {\n",
       "        vertical-align: top;\n",
       "    }\n",
       "\n",
       "    .dataframe thead th {\n",
       "        text-align: right;\n",
       "    }\n",
       "</style>\n",
       "<table border=\"1\" class=\"dataframe\">\n",
       "  <thead>\n",
       "    <tr style=\"text-align: right;\">\n",
       "      <th></th>\n",
       "      <th>date</th>\n",
       "      <th>group</th>\n",
       "      <th>visitors</th>\n",
       "    </tr>\n",
       "  </thead>\n",
       "  <tbody>\n",
       "    <tr>\n",
       "      <td>6</td>\n",
       "      <td>2019-08-07</td>\n",
       "      <td>A</td>\n",
       "      <td>644</td>\n",
       "    </tr>\n",
       "    <tr>\n",
       "      <td>60</td>\n",
       "      <td>2019-08-30</td>\n",
       "      <td>B</td>\n",
       "      <td>490</td>\n",
       "    </tr>\n",
       "    <tr>\n",
       "      <td>16</td>\n",
       "      <td>2019-08-17</td>\n",
       "      <td>A</td>\n",
       "      <td>412</td>\n",
       "    </tr>\n",
       "    <tr>\n",
       "      <td>40</td>\n",
       "      <td>2019-08-10</td>\n",
       "      <td>B</td>\n",
       "      <td>369</td>\n",
       "    </tr>\n",
       "    <tr>\n",
       "      <td>34</td>\n",
       "      <td>2019-08-04</td>\n",
       "      <td>B</td>\n",
       "      <td>770</td>\n",
       "    </tr>\n",
       "    <tr>\n",
       "      <td>12</td>\n",
       "      <td>2019-08-13</td>\n",
       "      <td>A</td>\n",
       "      <td>748</td>\n",
       "    </tr>\n",
       "    <tr>\n",
       "      <td>20</td>\n",
       "      <td>2019-08-21</td>\n",
       "      <td>A</td>\n",
       "      <td>646</td>\n",
       "    </tr>\n",
       "    <tr>\n",
       "      <td>28</td>\n",
       "      <td>2019-08-29</td>\n",
       "      <td>A</td>\n",
       "      <td>577</td>\n",
       "    </tr>\n",
       "    <tr>\n",
       "      <td>33</td>\n",
       "      <td>2019-08-03</td>\n",
       "      <td>B</td>\n",
       "      <td>509</td>\n",
       "    </tr>\n",
       "    <tr>\n",
       "      <td>13</td>\n",
       "      <td>2019-08-14</td>\n",
       "      <td>A</td>\n",
       "      <td>735</td>\n",
       "    </tr>\n",
       "    <tr>\n",
       "      <td>8</td>\n",
       "      <td>2019-08-09</td>\n",
       "      <td>A</td>\n",
       "      <td>617</td>\n",
       "    </tr>\n",
       "  </tbody>\n",
       "</table>\n",
       "</div>"
      ],
      "text/plain": [
       "          date group  visitors\n",
       "6   2019-08-07  A     644     \n",
       "60  2019-08-30  B     490     \n",
       "16  2019-08-17  A     412     \n",
       "40  2019-08-10  B     369     \n",
       "34  2019-08-04  B     770     \n",
       "12  2019-08-13  A     748     \n",
       "20  2019-08-21  A     646     \n",
       "28  2019-08-29  A     577     \n",
       "33  2019-08-03  B     509     \n",
       "13  2019-08-14  A     735     \n",
       "8   2019-08-09  A     617     "
      ]
     },
     "execution_count": 12,
     "metadata": {},
     "output_type": "execute_result"
    }
   ],
   "source": [
    "visitors.sample(11)"
   ]
  },
  {
   "cell_type": "code",
   "execution_count": 13,
   "metadata": {},
   "outputs": [
    {
     "name": "stdout",
     "output_type": "stream",
     "text": [
      "<class 'pandas.core.frame.DataFrame'>\n",
      "RangeIndex: 62 entries, 0 to 61\n",
      "Data columns (total 3 columns):\n",
      "date        62 non-null object\n",
      "group       62 non-null object\n",
      "visitors    62 non-null int64\n",
      "dtypes: int64(1), object(2)\n",
      "memory usage: 1.6+ KB\n"
     ]
    }
   ],
   "source": [
    "visitors.info()"
   ]
  },
  {
   "cell_type": "markdown",
   "metadata": {},
   "source": [
    "Переведём дату в тип datetime."
   ]
  },
  {
   "cell_type": "code",
   "execution_count": 14,
   "metadata": {},
   "outputs": [],
   "source": [
    "visitors['date'] = pd.to_datetime(visitors['date'])"
   ]
  },
  {
   "cell_type": "markdown",
   "metadata": {},
   "source": [
    "Проверим на наличие дубликатов."
   ]
  },
  {
   "cell_type": "code",
   "execution_count": 15,
   "metadata": {},
   "outputs": [
    {
     "data": {
      "text/plain": [
       "0"
      ]
     },
     "execution_count": 15,
     "metadata": {},
     "output_type": "execute_result"
    }
   ],
   "source": [
    "visitors.duplicated().sum()"
   ]
  },
  {
   "cell_type": "code",
   "execution_count": 16,
   "metadata": {},
   "outputs": [
    {
     "name": "stdout",
     "output_type": "stream",
     "text": [
      "<class 'pandas.core.frame.DataFrame'>\n",
      "RangeIndex: 62 entries, 0 to 61\n",
      "Data columns (total 3 columns):\n",
      "date        62 non-null datetime64[ns]\n",
      "group       62 non-null object\n",
      "visitors    62 non-null int64\n",
      "dtypes: datetime64[ns](1), int64(1), object(1)\n",
      "memory usage: 1.6+ KB\n"
     ]
    }
   ],
   "source": [
    "visitors.info()"
   ]
  },
  {
   "cell_type": "markdown",
   "metadata": {},
   "source": [
    "Пропусков нет, дублей нет, тип данных соответсвует, всё подгрузилось корректно."
   ]
  },
  {
   "cell_type": "markdown",
   "metadata": {},
   "source": [
    "## Вывод."
   ]
  },
  {
   "cell_type": "markdown",
   "metadata": {},
   "source": [
    "Данные готовы."
   ]
  },
  {
   "cell_type": "markdown",
   "metadata": {},
   "source": [
    "## 4. Приоретизация гипотез."
   ]
  },
  {
   "cell_type": "markdown",
   "metadata": {},
   "source": [
    "В файле `hypothesis.csv` 9 гипотез по увеличению выручки интернет-магазина с указанными параметрами Reach, Impact, Confidence, Effort.\n",
    "\n",
    "Посмотрим на их оценки."
   ]
  },
  {
   "cell_type": "code",
   "execution_count": 17,
   "metadata": {},
   "outputs": [
    {
     "data": {
      "text/html": [
       "<div>\n",
       "<style scoped>\n",
       "    .dataframe tbody tr th:only-of-type {\n",
       "        vertical-align: middle;\n",
       "    }\n",
       "\n",
       "    .dataframe tbody tr th {\n",
       "        vertical-align: top;\n",
       "    }\n",
       "\n",
       "    .dataframe thead th {\n",
       "        text-align: right;\n",
       "    }\n",
       "</style>\n",
       "<table border=\"1\" class=\"dataframe\">\n",
       "  <thead>\n",
       "    <tr style=\"text-align: right;\">\n",
       "      <th></th>\n",
       "      <th>hypothesis</th>\n",
       "      <th>reach</th>\n",
       "      <th>impact</th>\n",
       "      <th>confidence</th>\n",
       "      <th>efforts</th>\n",
       "    </tr>\n",
       "  </thead>\n",
       "  <tbody>\n",
       "    <tr>\n",
       "      <td>0</td>\n",
       "      <td>Добавить два новых канала привлечения трафика, что позволит привлекать на 30% больше пользователей</td>\n",
       "      <td>3</td>\n",
       "      <td>10</td>\n",
       "      <td>8</td>\n",
       "      <td>6</td>\n",
       "    </tr>\n",
       "    <tr>\n",
       "      <td>1</td>\n",
       "      <td>Запустить собственную службу доставки, что сократит срок доставки заказов</td>\n",
       "      <td>2</td>\n",
       "      <td>5</td>\n",
       "      <td>4</td>\n",
       "      <td>10</td>\n",
       "    </tr>\n",
       "    <tr>\n",
       "      <td>2</td>\n",
       "      <td>Добавить блоки рекомендаций товаров на сайт интернет магазина, чтобы повысить конверсию и средний чек заказа</td>\n",
       "      <td>8</td>\n",
       "      <td>3</td>\n",
       "      <td>7</td>\n",
       "      <td>3</td>\n",
       "    </tr>\n",
       "    <tr>\n",
       "      <td>3</td>\n",
       "      <td>Изменить структура категорий, что увеличит конверсию, т.к. пользователи быстрее найдут нужный товар</td>\n",
       "      <td>8</td>\n",
       "      <td>3</td>\n",
       "      <td>3</td>\n",
       "      <td>8</td>\n",
       "    </tr>\n",
       "    <tr>\n",
       "      <td>4</td>\n",
       "      <td>Изменить цвет фона главной страницы, чтобы увеличить вовлеченность пользователей</td>\n",
       "      <td>3</td>\n",
       "      <td>1</td>\n",
       "      <td>1</td>\n",
       "      <td>1</td>\n",
       "    </tr>\n",
       "    <tr>\n",
       "      <td>5</td>\n",
       "      <td>Добавить страницу отзывов клиентов о магазине, что позволит увеличить количество заказов</td>\n",
       "      <td>3</td>\n",
       "      <td>2</td>\n",
       "      <td>2</td>\n",
       "      <td>3</td>\n",
       "    </tr>\n",
       "    <tr>\n",
       "      <td>6</td>\n",
       "      <td>Показать на главной странице баннеры с актуальными акциями и распродажами, чтобы увеличить конверсию</td>\n",
       "      <td>5</td>\n",
       "      <td>3</td>\n",
       "      <td>8</td>\n",
       "      <td>3</td>\n",
       "    </tr>\n",
       "    <tr>\n",
       "      <td>7</td>\n",
       "      <td>Добавить форму подписки на все основные страницы, чтобы собрать базу клиентов для email-рассылок</td>\n",
       "      <td>10</td>\n",
       "      <td>7</td>\n",
       "      <td>8</td>\n",
       "      <td>5</td>\n",
       "    </tr>\n",
       "    <tr>\n",
       "      <td>8</td>\n",
       "      <td>Запустить акцию, дающую скидку на товар в день рождения</td>\n",
       "      <td>1</td>\n",
       "      <td>9</td>\n",
       "      <td>9</td>\n",
       "      <td>5</td>\n",
       "    </tr>\n",
       "  </tbody>\n",
       "</table>\n",
       "</div>"
      ],
      "text/plain": [
       "                                                                                                     hypothesis  \\\n",
       "0  Добавить два новых канала привлечения трафика, что позволит привлекать на 30% больше пользователей             \n",
       "1  Запустить собственную службу доставки, что сократит срок доставки заказов                                      \n",
       "2  Добавить блоки рекомендаций товаров на сайт интернет магазина, чтобы повысить конверсию и средний чек заказа   \n",
       "3  Изменить структура категорий, что увеличит конверсию, т.к. пользователи быстрее найдут нужный товар            \n",
       "4  Изменить цвет фона главной страницы, чтобы увеличить вовлеченность пользователей                               \n",
       "5  Добавить страницу отзывов клиентов о магазине, что позволит увеличить количество заказов                       \n",
       "6  Показать на главной странице баннеры с актуальными акциями и распродажами, чтобы увеличить конверсию           \n",
       "7  Добавить форму подписки на все основные страницы, чтобы собрать базу клиентов для email-рассылок               \n",
       "8  Запустить акцию, дающую скидку на товар в день рождения                                                        \n",
       "\n",
       "   reach  impact  confidence  efforts  \n",
       "0  3      10      8           6        \n",
       "1  2      5       4           10       \n",
       "2  8      3       7           3        \n",
       "3  8      3       3           8        \n",
       "4  3      1       1           1        \n",
       "5  3      2       2           3        \n",
       "6  5      3       8           3        \n",
       "7  10     7       8           5        \n",
       "8  1      9       9           5        "
      ]
     },
     "metadata": {},
     "output_type": "display_data"
    }
   ],
   "source": [
    "display(hypothesis)"
   ]
  },
  {
   "cell_type": "markdown",
   "metadata": {},
   "source": [
    "### 4.1. Фреймворк ICE."
   ]
  },
  {
   "cell_type": "markdown",
   "metadata": {},
   "source": [
    "Приоритезируем гипотезы без учёта обхвата и отсортируем по убыванию приоритета."
   ]
  },
  {
   "cell_type": "code",
   "execution_count": 18,
   "metadata": {},
   "outputs": [
    {
     "data": {
      "text/html": [
       "<div>\n",
       "<style scoped>\n",
       "    .dataframe tbody tr th:only-of-type {\n",
       "        vertical-align: middle;\n",
       "    }\n",
       "\n",
       "    .dataframe tbody tr th {\n",
       "        vertical-align: top;\n",
       "    }\n",
       "\n",
       "    .dataframe thead th {\n",
       "        text-align: right;\n",
       "    }\n",
       "</style>\n",
       "<table border=\"1\" class=\"dataframe\">\n",
       "  <thead>\n",
       "    <tr style=\"text-align: right;\">\n",
       "      <th></th>\n",
       "      <th>hypothesis</th>\n",
       "      <th>ICE</th>\n",
       "    </tr>\n",
       "  </thead>\n",
       "  <tbody>\n",
       "    <tr>\n",
       "      <td>8</td>\n",
       "      <td>Запустить акцию, дающую скидку на товар в день рождения</td>\n",
       "      <td>16.200000</td>\n",
       "    </tr>\n",
       "    <tr>\n",
       "      <td>0</td>\n",
       "      <td>Добавить два новых канала привлечения трафика, что позволит привлекать на 30% больше пользователей</td>\n",
       "      <td>13.333333</td>\n",
       "    </tr>\n",
       "    <tr>\n",
       "      <td>7</td>\n",
       "      <td>Добавить форму подписки на все основные страницы, чтобы собрать базу клиентов для email-рассылок</td>\n",
       "      <td>11.200000</td>\n",
       "    </tr>\n",
       "    <tr>\n",
       "      <td>6</td>\n",
       "      <td>Показать на главной странице баннеры с актуальными акциями и распродажами, чтобы увеличить конверсию</td>\n",
       "      <td>8.000000</td>\n",
       "    </tr>\n",
       "    <tr>\n",
       "      <td>2</td>\n",
       "      <td>Добавить блоки рекомендаций товаров на сайт интернет магазина, чтобы повысить конверсию и средний чек заказа</td>\n",
       "      <td>7.000000</td>\n",
       "    </tr>\n",
       "    <tr>\n",
       "      <td>1</td>\n",
       "      <td>Запустить собственную службу доставки, что сократит срок доставки заказов</td>\n",
       "      <td>2.000000</td>\n",
       "    </tr>\n",
       "    <tr>\n",
       "      <td>5</td>\n",
       "      <td>Добавить страницу отзывов клиентов о магазине, что позволит увеличить количество заказов</td>\n",
       "      <td>1.333333</td>\n",
       "    </tr>\n",
       "    <tr>\n",
       "      <td>3</td>\n",
       "      <td>Изменить структура категорий, что увеличит конверсию, т.к. пользователи быстрее найдут нужный товар</td>\n",
       "      <td>1.125000</td>\n",
       "    </tr>\n",
       "    <tr>\n",
       "      <td>4</td>\n",
       "      <td>Изменить цвет фона главной страницы, чтобы увеличить вовлеченность пользователей</td>\n",
       "      <td>1.000000</td>\n",
       "    </tr>\n",
       "  </tbody>\n",
       "</table>\n",
       "</div>"
      ],
      "text/plain": [
       "                                                                                                     hypothesis  \\\n",
       "8  Запустить акцию, дающую скидку на товар в день рождения                                                        \n",
       "0  Добавить два новых канала привлечения трафика, что позволит привлекать на 30% больше пользователей             \n",
       "7  Добавить форму подписки на все основные страницы, чтобы собрать базу клиентов для email-рассылок               \n",
       "6  Показать на главной странице баннеры с актуальными акциями и распродажами, чтобы увеличить конверсию           \n",
       "2  Добавить блоки рекомендаций товаров на сайт интернет магазина, чтобы повысить конверсию и средний чек заказа   \n",
       "1  Запустить собственную службу доставки, что сократит срок доставки заказов                                      \n",
       "5  Добавить страницу отзывов клиентов о магазине, что позволит увеличить количество заказов                       \n",
       "3  Изменить структура категорий, что увеличит конверсию, т.к. пользователи быстрее найдут нужный товар            \n",
       "4  Изменить цвет фона главной страницы, чтобы увеличить вовлеченность пользователей                               \n",
       "\n",
       "         ICE  \n",
       "8  16.200000  \n",
       "0  13.333333  \n",
       "7  11.200000  \n",
       "6  8.000000   \n",
       "2  7.000000   \n",
       "1  2.000000   \n",
       "5  1.333333   \n",
       "3  1.125000   \n",
       "4  1.000000   "
      ]
     },
     "execution_count": 18,
     "metadata": {},
     "output_type": "execute_result"
    }
   ],
   "source": [
    "hypothesis['ICE'] = (hypothesis['impact'] * hypothesis['confidence']) / hypothesis['efforts']\n",
    "hypothesis[['hypothesis', 'ICE']].sort_values(by='ICE', ascending=False)"
   ]
  },
  {
   "cell_type": "markdown",
   "metadata": {},
   "source": [
    "### Вывод."
   ]
  },
  {
   "cell_type": "markdown",
   "metadata": {},
   "source": [
    "Можем выделить три наиболее перспективные гипотезы:\n",
    "\n",
    "    1. Запустить акцию, дающую скидку на товар в день рождения.\n",
    "    2. Добавить два новых канала привлечения трафика, что позволит привлекать на 30% больше пользователей.\n",
    "    3. Добавить форму подписки на все основные страницы, чтобы собрать базу клиентов для email-рассылок."
   ]
  },
  {
   "cell_type": "markdown",
   "metadata": {},
   "source": [
    "### 4.2. Фреймворк RICE."
   ]
  },
  {
   "cell_type": "markdown",
   "metadata": {},
   "source": [
    "Приоритезируем гипотезы с учётом обхвата и отсортируем по убыванию приоритета."
   ]
  },
  {
   "cell_type": "code",
   "execution_count": 19,
   "metadata": {},
   "outputs": [
    {
     "data": {
      "text/html": [
       "<div>\n",
       "<style scoped>\n",
       "    .dataframe tbody tr th:only-of-type {\n",
       "        vertical-align: middle;\n",
       "    }\n",
       "\n",
       "    .dataframe tbody tr th {\n",
       "        vertical-align: top;\n",
       "    }\n",
       "\n",
       "    .dataframe thead th {\n",
       "        text-align: right;\n",
       "    }\n",
       "</style>\n",
       "<table border=\"1\" class=\"dataframe\">\n",
       "  <thead>\n",
       "    <tr style=\"text-align: right;\">\n",
       "      <th></th>\n",
       "      <th>hypothesis</th>\n",
       "      <th>RICE</th>\n",
       "    </tr>\n",
       "  </thead>\n",
       "  <tbody>\n",
       "    <tr>\n",
       "      <td>7</td>\n",
       "      <td>Добавить форму подписки на все основные страницы, чтобы собрать базу клиентов для email-рассылок</td>\n",
       "      <td>112.0</td>\n",
       "    </tr>\n",
       "    <tr>\n",
       "      <td>2</td>\n",
       "      <td>Добавить блоки рекомендаций товаров на сайт интернет магазина, чтобы повысить конверсию и средний чек заказа</td>\n",
       "      <td>56.0</td>\n",
       "    </tr>\n",
       "    <tr>\n",
       "      <td>0</td>\n",
       "      <td>Добавить два новых канала привлечения трафика, что позволит привлекать на 30% больше пользователей</td>\n",
       "      <td>40.0</td>\n",
       "    </tr>\n",
       "    <tr>\n",
       "      <td>6</td>\n",
       "      <td>Показать на главной странице баннеры с актуальными акциями и распродажами, чтобы увеличить конверсию</td>\n",
       "      <td>40.0</td>\n",
       "    </tr>\n",
       "    <tr>\n",
       "      <td>8</td>\n",
       "      <td>Запустить акцию, дающую скидку на товар в день рождения</td>\n",
       "      <td>16.2</td>\n",
       "    </tr>\n",
       "    <tr>\n",
       "      <td>3</td>\n",
       "      <td>Изменить структура категорий, что увеличит конверсию, т.к. пользователи быстрее найдут нужный товар</td>\n",
       "      <td>9.0</td>\n",
       "    </tr>\n",
       "    <tr>\n",
       "      <td>1</td>\n",
       "      <td>Запустить собственную службу доставки, что сократит срок доставки заказов</td>\n",
       "      <td>4.0</td>\n",
       "    </tr>\n",
       "    <tr>\n",
       "      <td>5</td>\n",
       "      <td>Добавить страницу отзывов клиентов о магазине, что позволит увеличить количество заказов</td>\n",
       "      <td>4.0</td>\n",
       "    </tr>\n",
       "    <tr>\n",
       "      <td>4</td>\n",
       "      <td>Изменить цвет фона главной страницы, чтобы увеличить вовлеченность пользователей</td>\n",
       "      <td>3.0</td>\n",
       "    </tr>\n",
       "  </tbody>\n",
       "</table>\n",
       "</div>"
      ],
      "text/plain": [
       "                                                                                                     hypothesis  \\\n",
       "7  Добавить форму подписки на все основные страницы, чтобы собрать базу клиентов для email-рассылок               \n",
       "2  Добавить блоки рекомендаций товаров на сайт интернет магазина, чтобы повысить конверсию и средний чек заказа   \n",
       "0  Добавить два новых канала привлечения трафика, что позволит привлекать на 30% больше пользователей             \n",
       "6  Показать на главной странице баннеры с актуальными акциями и распродажами, чтобы увеличить конверсию           \n",
       "8  Запустить акцию, дающую скидку на товар в день рождения                                                        \n",
       "3  Изменить структура категорий, что увеличит конверсию, т.к. пользователи быстрее найдут нужный товар            \n",
       "1  Запустить собственную службу доставки, что сократит срок доставки заказов                                      \n",
       "5  Добавить страницу отзывов клиентов о магазине, что позволит увеличить количество заказов                       \n",
       "4  Изменить цвет фона главной страницы, чтобы увеличить вовлеченность пользователей                               \n",
       "\n",
       "    RICE  \n",
       "7  112.0  \n",
       "2  56.0   \n",
       "0  40.0   \n",
       "6  40.0   \n",
       "8  16.2   \n",
       "3  9.0    \n",
       "1  4.0    \n",
       "5  4.0    \n",
       "4  3.0    "
      ]
     },
     "execution_count": 19,
     "metadata": {},
     "output_type": "execute_result"
    }
   ],
   "source": [
    "hypothesis['RICE'] = (hypothesis['reach'] * hypothesis['impact'] * hypothesis['confidence']) / hypothesis['efforts']\n",
    "\n",
    "hypothesis[['hypothesis', 'RICE']].sort_values(by='RICE', ascending=False)"
   ]
  },
  {
   "cell_type": "markdown",
   "metadata": {},
   "source": [
    "### Вывод."
   ]
  },
  {
   "cell_type": "markdown",
   "metadata": {},
   "source": [
    "С учётом обхвата пользователей можно выделить 4 гипотезы (две из них набрали равное кол-во):\n",
    "\n",
    "    1. Добавить форму подписки на все основные страницы, чтобы собрать базу клиентов для email-рассылок.\n",
    "    2. Добавить блоки рекомендаций товаров на сайт интернет магазина, чтобы повысить конверсию и средний чек заказа.\n",
    "    3. Добавить два новых канала привлечения трафика, что позволит привлекать на 30% больше пользователей.\n",
    "    3. Показать на главной странице баннеры с актуальными акциями и распродажами, чтобы увеличить конверсии."
   ]
  },
  {
   "cell_type": "markdown",
   "metadata": {},
   "source": [
    "## Общий вывод."
   ]
  },
  {
   "cell_type": "markdown",
   "metadata": {},
   "source": [
    "В фреймворках ICE и RICE у нас встречаются две гипотезы:\n",
    "- Добавить форму подписки на все основные страницы, чтобы собрать базу клиентов для email-рассылок.\n",
    "- Добавить два новых канала привлечения трафика, что позволит привлекать на 30% больше пользователей.\n",
    "\n",
    "Однако лучше будет обратить внимание на приоритезацию с учётом обхвата пользователей, т.к. этот параметр важен при его наличии."
   ]
  },
  {
   "cell_type": "markdown",
   "metadata": {},
   "source": [
    "## 5. Анализ результатов A/B теста."
   ]
  },
  {
   "cell_type": "markdown",
   "metadata": {},
   "source": [
    "### 5.1. Кумулятивные метрики."
   ]
  },
  {
   "cell_type": "markdown",
   "metadata": {},
   "source": [
    "Построим графики:\n",
    "\n",
    "- Кумулятивной выручки, среднего чека, по группам. \n",
    "- Относительного изменения кумулятивного среднего чека группы B к группе A.\n",
    "- Кумулятивной конверсии по группам.\n",
    "- Относительного изменения кумулятивной конверсии группы B к группе A.\n",
    "\n",
    "Чтобы построить графики, нужно собрать кумулятивные данные. "
   ]
  },
  {
   "cell_type": "code",
   "execution_count": 20,
   "metadata": {},
   "outputs": [],
   "source": [
    "# уникальные пары значений дат и групп теста\n",
    "dates_groups = orders[['date','group']].drop_duplicates()"
   ]
  },
  {
   "cell_type": "code",
   "execution_count": 21,
   "metadata": {},
   "outputs": [],
   "source": [
    "# считаем количество и сумму покупок в день \n",
    "orders_daily = (orders.groupby(['date','group'], as_index=False)\n",
    "                .agg({'transaction_id': pd.Series.nunique, 'visitor_id' : pd.Series.nunique, 'revenue': 'sum'}))\n",
    "\n",
    "orders_daily.columns = ['date', 'group', 'orders_per_date', 'visitors_order_date', 'revenue_per_date']"
   ]
  },
  {
   "cell_type": "code",
   "execution_count": 22,
   "metadata": {},
   "outputs": [],
   "source": [
    "# агрегированные кумулятивные по дням данные о заказах\n",
    "orders_aggregated = (dates_groups.apply(lambda x: \n",
    "                                     orders[np.logical_and(orders['date'] <= x['date'], \n",
    "                                                           orders['group'] == x['group'])]\n",
    "                                      .agg({'date' : 'max', \n",
    "                                           'group' : 'max', \n",
    "                                           'transaction_id' : pd.Series.nunique, \n",
    "                                           'visitor_id' : pd.Series.nunique, \n",
    "                                           'revenue' : 'sum'}), axis=1)\n",
    "                    .sort_values(by=['date','group']))\n",
    "orders_aggregated.columns = ['date', 'group', 'orders_cumm', 'visitor_order_cumm','revenue_cumm']"
   ]
  },
  {
   "cell_type": "code",
   "execution_count": 23,
   "metadata": {},
   "outputs": [],
   "source": [
    "# агрегированные кумулятивные по дням данные о посетителях\n",
    "visitors_aggregated = (dates_groups.apply(lambda x: \n",
    "                                        visitors[np.logical_and(visitors['date'] <= x['date'], \n",
    "                                                                visitors['group'] == x['group'])]\n",
    "                                        .agg({'date' : 'max', \n",
    "                                              'group' : 'max', \n",
    "                                              'visitors' : 'sum'}), axis=1)\n",
    "                      .sort_values(by=['date','group']))\n",
    "visitors_aggregated.columns = ['date', 'group', 'visitors_cumm']"
   ]
  },
  {
   "cell_type": "code",
   "execution_count": 24,
   "metadata": {},
   "outputs": [],
   "source": [
    "# объединим данные в одной таблице\n",
    "data = (orders_daily\n",
    "        .merge(orders_aggregated,\n",
    "               left_on=['date', 'group'], \n",
    "               right_on=['date', 'group'])\n",
    "        .merge(visitors,\n",
    "              left_on=['date', 'group'], \n",
    "              right_on=['date', 'group'])\n",
    "        .merge(visitors_aggregated, \n",
    "              left_on=['date', 'group'], \n",
    "              right_on=['date', 'group'])\n",
    "       )"
   ]
  },
  {
   "cell_type": "code",
   "execution_count": 25,
   "metadata": {},
   "outputs": [],
   "source": [
    "# считаем конверсию по дням\n",
    "data['conversion'] = data['visitors_order_date']/data['visitors']\n",
    "\n",
    "# считаем кумулятивную конверсию\n",
    "data['conversion_cumm'] = data['visitor_order_cumm']/data['visitors_cumm']"
   ]
  },
  {
   "cell_type": "code",
   "execution_count": 26,
   "metadata": {},
   "outputs": [
    {
     "data": {
      "text/html": [
       "<div>\n",
       "<style scoped>\n",
       "    .dataframe tbody tr th:only-of-type {\n",
       "        vertical-align: middle;\n",
       "    }\n",
       "\n",
       "    .dataframe tbody tr th {\n",
       "        vertical-align: top;\n",
       "    }\n",
       "\n",
       "    .dataframe thead th {\n",
       "        text-align: right;\n",
       "    }\n",
       "</style>\n",
       "<table border=\"1\" class=\"dataframe\">\n",
       "  <thead>\n",
       "    <tr style=\"text-align: right;\">\n",
       "      <th></th>\n",
       "      <th>date</th>\n",
       "      <th>group</th>\n",
       "      <th>orders_per_date</th>\n",
       "      <th>visitors_order_date</th>\n",
       "      <th>revenue_per_date</th>\n",
       "      <th>orders_cumm</th>\n",
       "      <th>visitor_order_cumm</th>\n",
       "      <th>revenue_cumm</th>\n",
       "      <th>visitors</th>\n",
       "      <th>visitors_cumm</th>\n",
       "      <th>conversion</th>\n",
       "      <th>conversion_cumm</th>\n",
       "    </tr>\n",
       "  </thead>\n",
       "  <tbody>\n",
       "    <tr>\n",
       "      <td>0</td>\n",
       "      <td>2019-08-01</td>\n",
       "      <td>A</td>\n",
       "      <td>24</td>\n",
       "      <td>20</td>\n",
       "      <td>148579</td>\n",
       "      <td>24</td>\n",
       "      <td>20</td>\n",
       "      <td>148579</td>\n",
       "      <td>719</td>\n",
       "      <td>719</td>\n",
       "      <td>0.027816</td>\n",
       "      <td>0.027816</td>\n",
       "    </tr>\n",
       "    <tr>\n",
       "      <td>1</td>\n",
       "      <td>2019-08-01</td>\n",
       "      <td>B</td>\n",
       "      <td>21</td>\n",
       "      <td>20</td>\n",
       "      <td>101217</td>\n",
       "      <td>21</td>\n",
       "      <td>20</td>\n",
       "      <td>101217</td>\n",
       "      <td>713</td>\n",
       "      <td>713</td>\n",
       "      <td>0.028050</td>\n",
       "      <td>0.028050</td>\n",
       "    </tr>\n",
       "    <tr>\n",
       "      <td>2</td>\n",
       "      <td>2019-08-02</td>\n",
       "      <td>A</td>\n",
       "      <td>20</td>\n",
       "      <td>19</td>\n",
       "      <td>93822</td>\n",
       "      <td>44</td>\n",
       "      <td>38</td>\n",
       "      <td>242401</td>\n",
       "      <td>619</td>\n",
       "      <td>1338</td>\n",
       "      <td>0.030695</td>\n",
       "      <td>0.028401</td>\n",
       "    </tr>\n",
       "    <tr>\n",
       "      <td>3</td>\n",
       "      <td>2019-08-02</td>\n",
       "      <td>B</td>\n",
       "      <td>24</td>\n",
       "      <td>23</td>\n",
       "      <td>165531</td>\n",
       "      <td>45</td>\n",
       "      <td>43</td>\n",
       "      <td>266748</td>\n",
       "      <td>581</td>\n",
       "      <td>1294</td>\n",
       "      <td>0.039587</td>\n",
       "      <td>0.033230</td>\n",
       "    </tr>\n",
       "    <tr>\n",
       "      <td>4</td>\n",
       "      <td>2019-08-03</td>\n",
       "      <td>A</td>\n",
       "      <td>24</td>\n",
       "      <td>24</td>\n",
       "      <td>112473</td>\n",
       "      <td>68</td>\n",
       "      <td>62</td>\n",
       "      <td>354874</td>\n",
       "      <td>507</td>\n",
       "      <td>1845</td>\n",
       "      <td>0.047337</td>\n",
       "      <td>0.033604</td>\n",
       "    </tr>\n",
       "    <tr>\n",
       "      <td>5</td>\n",
       "      <td>2019-08-03</td>\n",
       "      <td>B</td>\n",
       "      <td>16</td>\n",
       "      <td>16</td>\n",
       "      <td>114248</td>\n",
       "      <td>61</td>\n",
       "      <td>59</td>\n",
       "      <td>380996</td>\n",
       "      <td>509</td>\n",
       "      <td>1803</td>\n",
       "      <td>0.031434</td>\n",
       "      <td>0.032723</td>\n",
       "    </tr>\n",
       "    <tr>\n",
       "      <td>6</td>\n",
       "      <td>2019-08-04</td>\n",
       "      <td>A</td>\n",
       "      <td>16</td>\n",
       "      <td>15</td>\n",
       "      <td>70825</td>\n",
       "      <td>84</td>\n",
       "      <td>77</td>\n",
       "      <td>425699</td>\n",
       "      <td>717</td>\n",
       "      <td>2562</td>\n",
       "      <td>0.020921</td>\n",
       "      <td>0.030055</td>\n",
       "    </tr>\n",
       "  </tbody>\n",
       "</table>\n",
       "</div>"
      ],
      "text/plain": [
       "        date group  orders_per_date  visitors_order_date  revenue_per_date  \\\n",
       "0 2019-08-01  A     24               20                   148579             \n",
       "1 2019-08-01  B     21               20                   101217             \n",
       "2 2019-08-02  A     20               19                   93822              \n",
       "3 2019-08-02  B     24               23                   165531             \n",
       "4 2019-08-03  A     24               24                   112473             \n",
       "5 2019-08-03  B     16               16                   114248             \n",
       "6 2019-08-04  A     16               15                   70825              \n",
       "\n",
       "   orders_cumm  visitor_order_cumm  revenue_cumm  visitors  visitors_cumm  \\\n",
       "0  24           20                  148579        719       719             \n",
       "1  21           20                  101217        713       713             \n",
       "2  44           38                  242401        619       1338            \n",
       "3  45           43                  266748        581       1294            \n",
       "4  68           62                  354874        507       1845            \n",
       "5  61           59                  380996        509       1803            \n",
       "6  84           77                  425699        717       2562            \n",
       "\n",
       "   conversion  conversion_cumm  \n",
       "0  0.027816    0.027816         \n",
       "1  0.028050    0.028050         \n",
       "2  0.030695    0.028401         \n",
       "3  0.039587    0.033230         \n",
       "4  0.047337    0.033604         \n",
       "5  0.031434    0.032723         \n",
       "6  0.020921    0.030055         "
      ]
     },
     "execution_count": 26,
     "metadata": {},
     "output_type": "execute_result"
    }
   ],
   "source": [
    "data.head(7)"
   ]
  },
  {
   "cell_type": "code",
   "execution_count": 27,
   "metadata": {},
   "outputs": [],
   "source": [
    "# данные по группе A\n",
    "data_a = data[data['group']=='A']\n",
    "\n",
    "# данные по группе B\n",
    "data_b = data[data['group']=='B']"
   ]
  },
  {
   "cell_type": "markdown",
   "metadata": {},
   "source": [
    "Данные готовы, можно строить графики."
   ]
  },
  {
   "cell_type": "markdown",
   "metadata": {},
   "source": [
    "#### 5.1.1. Кумулятивная выручка по группам."
   ]
  },
  {
   "cell_type": "code",
   "execution_count": 28,
   "metadata": {},
   "outputs": [
    {
     "data": {
      "image/png": "[encoded data removed]",
      "text/plain": [
       "<Figure size 864x432 with 1 Axes>"
      ]
     },
     "metadata": {
      "needs_background": "light"
     },
     "output_type": "display_data"
    }
   ],
   "source": [
    "plt.figure(figsize=(12, 6))\n",
    "sns.set_style(\"dark\")\n",
    "\n",
    "sns.lineplot(data=data_a, x='date', y='revenue_cumm', label='A')\n",
    "sns.lineplot(data=data_b, x='date', y='revenue_cumm', label='B')\n",
    "\n",
    "plt.title('Кумулятивная выручка по группам')\n",
    "plt.grid(True)\n",
    "plt.show()"
   ]
  },
  {
   "cell_type": "markdown",
   "metadata": {},
   "source": [
    "#### Вывод."
   ]
  },
  {
   "cell_type": "markdown",
   "metadata": {},
   "source": [
    "В целом куммулятивная выручка группы **\"B\"** держалась выше группы **\"A\"**, что и видно на графике. За исключением начала теста и 13 дня, где куммулятивная выручка обоих групп приблизительно равна.\n",
    "\n",
    "А по итогу данных теста куммулятивная выручка группы **\"B\"** заметно больше (почти на 2млн) группы **\"A\"**. \n",
    "\n",
    "Стоит отметить большой скачёк в группе **\"B\"** 19-08-2019 - возможно очень большой заказ, либо пришло много клиентов."
   ]
  },
  {
   "cell_type": "markdown",
   "metadata": {},
   "source": [
    "#### 5.1.2. Кумулятивный средний чек по группам."
   ]
  },
  {
   "cell_type": "code",
   "execution_count": 29,
   "metadata": {},
   "outputs": [
    {
     "data": {
      "image/png": "[encoded data removed]",
      "text/plain": [
       "<Figure size 864x432 with 1 Axes>"
      ]
     },
     "metadata": {},
     "output_type": "display_data"
    }
   ],
   "source": [
    "plt.figure(figsize=(12, 6))\n",
    "sns.set_style(\"dark\")\n",
    "\n",
    "sns.lineplot(data=data_a, x='date', \n",
    "             y=data_a['revenue_cumm']/data_a['orders_cumm'], label='A')\n",
    "sns.lineplot(data=data_b, x='date', \n",
    "             y=data_b['revenue_cumm']/data_b['orders_cumm'], label='B')\n",
    "\n",
    "plt.title('Кумулятивный средний чек по группам')\n",
    "plt.grid(True)\n",
    "plt.show()"
   ]
  },
  {
   "cell_type": "markdown",
   "metadata": {},
   "source": [
    "#### Вывод."
   ]
  },
  {
   "cell_type": "markdown",
   "metadata": {},
   "source": [
    "Средний чек к концу конечно выравнивается и становится более равномерным, а вот 19-08-2019 в группе **\"B\"** всё-таки очень большой заказ был, возможно несколько, т.к. видно как средний чек подскочил в эту дату."
   ]
  },
  {
   "cell_type": "markdown",
   "metadata": {},
   "source": [
    "#### 5.1.3. Относительное изменение кумулятивного среднего чека B к A."
   ]
  },
  {
   "cell_type": "code",
   "execution_count": 30,
   "metadata": {},
   "outputs": [],
   "source": [
    "merged_cumulative = data_a.merge(data_b, \n",
    "                                 left_on='date', \n",
    "                                 right_on='date', \n",
    "                                 how='left', \n",
    "                                 suffixes=['A', 'B'])"
   ]
  },
  {
   "cell_type": "code",
   "execution_count": 31,
   "metadata": {},
   "outputs": [
    {
     "data": {
      "image/png": "[encoded data removed]",
      "text/plain": [
       "<Figure size 864x432 with 1 Axes>"
      ]
     },
     "metadata": {},
     "output_type": "display_data"
    }
   ],
   "source": [
    "plt.figure(figsize=(12, 6))\n",
    "sns.set_style(\"dark\")\n",
    "\n",
    "sns.lineplot(data=merged_cumulative, x='date', \n",
    "             y=(merged_cumulative['revenue_cummB']/merged_cumulative['orders_cummB'])\n",
    "         /(merged_cumulative['revenue_cummA']/merged_cumulative['orders_cummA'])-1)\n",
    "\n",
    "plt.title('Относительное изменение кумулятивного среднего чека группы \"B\" к \"A\"')\n",
    "plt.axhline(y=0, color='red', linestyle='--')\n",
    "plt.grid(True)\n",
    "plt.show()"
   ]
  },
  {
   "cell_type": "markdown",
   "metadata": {},
   "source": [
    "#### Вывод."
   ]
  },
  {
   "cell_type": "markdown",
   "metadata": {},
   "source": [
    "В группе **\"B\"** явно есть выбросы. Но всё же относительно группы **\"A\"** группа **\"B\"** показывает себя лучше, по среднему чеку."
   ]
  },
  {
   "cell_type": "markdown",
   "metadata": {},
   "source": [
    "#### 5.1.4. Кумулятивная конверсия по группам."
   ]
  },
  {
   "cell_type": "code",
   "execution_count": 32,
   "metadata": {},
   "outputs": [
    {
     "data": {
      "image/png": "[encoded data removed]",
      "text/plain": [
       "<Figure size 864x432 with 1 Axes>"
      ]
     },
     "metadata": {},
     "output_type": "display_data"
    }
   ],
   "source": [
    "plt.figure(figsize=(12, 6))\n",
    "sns.set_style(\"dark\")\n",
    "\n",
    "sns.lineplot(data=data_a, x='date', \n",
    "             y=data_a['conversion_cumm'], label='A')\n",
    "sns.lineplot(data=data_b, x='date', \n",
    "             y=data_b['conversion_cumm'], label='B')\n",
    "\n",
    "plt.title('Кумулятивная конверсия по группам')\n",
    "plt.grid(True)\n",
    "plt.show()"
   ]
  },
  {
   "cell_type": "markdown",
   "metadata": {},
   "source": [
    "#### Вывод."
   ]
  },
  {
   "cell_type": "markdown",
   "metadata": {},
   "source": [
    "В целом конверсия начинает стабилизироваться у обеих групп, есть заметные всплески в группе **\"B\"**, однако в целом конверсия держится выше группы **\"A\"**."
   ]
  },
  {
   "cell_type": "markdown",
   "metadata": {},
   "source": [
    "#### 5.1.5. Относительное изменение кумулятивной конверсии B к A."
   ]
  },
  {
   "cell_type": "code",
   "execution_count": 33,
   "metadata": {},
   "outputs": [
    {
     "data": {
      "image/png": "[encoded data removed]",
      "text/plain": [
       "<Figure size 864x432 with 1 Axes>"
      ]
     },
     "metadata": {},
     "output_type": "display_data"
    }
   ],
   "source": [
    "plt.figure(figsize=(12, 6))\n",
    "sns.set_style(\"dark\")\n",
    "\n",
    "sns.lineplot(data=merged_cumulative, x='date', \n",
    "             y=merged_cumulative['conversion_cummB']/merged_cumulative['conversion_cummA']-1)\n",
    "\n",
    "plt.title('Относительное изменение кумулятивнй конверсии группы \"B\" к \"A\"')\n",
    "plt.axhline(y=0, color='red', linestyle='--')\n",
    "plt.grid(True)\n",
    "plt.show()"
   ]
  },
  {
   "cell_type": "markdown",
   "metadata": {},
   "source": [
    "#### Вывод."
   ]
  },
  {
   "cell_type": "markdown",
   "metadata": {},
   "source": [
    "Только с 03-08-2019 по 05-08-2019 конверсия группы **\"B\"** была ниже конверсии группы **\"A\"**. В остальных случаях она держится выше."
   ]
  },
  {
   "cell_type": "markdown",
   "metadata": {},
   "source": [
    "### 5.2. Анализ выбросов и всплесков."
   ]
  },
  {
   "cell_type": "markdown",
   "metadata": {},
   "source": [
    "Выбросы бывают как и в стоимости заказов, так и в конверсии (на что влияет количество заказов от каждого пользователя). По просмотренным метрикам мы уже выяснили что они есть. Посмотрим как сильно это влияет на результат."
   ]
  },
  {
   "cell_type": "markdown",
   "metadata": {},
   "source": [
    "#### 5.2.1. Определение аномальных заказов."
   ]
  },
  {
   "cell_type": "markdown",
   "metadata": {},
   "source": [
    "Заказы бывают разные по стоимости, от аномально больших, до слишком маленьких. Посмотрим на последние 10 заказов в нашей таблице."
   ]
  },
  {
   "cell_type": "code",
   "execution_count": 34,
   "metadata": {
    "scrolled": true
   },
   "outputs": [
    {
     "data": {
      "text/html": [
       "<div>\n",
       "<style scoped>\n",
       "    .dataframe tbody tr th:only-of-type {\n",
       "        vertical-align: middle;\n",
       "    }\n",
       "\n",
       "    .dataframe tbody tr th {\n",
       "        vertical-align: top;\n",
       "    }\n",
       "\n",
       "    .dataframe thead th {\n",
       "        text-align: right;\n",
       "    }\n",
       "</style>\n",
       "<table border=\"1\" class=\"dataframe\">\n",
       "  <thead>\n",
       "    <tr style=\"text-align: right;\">\n",
       "      <th></th>\n",
       "      <th>transaction_id</th>\n",
       "      <th>visitor_id</th>\n",
       "      <th>date</th>\n",
       "      <th>revenue</th>\n",
       "      <th>group</th>\n",
       "    </tr>\n",
       "  </thead>\n",
       "  <tbody>\n",
       "    <tr>\n",
       "      <td>1187</td>\n",
       "      <td>2274188238</td>\n",
       "      <td>132143192</td>\n",
       "      <td>2019-08-14</td>\n",
       "      <td>750</td>\n",
       "      <td>A</td>\n",
       "    </tr>\n",
       "    <tr>\n",
       "      <td>1188</td>\n",
       "      <td>1692103379</td>\n",
       "      <td>1022829655</td>\n",
       "      <td>2019-08-14</td>\n",
       "      <td>112</td>\n",
       "      <td>A</td>\n",
       "    </tr>\n",
       "    <tr>\n",
       "      <td>1189</td>\n",
       "      <td>4082620617</td>\n",
       "      <td>393266494</td>\n",
       "      <td>2019-08-14</td>\n",
       "      <td>31550</td>\n",
       "      <td>B</td>\n",
       "    </tr>\n",
       "    <tr>\n",
       "      <td>1190</td>\n",
       "      <td>38478481</td>\n",
       "      <td>1197745035</td>\n",
       "      <td>2019-08-14</td>\n",
       "      <td>8600</td>\n",
       "      <td>B</td>\n",
       "    </tr>\n",
       "    <tr>\n",
       "      <td>1191</td>\n",
       "      <td>3592955527</td>\n",
       "      <td>608641596</td>\n",
       "      <td>2019-08-14</td>\n",
       "      <td>16490</td>\n",
       "      <td>B</td>\n",
       "    </tr>\n",
       "    <tr>\n",
       "      <td>1192</td>\n",
       "      <td>2662137336</td>\n",
       "      <td>3733762160</td>\n",
       "      <td>2019-08-14</td>\n",
       "      <td>6490</td>\n",
       "      <td>B</td>\n",
       "    </tr>\n",
       "    <tr>\n",
       "      <td>1193</td>\n",
       "      <td>2203539145</td>\n",
       "      <td>370388673</td>\n",
       "      <td>2019-08-14</td>\n",
       "      <td>3190</td>\n",
       "      <td>A</td>\n",
       "    </tr>\n",
       "    <tr>\n",
       "      <td>1194</td>\n",
       "      <td>1807773912</td>\n",
       "      <td>573423106</td>\n",
       "      <td>2019-08-14</td>\n",
       "      <td>10550</td>\n",
       "      <td>A</td>\n",
       "    </tr>\n",
       "    <tr>\n",
       "      <td>1195</td>\n",
       "      <td>1947021204</td>\n",
       "      <td>1614305549</td>\n",
       "      <td>2019-08-14</td>\n",
       "      <td>100</td>\n",
       "      <td>A</td>\n",
       "    </tr>\n",
       "    <tr>\n",
       "      <td>1196</td>\n",
       "      <td>3936777065</td>\n",
       "      <td>2108080724</td>\n",
       "      <td>2019-08-15</td>\n",
       "      <td>202740</td>\n",
       "      <td>B</td>\n",
       "    </tr>\n",
       "  </tbody>\n",
       "</table>\n",
       "</div>"
      ],
      "text/plain": [
       "      transaction_id  visitor_id       date  revenue group\n",
       "1187  2274188238      132143192  2019-08-14  750      A   \n",
       "1188  1692103379      1022829655 2019-08-14  112      A   \n",
       "1189  4082620617      393266494  2019-08-14  31550    B   \n",
       "1190  38478481        1197745035 2019-08-14  8600     B   \n",
       "1191  3592955527      608641596  2019-08-14  16490    B   \n",
       "1192  2662137336      3733762160 2019-08-14  6490     B   \n",
       "1193  2203539145      370388673  2019-08-14  3190     A   \n",
       "1194  1807773912      573423106  2019-08-14  10550    A   \n",
       "1195  1947021204      1614305549 2019-08-14  100      A   \n",
       "1196  3936777065      2108080724 2019-08-15  202740   B   "
      ]
     },
     "execution_count": 34,
     "metadata": {},
     "output_type": "execute_result"
    }
   ],
   "source": [
    "orders.tail(10)"
   ]
  },
  {
   "cell_type": "markdown",
   "metadata": {},
   "source": [
    "Вот это разброс, от 100 до 202_740. И это только мы смотрим на последние 10 заказов в выборке.\n",
    "\n",
    "Посмотрим на распределение выручки по количеству заказов."
   ]
  },
  {
   "cell_type": "code",
   "execution_count": 35,
   "metadata": {},
   "outputs": [
    {
     "data": {
      "image/png": "[encoded data removed]",
      "text/plain": [
       "<Figure size 864x432 with 1 Axes>"
      ]
     },
     "metadata": {},
     "output_type": "display_data"
    }
   ],
   "source": [
    "orders['revenue'].hist(bins=100, figsize=(12,6))\n",
    "plt.title('Распределение по выручке с заказа')\n",
    "plt.xlabel('Стоимость')\n",
    "plt.ylabel('Количество')\n",
    "plt.grid(True)\n",
    "plt.show()"
   ]
  },
  {
   "cell_type": "markdown",
   "metadata": {},
   "source": [
    "Большинство заказов имеют небольшую выручку. Но есть и очень большие заказы.\n",
    "\n",
    "Выделим каждый заказ по отдельности и посмотрим на плотность от стоимости заказа и сразу разделим на группы."
   ]
  },
  {
   "cell_type": "code",
   "execution_count": 36,
   "metadata": {},
   "outputs": [
    {
     "data": {
      "image/png": "[encoded data removed]",
      "text/plain": [
       "<Figure size 864x432 with 1 Axes>"
      ]
     },
     "metadata": {},
     "output_type": "display_data"
    }
   ],
   "source": [
    "plt.figure(figsize=(12, 6))\n",
    "sns.set_style(\"dark\")\n",
    "\n",
    "sns.scatterplot(data=orders, x='revenue', y='transaction_id', hue='group')\n",
    "\n",
    "plt.title('Разброс заказов по выручке')\n",
    "plt.grid(True)\n",
    "plt.show()"
   ]
  },
  {
   "cell_type": "markdown",
   "metadata": {},
   "source": [
    "Видно что в группе **\"B\"** есть два заказа сильно отличающиеся от выборки (200 и более 1_200 тысяч). \n",
    "\n",
    "Но и в целом в районе 100 тысяч есть заказы, как в группе **\"A\"**, так и в группе **\"B\"**, что тоже отличается от общей выборки.\n",
    "\n",
    "Т.к. мы анализируем продажи крупного интернет-магазина, то возможно в этих заказах либо были проданы дорогие вещи, либо же очень большое количество. В любом случае таких заказов не много и нам нужно определить границу анамально больших заказов и убрать их из выборки.\n",
    "\n",
    "Посмотрим на 95-й и 99-й перцентили стоимости заказов."
   ]
  },
  {
   "cell_type": "code",
   "execution_count": 37,
   "metadata": {},
   "outputs": [
    {
     "data": {
      "text/plain": [
       "array([28000. , 58233.2])"
      ]
     },
     "execution_count": 37,
     "metadata": {},
     "output_type": "execute_result"
    }
   ],
   "source": [
    "np.percentile(orders['revenue'], [95, 99])"
   ]
  },
  {
   "cell_type": "markdown",
   "metadata": {},
   "source": [
    "Не более 5% дороже 28000, и не более 1% дороже 58233.2. \n",
    "\n",
    "Для определения границы аномальных пользователей. Построим график и нанесём туда границу в 95%, для большей наглядности уберём с графика 2 явных \"выброса\"."
   ]
  },
  {
   "cell_type": "code",
   "execution_count": 38,
   "metadata": {},
   "outputs": [
    {
     "data": {
      "image/png": "[encoded data removed]",
      "text/plain": [
       "<Figure size 864x432 with 1 Axes>"
      ]
     },
     "metadata": {},
     "output_type": "display_data"
    }
   ],
   "source": [
    "plt.figure(figsize=(12, 6))\n",
    "sns.set_style(\"dark\")\n",
    "\n",
    "sns.scatterplot(data=orders.query('revenue < 200000'), x='revenue', y='transaction_id', hue='group')\n",
    "plt.axvline(x=28000, color='red', linestyle='--')\n",
    "\n",
    "plt.title('Разброс заказов по выручке')\n",
    "plt.grid(True)\n",
    "plt.show()"
   ]
  },
  {
   "cell_type": "markdown",
   "metadata": {},
   "source": [
    "#### Вывод."
   ]
  },
  {
   "cell_type": "markdown",
   "metadata": {},
   "source": [
    "Можно нашу выборку ограничить 95% диапазоном (28_000)."
   ]
  },
  {
   "cell_type": "markdown",
   "metadata": {},
   "source": [
    "#### 5.2.2. Определение аномальных пользователей. "
   ]
  },
  {
   "cell_type": "markdown",
   "metadata": {},
   "source": [
    "Посчитаем количество заказов по пользователям."
   ]
  },
  {
   "cell_type": "code",
   "execution_count": 39,
   "metadata": {},
   "outputs": [
    {
     "data": {
      "text/html": [
       "<div>\n",
       "<style scoped>\n",
       "    .dataframe tbody tr th:only-of-type {\n",
       "        vertical-align: middle;\n",
       "    }\n",
       "\n",
       "    .dataframe tbody tr th {\n",
       "        vertical-align: top;\n",
       "    }\n",
       "\n",
       "    .dataframe thead th {\n",
       "        text-align: right;\n",
       "    }\n",
       "</style>\n",
       "<table border=\"1\" class=\"dataframe\">\n",
       "  <thead>\n",
       "    <tr style=\"text-align: right;\">\n",
       "      <th></th>\n",
       "      <th>visitor_id</th>\n",
       "      <th>orders</th>\n",
       "    </tr>\n",
       "  </thead>\n",
       "  <tbody>\n",
       "    <tr>\n",
       "      <td>1023</td>\n",
       "      <td>4256040402</td>\n",
       "      <td>11</td>\n",
       "    </tr>\n",
       "    <tr>\n",
       "      <td>591</td>\n",
       "      <td>2458001652</td>\n",
       "      <td>11</td>\n",
       "    </tr>\n",
       "    <tr>\n",
       "      <td>569</td>\n",
       "      <td>2378935119</td>\n",
       "      <td>9</td>\n",
       "    </tr>\n",
       "    <tr>\n",
       "      <td>487</td>\n",
       "      <td>2038680547</td>\n",
       "      <td>8</td>\n",
       "    </tr>\n",
       "    <tr>\n",
       "      <td>44</td>\n",
       "      <td>199603092</td>\n",
       "      <td>5</td>\n",
       "    </tr>\n",
       "    <tr>\n",
       "      <td>744</td>\n",
       "      <td>3062433592</td>\n",
       "      <td>5</td>\n",
       "    </tr>\n",
       "    <tr>\n",
       "      <td>55</td>\n",
       "      <td>237748145</td>\n",
       "      <td>5</td>\n",
       "    </tr>\n",
       "    <tr>\n",
       "      <td>917</td>\n",
       "      <td>3803269165</td>\n",
       "      <td>5</td>\n",
       "    </tr>\n",
       "    <tr>\n",
       "      <td>299</td>\n",
       "      <td>1230306981</td>\n",
       "      <td>5</td>\n",
       "    </tr>\n",
       "    <tr>\n",
       "      <td>897</td>\n",
       "      <td>3717692402</td>\n",
       "      <td>5</td>\n",
       "    </tr>\n",
       "  </tbody>\n",
       "</table>\n",
       "</div>"
      ],
      "text/plain": [
       "      visitor_id  orders\n",
       "1023  4256040402  11    \n",
       "591   2458001652  11    \n",
       "569   2378935119  9     \n",
       "487   2038680547  8     \n",
       "44    199603092   5     \n",
       "744   3062433592  5     \n",
       "55    237748145   5     \n",
       "917   3803269165  5     \n",
       "299   1230306981  5     \n",
       "897   3717692402  5     "
      ]
     },
     "execution_count": 39,
     "metadata": {},
     "output_type": "execute_result"
    }
   ],
   "source": [
    "orders_by_users = orders.groupby('visitor_id')['transaction_id'].count().reset_index()\n",
    "orders_by_users.columns = ['visitor_id', 'orders']\n",
    "\n",
    "orders_by_users.sort_values(by='orders', ascending=False).head(10)"
   ]
  },
  {
   "cell_type": "markdown",
   "metadata": {},
   "source": [
    "Есть пользователи которые совершили 11 заказов, но первая десятка замыкает 5 заказми.\n",
    "\n",
    "Посмотрим на распределение количества заказов на одного пользователя."
   ]
  },
  {
   "cell_type": "code",
   "execution_count": 40,
   "metadata": {},
   "outputs": [
    {
     "data": {
      "image/png": "[encoded data removed]",
      "text/plain": [
       "<Figure size 864x432 with 1 Axes>"
      ]
     },
     "metadata": {},
     "output_type": "display_data"
    }
   ],
   "source": [
    "orders_by_users['orders'].hist(bins=11, figsize=(12,6))\n",
    "plt.title('Распределение количества заказов на одного пользователя')\n",
    "plt.xlabel('Количество заказов')\n",
    "plt.ylabel('Количество пользователей')\n",
    "plt.grid(True)\n",
    "plt.show()"
   ]
  },
  {
   "cell_type": "markdown",
   "metadata": {},
   "source": [
    "В основном каждый пользователе делает 1 заказ, но доля с 2-3 заказми тоже значительна, есть те кто делает и больше заказов, около 5.\n",
    "\n",
    "Построим точечную диаграмму числа заказов на одного пользователя."
   ]
  },
  {
   "cell_type": "code",
   "execution_count": 41,
   "metadata": {},
   "outputs": [
    {
     "data": {
      "image/png": "[encoded data removed]",
      "text/plain": [
       "<Figure size 864x432 with 1 Axes>"
      ]
     },
     "metadata": {},
     "output_type": "display_data"
    }
   ],
   "source": [
    "plt.figure(figsize=(12, 6))\n",
    "sns.set_style(\"dark\")\n",
    "\n",
    "sns.scatterplot(data=orders_by_users, y='orders', x='visitor_id')\n",
    "\n",
    "plt.title('Число заказов на одного пользователя')\n",
    "plt.ylabel('Количество заказов')\n",
    "plt.grid(True)\n",
    "plt.show()"
   ]
  },
  {
   "cell_type": "markdown",
   "metadata": {},
   "source": [
    "Много пользователей с 2 заказми, с 3 уже значительно меньше.\n",
    "\n",
    "Посмотрим на 95-ый и 99-ый перцентили."
   ]
  },
  {
   "cell_type": "code",
   "execution_count": 42,
   "metadata": {},
   "outputs": [
    {
     "data": {
      "text/plain": [
       "array([2., 4.])"
      ]
     },
     "execution_count": 42,
     "metadata": {},
     "output_type": "execute_result"
    }
   ],
   "source": [
    "np.percentile(orders_by_users['orders'], [95, 99])"
   ]
  },
  {
   "cell_type": "markdown",
   "metadata": {},
   "source": [
    "#### Вывод."
   ]
  },
  {
   "cell_type": "markdown",
   "metadata": {},
   "source": [
    "Тоже ограничимся 95% диапазоном (2  заказа)."
   ]
  },
  {
   "cell_type": "markdown",
   "metadata": {},
   "source": [
    "### 5.3. Статистическая значимость."
   ]
  },
  {
   "cell_type": "markdown",
   "metadata": {},
   "source": [
    "Посчитаем статистическую значимость различий для конверсии и среднего чека между группами по \"сырым\" и \"очищенным\" данным.\n",
    "\n",
    "Уровень значимости примем по умолчанию - 0.05."
   ]
  },
  {
   "cell_type": "markdown",
   "metadata": {},
   "source": [
    "#### 5.3.1. Для конверсии."
   ]
  },
  {
   "cell_type": "markdown",
   "metadata": {},
   "source": [
    "Нулевая гипотеза - конверсии равны.\n",
    "\n",
    "Альтернативная - конверсии отличаются."
   ]
  },
  {
   "cell_type": "code",
   "execution_count": 43,
   "metadata": {},
   "outputs": [],
   "source": [
    "# для пользователей из разных групп, которые заказывали хотя бы 1 раз, укажем число совершённых заказов\n",
    "\n",
    "# группа A\n",
    "orders_by_visitors_a = (orders[orders['group'] == 'A']\n",
    "                        .groupby('visitor_id', as_index=False)\n",
    "                                 .agg({'transaction_id': pd.Series.nunique}))\n",
    "orders_by_visitors_a.columns = ['visitor_id', 'orders']\n",
    "\n",
    "# группа B\n",
    "orders_by_visitors_b = (orders[orders['group'] == 'B']\n",
    "                        .groupby('visitor_id', as_index=False)\n",
    "                        .agg({'transaction_id': pd.Series.nunique}))\n",
    "orders_by_visitors_b.columns = ['visitor_id', 'orders']"
   ]
  },
  {
   "cell_type": "markdown",
   "metadata": {},
   "source": [
    "Выведем относительный прирост конверсии группы B:"
   ]
  },
  {
   "cell_type": "code",
   "execution_count": 44,
   "metadata": {},
   "outputs": [],
   "source": [
    "# сырые данные\n",
    "\n",
    "# создаём выборки количества заказов по пользователям по группам теста\n",
    "sample_a = pd.concat([orders_by_visitors_a['orders'],\n",
    "                     pd.Series(0, index=np.arange(\n",
    "                         data_a['visitors'].sum() - len(orders_by_visitors_a['orders'])),\n",
    "                               name='orders')], axis=0)\n",
    "\n",
    "sample_b = pd.concat([orders_by_visitors_b['orders'],\n",
    "                     pd.Series(0,index=np.arange(\n",
    "                         data_b['visitors'].sum() - len(orders_by_visitors_b['orders'])),\n",
    "                               name='orders')], axis=0)"
   ]
  },
  {
   "cell_type": "code",
   "execution_count": 45,
   "metadata": {},
   "outputs": [],
   "source": [
    "# очищенные данные\n",
    "\n",
    "# узнаем аномальных пользователей\n",
    "visitors_with_many_orders = pd.concat(\n",
    "    [orders_by_visitors_a[orders_by_visitors_a['orders'] > 2]['visitor_id'],\n",
    "     orders_by_visitors_b[orders_by_visitors_b['orders'] > 2]['visitor_id']],\n",
    "    axis=0)\n",
    "\n",
    "visitors_with_expensive_orders = orders[orders['revenue'] > 28000]['visitor_id']\n",
    "a_b_normal_visitors = (pd.concat(\n",
    "    [visitors_with_many_orders, visitors_with_expensive_orders], axis=0)\n",
    "                       .drop_duplicates()\n",
    "                       .sort_values())\n",
    "\n",
    "# создаём выборки количества заказов по пользователям по группам теста с очищенными данными\n",
    "sample_a_filtered = (pd.concat(\n",
    "    [orders_by_visitors_a[np.logical_not(orders_by_visitors_a['visitor_id']\n",
    "                                   .isin(a_b_normal_visitors))]['orders'],\n",
    "     pd.Series(0,index=np.arange(\n",
    "         data_a['visitors'].sum() - len(orders_by_visitors_a['orders'])), \n",
    "               name='orders')], axis=0))\n",
    "\n",
    "sample_b_filtered = (pd.concat(\n",
    "    [orders_by_visitors_b[np.logical_not(orders_by_visitors_b['visitor_id']\n",
    "                                   .isin(a_b_normal_visitors))]['orders'],\n",
    "        pd.Series(0,index=np.arange(\n",
    "                data_b['visitors'].sum() - len(orders_by_visitors_b['orders'])), \n",
    "                  name='orders')], axis=0))"
   ]
  },
  {
   "cell_type": "code",
   "execution_count": 46,
   "metadata": {},
   "outputs": [
    {
     "name": "stdout",
     "output_type": "stream",
     "text": [
      "P-value конверсии по \"сырым\" данным: 0.008\n",
      "Относительный прирост конверсии по \"сырым\" данным: 0.138\n"
     ]
    }
   ],
   "source": [
    "print('P-value конверсии по \"сырым\" данным: {0:.3f}'.format(stats.mannwhitneyu(sample_a, sample_b)[1]))\n",
    "\n",
    "print('Относительный прирост конверсии по \"сырым\" данным: {0:.3f}'.format(sample_b.mean() / sample_a.mean() - 1))"
   ]
  },
  {
   "cell_type": "code",
   "execution_count": 47,
   "metadata": {},
   "outputs": [
    {
     "name": "stdout",
     "output_type": "stream",
     "text": [
      "P-value конверсии по \"очищенным\" данным: 0.007\n",
      "Относительный прирост конверсии по \"очищенным\" данным: 0.173\n"
     ]
    }
   ],
   "source": [
    "print('P-value конверсии по \"очищенным\" данным: {0:.3f}'.format(stats.mannwhitneyu(\n",
    "    sample_a_filtered, sample_b_filtered)[1]))\n",
    "\n",
    "print('Относительный прирост конверсии по \"очищенным\" данным: {0:.3f}'.format(\n",
    "    sample_b_filtered.mean() / sample_a_filtered.mean() - 1))"
   ]
  },
  {
   "cell_type": "markdown",
   "metadata": {},
   "source": [
    "#### Вывод."
   ]
  },
  {
   "cell_type": "markdown",
   "metadata": {},
   "source": [
    "И по \"сырым\" и по \"очищенным\" данным P-value значительно меньше 0.05 - нулевую гипотезу отвергаем. Значит в конверсии между группами есть статистически значимые различия.\n",
    " \n",
    " По \"сырым\" данным относительный прирост конверсии группы **\"B\"** к группе **\"A\"** = *13.8%*.\n",
    " \n",
    " По \"очищенным\" = *17.3%*."
   ]
  },
  {
   "cell_type": "markdown",
   "metadata": {},
   "source": [
    "#### 5.3.2. Для среднего чека."
   ]
  },
  {
   "cell_type": "markdown",
   "metadata": {},
   "source": [
    "Нулевая гипотеза - средний чек между группами одинаковый.\n",
    "\n",
    "Альтернативная - средний чек между группами отличается."
   ]
  },
  {
   "cell_type": "code",
   "execution_count": 48,
   "metadata": {},
   "outputs": [
    {
     "name": "stdout",
     "output_type": "stream",
     "text": [
      "P-value среднего чека по \"сырым\" данным: 0.365\n",
      "Относительные различия в среднем чеке между группами по \"сырым\" данным: 0.259\n"
     ]
    }
   ],
   "source": [
    "print('P-value среднего чека по \"сырым\" данным: {0:.3f}'.format(stats.mannwhitneyu(\n",
    "    orders[orders['group']=='A']['revenue'], \n",
    "    orders[orders['group']=='B']['revenue'])[1]))\n",
    "\n",
    "print('Относительные различия в среднем чеке между группами по \"сырым\" данным: {0:.3f}'.format(\n",
    "    orders[orders['group']=='B']['revenue'].mean()/orders[orders['group']=='A']['revenue']\n",
    "    .mean()-1))"
   ]
  },
  {
   "cell_type": "code",
   "execution_count": 49,
   "metadata": {},
   "outputs": [
    {
     "name": "stdout",
     "output_type": "stream",
     "text": [
      "P-value среднего чека по \"очищенным\" данным: 0.369\n",
      "Относительные различия в среднем чеке между группами по \"очищенным\" данным: -0.020\n"
     ]
    }
   ],
   "source": [
    "print('P-value среднего чека по \"очищенным\" данным: {0:.3f}'.format(stats.mannwhitneyu(\n",
    "    orders[np.logical_and(orders['group'] == 'A',\n",
    "                          np.logical_not(orders['visitor_id'].isin(a_b_normal_visitors)))]['revenue'],\n",
    "    orders[np.logical_and(orders['group'] == 'B',\n",
    "                          np.logical_not(orders['visitor_id'].isin(a_b_normal_visitors)))]['revenue'])[1]))\n",
    "\n",
    "print('Относительные различия в среднем чеке между группами по \"очищенным\" данным: {0:.3f}'.format(\n",
    "    orders[np.logical_and(orders['group'] == 'B',\n",
    "                          np.logical_not(orders['visitor_id'].isin(a_b_normal_visitors)))]['revenue']\n",
    "    .mean() / orders[np.logical_and(orders['group'] == 'A',\n",
    "                                    np.logical_not(orders['visitor_id'].isin(a_b_normal_visitors)))]['revenue']\n",
    "    .mean() - 1))"
   ]
  },
  {
   "cell_type": "markdown",
   "metadata": {},
   "source": [
    "#### Вывод."
   ]
  },
  {
   "cell_type": "markdown",
   "metadata": {},
   "source": [
    "И по \"сырым\" и по \"очищенным\" данным P-value больше 0.05 - нулевую гипотезу не можем отвергнуть. Значит статистически значимых отличий в среднем чеке между группами нет.\n",
    "\n",
    "Относительные различия по \"сырым\" данным в среднем чеке группы **\"B\"** к группе **\"A\"** = *25.9%*.\n",
    "\n",
    "По **очищенным\"** =  *-2%*."
   ]
  },
  {
   "cell_type": "markdown",
   "metadata": {},
   "source": [
    "### Общий вывод."
   ]
  },
  {
   "cell_type": "markdown",
   "metadata": {},
   "source": [
    "1. Между группами **\"A\"** и **\"B\"**, есть статистически значимые различия в пользу группы **\"B\"** на не менее, чем *13.8%* конверсии группы **\"A\"** (как по сырым данным, так и по очищенным);\n",
    "2. Статистически значимого различия в величине среднего чека между группами нет (как по сырым данным, так и по очищенным)."
   ]
  },
  {
   "cell_type": "markdown",
   "metadata": {},
   "source": [
    "### 6. Принятие решения по результатам теста."
   ]
  },
  {
   "cell_type": "markdown",
   "metadata": {},
   "source": [
    "Тест можно остановить и считать успешным в пользу группы **\"B\"**, т.к. конверсия группы **\"B\"** статистически значимо выше при относительно том же среднем чеке. \n",
    "\n",
    "Так же по результатам теста можно отметить, что куммулятивная выручка группы **\"B\"** (почти 6млн.) значительно выше группы **\"A\"** (чуть больше 4млн).\n",
    "\n"
   ]
  },
  {
   "cell_type": "code",
   "execution_count": null,
   "metadata": {},
   "outputs": [],
   "source": []
  }
 ],
 "metadata": {
  "kernelspec": {
   "display_name": "Python 3",
   "language": "python",
   "name": "python3"
  },
  "language_info": {
   "codemirror_mode": {
    "name": "ipython",
    "version": 3
   },
   "file_extension": ".py",
   "mimetype": "text/x-python",
   "name": "python",
   "nbconvert_exporter": "python",
   "pygments_lexer": "ipython3",
   "version": "3.7.8"
  },
  "toc": {
   "base_numbering": 1,
   "nav_menu": {},
   "number_sections": false,
   "sideBar": true,
   "skip_h1_title": true,
   "title_cell": "Table of Contents",
   "title_sidebar": "Contents",
   "toc_cell": true,
   "toc_position": {
    "height": "609px",
    "left": "23px",
    "top": "110px",
    "width": "318.767px"
   },
   "toc_section_display": true,
   "toc_window_display": true
  }
 },
 "nbformat": 4,
 "nbformat_minor": 2
}
